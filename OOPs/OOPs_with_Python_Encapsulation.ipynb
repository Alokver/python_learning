{
 "cells": [
  {
   "cell_type": "markdown",
   "metadata": {},
   "source": [
    "Learning OOPs concept with Python. \n",
    "Implementation of OOPs 4 Pillars in Python."
   ]
  },
  {
   "cell_type": "markdown",
   "metadata": {},
   "source": [
    "1. Encapsulation\n",
    "As the name suggest encapsulation means action of enclosing something in or as if in a capsule.\n",
    "We create class and within class we define variables,methods etc. \n",
    "All the variable, methods are capsuled in a class. \n",
    "Scope of data/variables and methods are limited in a class and are accessed through class object only.\n",
    "So implementation of encapsulation leads to data hiding within a class.\n",
    "But it is wrong to say encapsulation means data hiding."
   ]
  },
  {
   "cell_type": "code",
   "execution_count": 3,
   "metadata": {},
   "outputs": [
    {
     "name": "stdout",
     "output_type": "stream",
     "text": [
      "within myclassmethod\n",
      "9\n",
      "###############################################\n"
     ]
    }
   ],
   "source": [
    "class myclass:\n",
    "    def myclassmethod(self,x,y):\n",
    "        self.x=x\n",
    "        self.y=y\n",
    "        print(\"within myclassmethod\")\n",
    "        return self.x+self.y\n",
    "    \n",
    "myobject=myclass()\n",
    "print(myobject.myclassmethod(4,5))\n",
    "\n",
    "print('###############################################')"
   ]
  },
  {
   "cell_type": "markdown",
   "metadata": {},
   "source": [
    "We cant use direct variable in class and use it.\n",
    "In below example we will get error."
   ]
  },
  {
   "cell_type": "code",
   "execution_count": 4,
   "metadata": {},
   "outputs": [
    {
     "name": "stdout",
     "output_type": "stream",
     "text": [
      "within myclassmethod2\n"
     ]
    },
    {
     "ename": "NameError",
     "evalue": "name 'myclass2var' is not defined",
     "output_type": "error",
     "traceback": [
      "\u001b[1;31m---------------------------------------------------------------------------\u001b[0m",
      "\u001b[1;31mNameError\u001b[0m                                 Traceback (most recent call last)",
      "\u001b[1;32m<ipython-input-4-b8c74e05b11f>\u001b[0m in \u001b[0;36m<module>\u001b[1;34m()\u001b[0m\n\u001b[0;32m      9\u001b[0m \u001b[1;33m\u001b[0m\u001b[0m\n\u001b[0;32m     10\u001b[0m \u001b[0mmyobject\u001b[0m\u001b[1;33m=\u001b[0m\u001b[0mmyclass2\u001b[0m\u001b[1;33m(\u001b[0m\u001b[1;33m)\u001b[0m\u001b[1;33m\u001b[0m\u001b[0m\n\u001b[1;32m---> 11\u001b[1;33m \u001b[0mprint\u001b[0m\u001b[1;33m(\u001b[0m\u001b[0mmyobject\u001b[0m\u001b[1;33m.\u001b[0m\u001b[0mmyclassmethod2\u001b[0m\u001b[1;33m(\u001b[0m\u001b[1;36m4\u001b[0m\u001b[1;33m,\u001b[0m\u001b[1;36m51\u001b[0m\u001b[1;33m)\u001b[0m\u001b[1;33m)\u001b[0m\u001b[1;33m\u001b[0m\u001b[0m\n\u001b[0m\u001b[0;32m     12\u001b[0m \u001b[1;33m\u001b[0m\u001b[0m\n\u001b[0;32m     13\u001b[0m \u001b[0mprint\u001b[0m\u001b[1;33m(\u001b[0m\u001b[1;34m'###############################################'\u001b[0m\u001b[1;33m)\u001b[0m\u001b[1;33m\u001b[0m\u001b[0m\n",
      "\u001b[1;32m<ipython-input-4-b8c74e05b11f>\u001b[0m in \u001b[0;36mmyclassmethod2\u001b[1;34m(self, x, y)\u001b[0m\n\u001b[0;32m      5\u001b[0m         \u001b[0mself\u001b[0m\u001b[1;33m.\u001b[0m\u001b[0my\u001b[0m\u001b[1;33m=\u001b[0m\u001b[0my\u001b[0m\u001b[1;33m\u001b[0m\u001b[0m\n\u001b[0;32m      6\u001b[0m         \u001b[0mprint\u001b[0m\u001b[1;33m(\u001b[0m\u001b[1;34m\"within myclassmethod2\"\u001b[0m\u001b[1;33m)\u001b[0m\u001b[1;33m\u001b[0m\u001b[0m\n\u001b[1;32m----> 7\u001b[1;33m         \u001b[1;32mreturn\u001b[0m \u001b[0mself\u001b[0m\u001b[1;33m.\u001b[0m\u001b[0mx\u001b[0m\u001b[1;33m+\u001b[0m\u001b[0mself\u001b[0m\u001b[1;33m.\u001b[0m\u001b[0my\u001b[0m\u001b[1;33m+\u001b[0m\u001b[0mmyclass2var\u001b[0m\u001b[1;33m\u001b[0m\u001b[0m\n\u001b[0m\u001b[0;32m      8\u001b[0m     \u001b[1;31m# here it will give error as method is unable to recognise myclassvar\u001b[0m\u001b[1;33m\u001b[0m\u001b[1;33m\u001b[0m\u001b[0m\n\u001b[0;32m      9\u001b[0m \u001b[1;33m\u001b[0m\u001b[0m\n",
      "\u001b[1;31mNameError\u001b[0m: name 'myclass2var' is not defined"
     ]
    }
   ],
   "source": [
    "class myclass2:\n",
    "    myclass2var=100\n",
    "    def myclassmethod2(self,x,y):\n",
    "        self.x=x\n",
    "        self.y=y\n",
    "        print(\"within myclassmethod2\")\n",
    "        return self.x+self.y+myclass2var \n",
    "    # here it will give error as method is unable to recognise myclassvar\n",
    "    \n",
    "myobject=myclass2()\n",
    "print(myobject.myclassmethod2(4,51))\n",
    "\n",
    "print('###############################################')\n",
    "      \n"
   ]
  },
  {
   "cell_type": "markdown",
   "metadata": {},
   "source": [
    "Below is the example of how we can declare and use class variable using init"
   ]
  },
  {
   "cell_type": "code",
   "execution_count": 5,
   "metadata": {},
   "outputs": [
    {
     "name": "stdout",
     "output_type": "stream",
     "text": [
      "within init\n",
      "146\n",
      "###############################################\n"
     ]
    }
   ],
   "source": [
    "class myclass3:\n",
    "    #myclassvar=100\n",
    "    def __init__(self):\n",
    "        print(\"within init\")\n",
    "        self.myclassvar=100\n",
    "    def myclassmethod3(self,x,y):\n",
    "        self.x=x\n",
    "        self.y=y\n",
    "        return self.x+self.y+self.myclassvar\n",
    "    \n",
    "myobject=myclass3()\n",
    "print(myobject.myclassmethod3(41,5))\n",
    "print('###############################################')"
   ]
  },
  {
   "cell_type": "markdown",
   "metadata": {},
   "source": [
    "In above 2 examples we have checked that we can create class without init also.\n",
    "So what is init() function? It is an initializer. It is not a constructor.\n",
    "Initializer is called after object is created and constructor is called before object creation.\n",
    "But till now we have not used constructor in python. We have used \"__init__()\" function in example 2.\n",
    "Lets see how constructor and initializer works."
   ]
  },
  {
   "cell_type": "code",
   "execution_count": 6,
   "metadata": {},
   "outputs": [
    {
     "name": "stdout",
     "output_type": "stream",
     "text": [
      "within new\n",
      "within init\n",
      "###############################################\n",
      "within myclassmethod4\n",
      "146\n",
      "###############################################\n"
     ]
    }
   ],
   "source": [
    "class myclass4(object):\n",
    "    def __new__(cls):\n",
    "        print(\"within new\")\n",
    "        return object.__new__(cls)\n",
    "    def __init__(self):\n",
    "        print(\"within init\")\n",
    "        self.myclassvar=100\n",
    "    def myclassmethod4(self,x,y):\n",
    "        self.x=x\n",
    "        self.y=y\n",
    "        print(\"within myclassmethod4\")\n",
    "        return self.x+self.y+self.myclassvar\n",
    "    \n",
    "myobject=myclass4()\n",
    "print('###############################################')\n",
    "print(myobject.myclassmethod4(41,5))\n",
    "print('###############################################')"
   ]
  },
  {
   "cell_type": "markdown",
   "metadata": {},
   "source": [
    "In above example we can see that 1st new is called then init and then the function we have called. \n",
    "It might confuse you as they are in order. Lets change the order of function in below example."
   ]
  },
  {
   "cell_type": "code",
   "execution_count": 7,
   "metadata": {},
   "outputs": [
    {
     "name": "stdout",
     "output_type": "stream",
     "text": [
      "within new\n",
      "within init\n",
      "###############################################\n",
      "within myclassmethod5\n",
      "292\n",
      "###############################################\n"
     ]
    }
   ],
   "source": [
    "class myclass5(object):\n",
    "    def __init__(self):\n",
    "        print(\"within init\")\n",
    "        self.myclassvar=200\n",
    "    def myclassmethod5(self,x,y):\n",
    "        self.x=x\n",
    "        self.y=y\n",
    "        print(\"within myclassmethod5\")\n",
    "        return self.x+self.y+self.myclassvar\n",
    "    def __new__(cls):\n",
    "        print(\"within new\")\n",
    "        return object.__new__(cls)\n",
    "    \n",
    "myobject=myclass5()\n",
    "print('###############################################')\n",
    "print(myobject.myclassmethod5(41,51))\n",
    "print('###############################################')"
   ]
  },
  {
   "cell_type": "markdown",
   "metadata": {},
   "source": [
    "Why we are studying __new__ and __init__? we were focussing on encapsulation.\n",
    "So a class encapsulates methods and variables. Just shown you how to declare and populate class variable in __init__ .\n",
    "And __init__ leads us to __new__ function\n",
    "\n",
    "Lets see more on class variables."
   ]
  },
  {
   "cell_type": "code",
   "execution_count": 9,
   "metadata": {},
   "outputs": [
    {
     "name": "stdout",
     "output_type": "stream",
     "text": [
      "within new\n",
      "within init\n",
      "###############################################\n",
      "400\n",
      "200\n"
     ]
    },
    {
     "ename": "AttributeError",
     "evalue": "'myclass6' object has no attribute 'x'",
     "output_type": "error",
     "traceback": [
      "\u001b[1;31m---------------------------------------------------------------------------\u001b[0m",
      "\u001b[1;31mAttributeError\u001b[0m                            Traceback (most recent call last)",
      "\u001b[1;32m<ipython-input-9-a7c181da42a2>\u001b[0m in \u001b[0;36m<module>\u001b[1;34m()\u001b[0m\n\u001b[0;32m     17\u001b[0m \u001b[0mprint\u001b[0m\u001b[1;33m(\u001b[0m\u001b[0mmyobject\u001b[0m\u001b[1;33m.\u001b[0m\u001b[0mmyvar\u001b[0m\u001b[1;33m)\u001b[0m\u001b[1;33m\u001b[0m\u001b[0m\n\u001b[0;32m     18\u001b[0m \u001b[0mprint\u001b[0m\u001b[1;33m(\u001b[0m\u001b[0mmyobject\u001b[0m\u001b[1;33m.\u001b[0m\u001b[0mmyclassvar\u001b[0m\u001b[1;33m)\u001b[0m\u001b[1;33m\u001b[0m\u001b[0m\n\u001b[1;32m---> 19\u001b[1;33m \u001b[0mprint\u001b[0m\u001b[1;33m(\u001b[0m\u001b[0mmyobject\u001b[0m\u001b[1;33m.\u001b[0m\u001b[0mx\u001b[0m\u001b[1;33m)\u001b[0m\u001b[1;33m\u001b[0m\u001b[0m\n\u001b[0m\u001b[0;32m     20\u001b[0m \u001b[0mprint\u001b[0m\u001b[1;33m(\u001b[0m\u001b[0mmyobject\u001b[0m\u001b[1;33m.\u001b[0m\u001b[0my\u001b[0m\u001b[1;33m)\u001b[0m\u001b[1;33m\u001b[0m\u001b[0m\n\u001b[0;32m     21\u001b[0m \u001b[0mprint\u001b[0m\u001b[1;33m(\u001b[0m\u001b[1;34m'###############################################'\u001b[0m\u001b[1;33m)\u001b[0m\u001b[1;33m\u001b[0m\u001b[0m\n",
      "\u001b[1;31mAttributeError\u001b[0m: 'myclass6' object has no attribute 'x'"
     ]
    }
   ],
   "source": [
    "class myclass6(object):\n",
    "    myvar=400\n",
    "    def __init__(self):\n",
    "        print(\"within init\")\n",
    "        self.myclassvar=200\n",
    "    def myclassmethod6(self,x,y):\n",
    "        self.x=x\n",
    "        self.y=y\n",
    "        print(\"within myclassmethod6\")\n",
    "        return self.x+self.y+self.myclassvar\n",
    "    def __new__(cls):\n",
    "        print(\"within new\")\n",
    "        return object.__new__(cls)\n",
    "    \n",
    "myobject=myclass6()\n",
    "print('###############################################')\n",
    "print(myobject.myvar)\n",
    "print(myobject.myclassvar)\n",
    "print(myobject.x)\n",
    "print(myobject.y)\n",
    "print('###############################################')\n",
    "print(myobject.myclassmethod6(41,51))\n",
    "print('###############################################')"
   ]
  },
  {
   "cell_type": "markdown",
   "metadata": {},
   "source": [
    "Here we can see that we are able to access myvar and myclassvar from class variables.\n",
    "And unable to do so for x and y variable because x and y are being created in myclassmethod6. \n",
    "Lets see in further example. after the method is called the system recognises x and y"
   ]
  },
  {
   "cell_type": "code",
   "execution_count": 13,
   "metadata": {},
   "outputs": [
    {
     "name": "stdout",
     "output_type": "stream",
     "text": [
      "within new\n",
      "within init\n",
      "myvar: 400\n",
      "myclassvar: 200\n",
      "within myclassmethod6\n",
      "292\n",
      "myvar: 400\n",
      "myclassvar: 200\n",
      "x: 41\n",
      "y: 51\n"
     ]
    }
   ],
   "source": [
    "class myclass6(object):\n",
    "    myvar=400\n",
    "    def __init__(self):\n",
    "        print(\"within init\")\n",
    "        self.myclassvar=200\n",
    "    def myclassmethod6(self,x,y):\n",
    "        self.x=x\n",
    "        self.y=y\n",
    "        print(\"within myclassmethod6\")\n",
    "        return self.x+self.y+self.myclassvar\n",
    "    def __new__(cls):\n",
    "        print(\"within new\")\n",
    "        return object.__new__(cls)\n",
    "    \n",
    "myobject=myclass6()\n",
    "print(\"myvar: \"+str(myobject.myvar))\n",
    "print(\"myclassvar: \"+str(myobject.myclassvar))\n",
    "print(myobject.myclassmethod6(41,51))  #method is called\n",
    "print(\"myvar: \"+str(myobject.myvar))\n",
    "print(\"myclassvar: \"+str(myobject.myclassvar))\n",
    "print(\"x: \"+str(myobject.x))\n",
    "print(\"y: \"+str(myobject.y))"
   ]
  },
  {
   "cell_type": "markdown",
   "metadata": {},
   "source": [
    "lets try to modify class variables"
   ]
  },
  {
   "cell_type": "code",
   "execution_count": 4,
   "metadata": {},
   "outputs": [
    {
     "name": "stdout",
     "output_type": "stream",
     "text": [
      "within new\n",
      "within init\n",
      "myvar: 400\n",
      "myclassvar: 200\n",
      "myobject.myvar: 1000\n",
      "myobject.myclassvar: 2000\n",
      "within myclassmethod7\n",
      "2092\n",
      "x: 41\n",
      "y: 51\n",
      "x: 4000\n",
      "y: 6000\n",
      "within myclassmethod7\n",
      "2920\n",
      "x: 410\n",
      "y: 510\n",
      "myobject.__class__.myvar: 400\n"
     ]
    },
    {
     "ename": "AttributeError",
     "evalue": "type object 'myclass7' has no attribute 'myclassvar'",
     "output_type": "error",
     "traceback": [
      "\u001b[1;31m---------------------------------------------------------------------------\u001b[0m",
      "\u001b[1;31mAttributeError\u001b[0m                            Traceback (most recent call last)",
      "\u001b[1;32m<ipython-input-4-b652cf02ee30>\u001b[0m in \u001b[0;36m<module>\u001b[1;34m()\u001b[0m\n\u001b[0;32m     31\u001b[0m \u001b[0mprint\u001b[0m\u001b[1;33m(\u001b[0m\u001b[1;34m\"y: \"\u001b[0m\u001b[1;33m+\u001b[0m\u001b[0mstr\u001b[0m\u001b[1;33m(\u001b[0m\u001b[0mmyobject\u001b[0m\u001b[1;33m.\u001b[0m\u001b[0my\u001b[0m\u001b[1;33m)\u001b[0m\u001b[1;33m)\u001b[0m\u001b[1;33m\u001b[0m\u001b[0m\n\u001b[0;32m     32\u001b[0m \u001b[0mprint\u001b[0m\u001b[1;33m(\u001b[0m\u001b[1;34m\"myobject.__class__.myvar: \"\u001b[0m\u001b[1;33m+\u001b[0m\u001b[0mstr\u001b[0m\u001b[1;33m(\u001b[0m\u001b[0mmyobject\u001b[0m\u001b[1;33m.\u001b[0m\u001b[0m__class__\u001b[0m\u001b[1;33m.\u001b[0m\u001b[0mmyvar\u001b[0m\u001b[1;33m)\u001b[0m\u001b[1;33m)\u001b[0m\u001b[1;33m\u001b[0m\u001b[0m\n\u001b[1;32m---> 33\u001b[1;33m \u001b[0mprint\u001b[0m\u001b[1;33m(\u001b[0m\u001b[1;34m\"myobject.__class__.myclassvar: \"\u001b[0m\u001b[1;33m+\u001b[0m\u001b[0mstr\u001b[0m\u001b[1;33m(\u001b[0m\u001b[0mmyobject\u001b[0m\u001b[1;33m.\u001b[0m\u001b[0m__class__\u001b[0m\u001b[1;33m.\u001b[0m\u001b[0mmyclassvar\u001b[0m\u001b[1;33m)\u001b[0m\u001b[1;33m)\u001b[0m\u001b[1;33m\u001b[0m\u001b[0m\n\u001b[0m",
      "\u001b[1;31mAttributeError\u001b[0m: type object 'myclass7' has no attribute 'myclassvar'"
     ]
    }
   ],
   "source": [
    "class myclass7(object):\n",
    "    myvar=400\n",
    "    def __init__(self):\n",
    "        print(\"within init\")\n",
    "        self.myclassvar=200\n",
    "    def myclassmethod7(self,x,y):\n",
    "        self.x=x\n",
    "        self.y=y\n",
    "        print(\"within myclassmethod7\")\n",
    "        return self.x+self.y+self.myclassvar\n",
    "    def __new__(cls):\n",
    "        print(\"within new\")\n",
    "        return object.__new__(cls)\n",
    "    \n",
    "myobject=myclass7()\n",
    "print(\"myvar: \"+str(myobject.myvar))\n",
    "print(\"myclassvar: \"+str(myobject.myclassvar))\n",
    "myobject.myvar=1000\n",
    "myobject.myclassvar=2000\n",
    "print(\"myobject.myvar: \"+str(myobject.myvar))\n",
    "print(\"myobject.myclassvar: \"+str(myobject.myclassvar))\n",
    "print(myobject.myclassmethod7(41,51))  #method is called\n",
    "print(\"x: \"+str(myobject.x))\n",
    "print(\"y: \"+str(myobject.y))\n",
    "myobject.x=4000\n",
    "myobject.y=6000\n",
    "print(\"x: \"+str(myobject.x))\n",
    "print(\"y: \"+str(myobject.y))\n",
    "print(myobject.myclassmethod7(410,510)) \n",
    "print(\"x: \"+str(myobject.x))\n",
    "print(\"y: \"+str(myobject.y))\n",
    "print(\"myobject.__class__.myvar: \"+str(myobject.__class__.myvar))\n",
    "print(\"myobject.__class__.myclassvar: \"+str(myobject.__class__.myclassvar))"
   ]
  },
  {
   "cell_type": "markdown",
   "metadata": {},
   "source": [
    "As you can see above, we are able to modify all class variables. Variable myclassvar is updated and updated value is used in method. \n",
    "\n",
    "x and y are updated but again when passed as arguments in method then x and y are replaced with those values. One more notation I have used to access the class variable myvar. But same notation gives error while accessing myclassvar.\n",
    "\n",
    "Can we create variable that cannot be modified outside the class? Yes. That is called private variable and we use __ (double underscore) in start of variable name"
   ]
  },
  {
   "cell_type": "code",
   "execution_count": 18,
   "metadata": {},
   "outputs": [
    {
     "name": "stdout",
     "output_type": "stream",
     "text": [
      "within new\n",
      "within init\n"
     ]
    },
    {
     "ename": "AttributeError",
     "evalue": "'myclass8' object has no attribute '__myvar'",
     "output_type": "error",
     "traceback": [
      "\u001b[1;31m---------------------------------------------------------------------------\u001b[0m",
      "\u001b[1;31mAttributeError\u001b[0m                            Traceback (most recent call last)",
      "\u001b[1;32m<ipython-input-18-d358aed9f990>\u001b[0m in \u001b[0;36m<module>\u001b[1;34m()\u001b[0m\n\u001b[0;32m     16\u001b[0m \u001b[1;33m\u001b[0m\u001b[0m\n\u001b[0;32m     17\u001b[0m \u001b[0mmyobject\u001b[0m\u001b[1;33m=\u001b[0m\u001b[0mmyclass8\u001b[0m\u001b[1;33m(\u001b[0m\u001b[1;33m)\u001b[0m\u001b[1;33m\u001b[0m\u001b[0m\n\u001b[1;32m---> 18\u001b[1;33m \u001b[0mprint\u001b[0m\u001b[1;33m(\u001b[0m\u001b[1;34m\"myvar: \"\u001b[0m\u001b[1;33m+\u001b[0m\u001b[0mstr\u001b[0m\u001b[1;33m(\u001b[0m\u001b[0mmyobject\u001b[0m\u001b[1;33m.\u001b[0m\u001b[0m__myvar\u001b[0m\u001b[1;33m)\u001b[0m\u001b[1;33m)\u001b[0m\u001b[1;33m\u001b[0m\u001b[0m\n\u001b[0m\u001b[0;32m     19\u001b[0m \u001b[0mprint\u001b[0m\u001b[1;33m(\u001b[0m\u001b[1;34m\"myclassvar: \"\u001b[0m\u001b[1;33m+\u001b[0m\u001b[0mstr\u001b[0m\u001b[1;33m(\u001b[0m\u001b[0mmyobject\u001b[0m\u001b[1;33m.\u001b[0m\u001b[0m__myclassvar\u001b[0m\u001b[1;33m)\u001b[0m\u001b[1;33m)\u001b[0m\u001b[1;33m\u001b[0m\u001b[0m\n\u001b[0;32m     20\u001b[0m \u001b[0mmyobject\u001b[0m\u001b[1;33m.\u001b[0m\u001b[0m__myvar\u001b[0m\u001b[1;33m=\u001b[0m\u001b[1;36m1000\u001b[0m\u001b[1;33m\u001b[0m\u001b[0m\n",
      "\u001b[1;31mAttributeError\u001b[0m: 'myclass8' object has no attribute '__myvar'"
     ]
    }
   ],
   "source": [
    "class myclass8(object):\n",
    "    myvar=400\n",
    "    __myvar=500\n",
    "    def __init__(self):\n",
    "        print(\"within init\")\n",
    "        self.myclassvar=200\n",
    "        self.__myclassvar=200\n",
    "    def myclassmethod8(self,x,y):\n",
    "        self.x=x\n",
    "        self.y=y\n",
    "        print(\"within myclassmethod8\")\n",
    "        return self.x+self.y+self.myclassvar\n",
    "    def __new__(cls):\n",
    "        print(\"within new\")\n",
    "        return object.__new__(cls)\n",
    "    \n",
    "myobject=myclass8()\n",
    "print(\"myvar: \"+str(myobject.__myvar))\n",
    "print(\"myclassvar: \"+str(myobject.__myclassvar))\n",
    "myobject.__myvar=1000\n",
    "myobject.__myclassvar=2000\n",
    "print(\"myvar: \"+str(myobject.__myvar))\n",
    "print(\"myclassvar: \"+str(myobject.__myclassvar))\n",
    "print(myobject.myclassmethod8(41,51))  #method is called\n",
    "print(\"x: \"+str(myobject.x))\n",
    "print(\"y: \"+str(myobject.y))\n",
    "myobject.x=4000\n",
    "myobject.y=6000\n",
    "print(\"x: \"+str(myobject.x))\n",
    "print(\"y: \"+str(myobject.y))\n",
    "print(myobject.myclassmethod8(410,510)) \n",
    "print(\"x: \"+str(myobject.x))\n",
    "print(\"y: \"+str(myobject.y))"
   ]
  },
  {
   "cell_type": "markdown",
   "metadata": {},
   "source": [
    "We can see here that we are unable to print the value of variable __myvar in class. The modification is still far.\n"
   ]
  },
  {
   "cell_type": "code",
   "execution_count": 20,
   "metadata": {},
   "outputs": [
    {
     "name": "stdout",
     "output_type": "stream",
     "text": [
      "within new\n",
      "within init\n",
      "within myclassmethod9\n",
      "392\n",
      "x: 41\n",
      "y: 51\n",
      "x: 4000\n",
      "y: 6000\n",
      "within myclassmethod9\n",
      "1220\n",
      "x: 410\n",
      "y: 510\n"
     ]
    }
   ],
   "source": [
    "class myclass9(object):\n",
    "    myvar=400\n",
    "    __myvar=500\n",
    "    def __init__(self):\n",
    "        print(\"within init\")\n",
    "        self.myclassvar=200\n",
    "        self.__myclassvar=300\n",
    "    def myclassmethod9(self,x,y):\n",
    "        self.x=x\n",
    "        self.y=y\n",
    "        print(\"within myclassmethod9\")\n",
    "        return self.x+self.y+self.__myclassvar\n",
    "    def __new__(cls):\n",
    "        print(\"within new\")\n",
    "        return object.__new__(cls)\n",
    "    \n",
    "myobject=myclass9()\n",
    "print(myobject.myclassmethod9(41,51))  #method is called\n",
    "print(\"x: \"+str(myobject.x))\n",
    "print(\"y: \"+str(myobject.y))\n",
    "myobject.x=4000\n",
    "myobject.y=6000\n",
    "print(\"x: \"+str(myobject.x))\n",
    "print(\"y: \"+str(myobject.y))\n",
    "print(myobject.myclassmethod9(410,510)) \n",
    "print(\"x: \"+str(myobject.x))\n",
    "print(\"y: \"+str(myobject.y))"
   ]
  },
  {
   "cell_type": "code",
   "execution_count": 22,
   "metadata": {},
   "outputs": [
    {
     "name": "stdout",
     "output_type": "stream",
     "text": [
      "within new\n",
      "within init\n",
      "within myclassmethod10\n",
      "392\n"
     ]
    },
    {
     "ename": "AttributeError",
     "evalue": "'myclass10' object has no attribute '__x'",
     "output_type": "error",
     "traceback": [
      "\u001b[1;31m---------------------------------------------------------------------------\u001b[0m",
      "\u001b[1;31mAttributeError\u001b[0m                            Traceback (most recent call last)",
      "\u001b[1;32m<ipython-input-22-154e180ec31b>\u001b[0m in \u001b[0;36m<module>\u001b[1;34m()\u001b[0m\n\u001b[0;32m     17\u001b[0m \u001b[0mmyobject\u001b[0m\u001b[1;33m=\u001b[0m\u001b[0mmyclass10\u001b[0m\u001b[1;33m(\u001b[0m\u001b[1;33m)\u001b[0m\u001b[1;33m\u001b[0m\u001b[0m\n\u001b[0;32m     18\u001b[0m \u001b[0mprint\u001b[0m\u001b[1;33m(\u001b[0m\u001b[0mmyobject\u001b[0m\u001b[1;33m.\u001b[0m\u001b[0mmyclassmethod10\u001b[0m\u001b[1;33m(\u001b[0m\u001b[1;36m41\u001b[0m\u001b[1;33m,\u001b[0m\u001b[1;36m51\u001b[0m\u001b[1;33m)\u001b[0m\u001b[1;33m)\u001b[0m  \u001b[1;31m#method is called\u001b[0m\u001b[1;33m\u001b[0m\u001b[0m\n\u001b[1;32m---> 19\u001b[1;33m \u001b[0mprint\u001b[0m\u001b[1;33m(\u001b[0m\u001b[1;34m\"__x: \"\u001b[0m\u001b[1;33m+\u001b[0m\u001b[0mstr\u001b[0m\u001b[1;33m(\u001b[0m\u001b[0mmyobject\u001b[0m\u001b[1;33m.\u001b[0m\u001b[0m__x\u001b[0m\u001b[1;33m)\u001b[0m\u001b[1;33m)\u001b[0m\u001b[1;33m\u001b[0m\u001b[0m\n\u001b[0m\u001b[0;32m     20\u001b[0m \u001b[0mprint\u001b[0m\u001b[1;33m(\u001b[0m\u001b[1;34m\"__y: \"\u001b[0m\u001b[1;33m+\u001b[0m\u001b[0mstr\u001b[0m\u001b[1;33m(\u001b[0m\u001b[0mmyobject\u001b[0m\u001b[1;33m.\u001b[0m\u001b[0m__y\u001b[0m\u001b[1;33m)\u001b[0m\u001b[1;33m)\u001b[0m\u001b[1;33m\u001b[0m\u001b[0m\n\u001b[0;32m     21\u001b[0m \u001b[0mmyobject\u001b[0m\u001b[1;33m.\u001b[0m\u001b[0m__x\u001b[0m\u001b[1;33m=\u001b[0m\u001b[1;36m4000\u001b[0m\u001b[1;33m\u001b[0m\u001b[0m\n",
      "\u001b[1;31mAttributeError\u001b[0m: 'myclass10' object has no attribute '__x'"
     ]
    }
   ],
   "source": [
    "class myclass10(object):\n",
    "    myvar=400\n",
    "    __myvar=500\n",
    "    def __init__(self):\n",
    "        print(\"within init\")\n",
    "        self.myclassvar=200\n",
    "        self.__myclassvar=300\n",
    "    def myclassmethod10(self,x,y):\n",
    "        self.__x=x\n",
    "        self.__y=y\n",
    "        print(\"within myclassmethod10\")\n",
    "        return self.__x+self.__y+self.__myclassvar\n",
    "    def __new__(cls):\n",
    "        print(\"within new\")\n",
    "        return object.__new__(cls)\n",
    "    \n",
    "myobject=myclass10()\n",
    "print(myobject.myclassmethod10(41,51))  #method is called\n",
    "print(\"__x: \"+str(myobject.__x))\n",
    "print(\"__y: \"+str(myobject.__y))\n",
    "myobject.__x=4000\n",
    "myobject.__y=6000\n",
    "print(\"__x: \"+str(myobject.__x))\n",
    "print(\"__y: \"+str(myobject.__y))\n",
    "print(myobject.myclassmethod10(410,510)) \n",
    "print(\"__x: \"+str(myobject.__x))\n",
    "print(\"__y: \"+str(myobject.__y))"
   ]
  },
  {
   "cell_type": "markdown",
   "metadata": {},
   "source": [
    "But there is a way to access private variables and modify them. This used to avoid confusion during inheritance."
   ]
  },
  {
   "cell_type": "code",
   "execution_count": 34,
   "metadata": {},
   "outputs": [
    {
     "name": "stdout",
     "output_type": "stream",
     "text": [
      "within new\n",
      "within init\n",
      "within myclassmethod11\n",
      "762\n",
      "__myvar: 500\n",
      "__myclassvar: 300\n",
      "__myclassvar: 999\n",
      "__x: 411\n",
      "__y: 51\n",
      "__y: 980\n"
     ]
    }
   ],
   "source": [
    "class myclass11(object):\n",
    "    myvar=400\n",
    "    __myvar=500\n",
    "    def __init__(self):\n",
    "        print(\"within init\")\n",
    "        self.myclassvar=200\n",
    "        self.__myclassvar=300\n",
    "    def myclassmethod11(self,x,y):\n",
    "        self.__x=x\n",
    "        self.__y=y\n",
    "        print(\"within myclassmethod11\")\n",
    "        return self.__x+self.__y+self.__myclassvar\n",
    "    def __new__(cls):\n",
    "        print(\"within new\")\n",
    "        return object.__new__(cls)\n",
    "    \n",
    "myobject=myclass11()\n",
    "print(myobject.myclassmethod11(411,51))  #method is called\n",
    "print(\"__myvar: \"+str(myobject._myclass11__myvar))\n",
    "print(\"__myclassvar: \"+str(myobject._myclass11__myclassvar))\n",
    "myobject._myclass11__myclassvar=999\n",
    "print(\"__myclassvar: \"+str(myobject._myclass11__myclassvar))\n",
    "print(\"__x: \"+str(myobject._myclass11__x))\n",
    "print(\"__y: \"+str(myobject._myclass11__y))\n",
    "myobject._myclass11__y=980\n",
    "print(\"__y: \"+str(myobject._myclass11__y))"
   ]
  },
  {
   "cell_type": "markdown",
   "metadata": {},
   "source": [
    "On adding __ we can make a variable private to class and the variable can be used within the class only. Similarly we can make a function private also."
   ]
  },
  {
   "cell_type": "code",
   "execution_count": 35,
   "metadata": {},
   "outputs": [
    {
     "name": "stdout",
     "output_type": "stream",
     "text": [
      "within new\n",
      "within init\n",
      "within myclassmethod11\n",
      "762\n"
     ]
    },
    {
     "ename": "AttributeError",
     "evalue": "'myclass11' object has no attribute '_myclassmethod11'",
     "output_type": "error",
     "traceback": [
      "\u001b[1;31m---------------------------------------------------------------------------\u001b[0m",
      "\u001b[1;31mAttributeError\u001b[0m                            Traceback (most recent call last)",
      "\u001b[1;32m<ipython-input-35-b13109fbd0d8>\u001b[0m in \u001b[0;36m<module>\u001b[1;34m()\u001b[0m\n\u001b[0;32m     22\u001b[0m \u001b[0mmyobject\u001b[0m\u001b[1;33m=\u001b[0m\u001b[0mmyclass11\u001b[0m\u001b[1;33m(\u001b[0m\u001b[1;33m)\u001b[0m\u001b[1;33m\u001b[0m\u001b[0m\n\u001b[0;32m     23\u001b[0m \u001b[0mprint\u001b[0m\u001b[1;33m(\u001b[0m\u001b[0mmyobject\u001b[0m\u001b[1;33m.\u001b[0m\u001b[0mmyclassmethod11\u001b[0m\u001b[1;33m(\u001b[0m\u001b[1;36m411\u001b[0m\u001b[1;33m,\u001b[0m\u001b[1;36m51\u001b[0m\u001b[1;33m)\u001b[0m\u001b[1;33m)\u001b[0m  \u001b[1;31m#method is called\u001b[0m\u001b[1;33m\u001b[0m\u001b[0m\n\u001b[1;32m---> 24\u001b[1;33m \u001b[0mprint\u001b[0m\u001b[1;33m(\u001b[0m\u001b[0mmyobject\u001b[0m\u001b[1;33m.\u001b[0m\u001b[0m_myclassmethod11\u001b[0m\u001b[1;33m(\u001b[0m\u001b[1;36m410\u001b[0m\u001b[1;33m,\u001b[0m\u001b[1;36m510\u001b[0m\u001b[1;33m)\u001b[0m\u001b[1;33m)\u001b[0m\u001b[1;33m\u001b[0m\u001b[0m\n\u001b[0m\u001b[0;32m     25\u001b[0m \u001b[0mprint\u001b[0m\u001b[1;33m(\u001b[0m\u001b[1;34m\"x: \"\u001b[0m\u001b[1;33m+\u001b[0m\u001b[0mstr\u001b[0m\u001b[1;33m(\u001b[0m\u001b[0mmyobject\u001b[0m\u001b[1;33m.\u001b[0m\u001b[0mx\u001b[0m\u001b[1;33m)\u001b[0m\u001b[1;33m)\u001b[0m\u001b[1;33m\u001b[0m\u001b[0m\n\u001b[0;32m     26\u001b[0m \u001b[0mprint\u001b[0m\u001b[1;33m(\u001b[0m\u001b[1;34m\"y: \"\u001b[0m\u001b[1;33m+\u001b[0m\u001b[0mstr\u001b[0m\u001b[1;33m(\u001b[0m\u001b[0mmyobject\u001b[0m\u001b[1;33m.\u001b[0m\u001b[0my\u001b[0m\u001b[1;33m)\u001b[0m\u001b[1;33m)\u001b[0m\u001b[1;33m\u001b[0m\u001b[0m\n",
      "\u001b[1;31mAttributeError\u001b[0m: 'myclass11' object has no attribute '_myclassmethod11'"
     ]
    }
   ],
   "source": [
    "class myclass11(object):\n",
    "    myvar=400\n",
    "    __myvar=500\n",
    "    def __init__(self):\n",
    "        print(\"within init\")\n",
    "        self.myclassvar=200\n",
    "        self.__myclassvar=300\n",
    "    def myclassmethod11(self,x,y):\n",
    "        self.__x=x\n",
    "        self.__y=y\n",
    "        print(\"within myclassmethod11\")\n",
    "        return self.__x+self.__y+self.__myclassvar\n",
    "    def __myclassmethod11(self,x,y):\n",
    "        self.x=x\n",
    "        self.y=y\n",
    "        print(\"within __myclassmethod11\")\n",
    "        return self.x+self.y-self.myclassvar\n",
    "    def __new__(cls):\n",
    "        print(\"within new\")\n",
    "        return object.__new__(cls)\n",
    "    \n",
    "myobject=myclass11()\n",
    "print(myobject.myclassmethod11(411,51))  #method is called\n",
    "print(myobject._myclassmethod11(410,510)) \n",
    "print(\"x: \"+str(myobject.x))\n",
    "print(\"y: \"+str(myobject.y))"
   ]
  },
  {
   "cell_type": "markdown",
   "metadata": {},
   "source": [
    "Here __myclassmethod11 is private to class. But using one syntax we can access the private function"
   ]
  },
  {
   "cell_type": "code",
   "execution_count": 38,
   "metadata": {},
   "outputs": [
    {
     "name": "stdout",
     "output_type": "stream",
     "text": [
      "within new\n",
      "within init\n",
      "within myclassmethod12\n",
      "762\n",
      "within __myclassmethod12\n",
      "720\n",
      "x: 410\n",
      "y: 510\n"
     ]
    }
   ],
   "source": [
    "class myclass12(object):\n",
    "    myvar=400\n",
    "    __myvar=500\n",
    "    def __init__(self):\n",
    "        print(\"within init\")\n",
    "        self.myclassvar=200\n",
    "        self.__myclassvar=300\n",
    "    def myclassmethod12(self,x,y):\n",
    "        self.__x=x\n",
    "        self.__y=y\n",
    "        print(\"within myclassmethod12\")\n",
    "        return self.__x+self.__y+self.__myclassvar\n",
    "    def __myclassmethod12(self,x,y):\n",
    "        self.x=x\n",
    "        self.y=y\n",
    "        print(\"within __myclassmethod12\")\n",
    "        return self.x+self.y-self.myclassvar\n",
    "    def __new__(cls):\n",
    "        print(\"within new\")\n",
    "        return object.__new__(cls)\n",
    "    \n",
    "myobject=myclass12()\n",
    "print(myobject.myclassmethod12(411,51))  #method is called\n",
    "print(myobject._myclass12__myclassmethod12(410,510)) \n",
    "print(\"x: \"+str(myobject.x))\n",
    "print(\"y: \"+str(myobject.y))"
   ]
  },
  {
   "cell_type": "markdown",
   "metadata": {},
   "source": [
    "we can see that by using  'myobject._myclass12__myclassmethod12' we can access private function. So this \"__\" is called mangling.\n",
    "\n",
    "So python has private variable by convention. \n",
    "\n",
    "A single underscore indicates to the user of a class that an attribute should be considered private to the class, and should not be accessed directly.\n",
    "\n",
    "A double underscore indicates the same, however, Python will mangle the attribute name somewhat to attempt to hide it."
   ]
  },
  {
   "cell_type": "code",
   "execution_count": 43,
   "metadata": {},
   "outputs": [
    {
     "name": "stdout",
     "output_type": "stream",
     "text": [
      "within new\n",
      "within init\n",
      "within myclassmethod13\n",
      "262\n",
      "within _myclassmethod13\n",
      "4362\n",
      "within __myclassmethod13\n",
      "1220\n",
      "__myvar: 500\n",
      "_myclassvar: 300\n",
      "__myclassvar: 300\n",
      "_myclassvar: 9990\n",
      "__myclassvar: 999\n"
     ]
    }
   ],
   "source": [
    "class myclass13(object):\n",
    "    myvar=400\n",
    "    __myvar=500\n",
    "    _myvar=455\n",
    "    def __init__(self):\n",
    "        print(\"within init\")\n",
    "        self.myclassvar=200\n",
    "        self.__myclassvar=300\n",
    "        self._myclassvar=300\n",
    "    def __myclassmethod13(self,x,y):\n",
    "        self.__x=x\n",
    "        self.__y=y\n",
    "        print(\"within __myclassmethod13\")\n",
    "        return self.__x+self.__y+self.__myclassvar\n",
    "    def myclassmethod13(self,x,y):\n",
    "        self.x=x\n",
    "        self.y=y\n",
    "        print(\"within myclassmethod13\")\n",
    "        return self.x+self.y-self.myclassvar\n",
    "    def _myclassmethod13(self,x,y):\n",
    "        self._x=x\n",
    "        self._y=y\n",
    "        print(\"within _myclassmethod13\")\n",
    "        return self._x+self._y+self._myclassvar\n",
    "    def __new__(cls):\n",
    "        print(\"within new\")\n",
    "        return object.__new__(cls)\n",
    "    \n",
    "myobject=myclass13()\n",
    "print(myobject.myclassmethod13(411,51))  #method is called\n",
    "print(myobject._myclassmethod13(4011,51))\n",
    "print(myobject._myclass13__myclassmethod13(410,510)) \n",
    "print(\"__myvar: \"+str(myobject._myclass13__myvar))\n",
    "print(\"_myclassvar: \"+str(myobject._myclassvar))\n",
    "print(\"__myclassvar: \"+str(myobject._myclass13__myclassvar))\n",
    "myobject._myclass13__myclassvar=999\n",
    "myobject._myclassvar=9990\n",
    "print(\"_myclassvar: \"+str(myobject._myclassvar))\n",
    "print(\"__myclassvar: \"+str(myobject._myclass13__myclassvar))"
   ]
  },
  {
   "cell_type": "markdown",
   "metadata": {},
   "source": [
    "public variable/method name == variablename/methoname\n",
    "\n",
    "protected variable/method name== `_variablename/_methodname`\n",
    "\n",
    "private vairable/method name== `__variablename/__methodname`"
   ]
  },
  {
   "cell_type": "markdown",
   "metadata": {},
   "source": [
    "Encapsulation is not strict in Python. It is only convention. Finishing one pillar of OOPs here now."
   ]
  }
 ],
 "metadata": {
  "kernelspec": {
   "display_name": "Python 3",
   "language": "python",
   "name": "python3"
  },
  "language_info": {
   "codemirror_mode": {
    "name": "ipython",
    "version": 3
   },
   "file_extension": ".py",
   "mimetype": "text/x-python",
   "name": "python",
   "nbconvert_exporter": "python",
   "pygments_lexer": "ipython3",
   "version": "3.7.0"
  }
 },
 "nbformat": 4,
 "nbformat_minor": 2
}
