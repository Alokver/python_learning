{
 "cells": [
  {
   "cell_type": "markdown",
   "metadata": {},
   "source": [
    "2. Second pillar of OOPs is Abstraction. We discussed that encalpsulation leads to data hiding and abstraction means data hiding.\n",
    "So both co-exist . The abstraction provides the abstract view and hides the implementation. \n",
    "Just like in java we provide whole project in jar form. and we create objects on classes present in jar and we dont know how the classes are implemented.\n",
    "As an application user which is interested in functionality implementation, dont care about the implementation. The user needs only that functionality to work which is developed in any language to serve his/her purpose."
   ]
  },
  {
   "cell_type": "code",
   "execution_count": 9,
   "metadata": {},
   "outputs": [
    {
     "name": "stdout",
     "output_type": "stream",
     "text": [
      "The speed of car is  200\n",
      "Is AI enabled:  N\n"
     ]
    }
   ],
   "source": [
    "class car:\n",
    "    def __init__(self,brand):\n",
    "        self.brand=brand\n",
    "    def getspecs(self):\n",
    "        carlist=['Ferrari','Tesla','Audi','Mercedes']\n",
    "        topspeed=[200,210,190,180]\n",
    "        AIenabled=['N','Y','Y','N']\n",
    "        for i in range(len(carlist)):\n",
    "            if carlist[i]==self.brand:\n",
    "                print('The speed of car is ',topspeed[i])\n",
    "                print('Is AI enabled: ',AIenabled[i])\n",
    "            \n",
    "\n",
    "mycar=car('Ferrari')\n",
    "mycar.getspecs()"
   ]
  },
  {
   "cell_type": "markdown",
   "metadata": {},
   "source": [
    "Here we can see that anyone can input the car brand name and get the specifications for that. We dont care about underlying code. See the example below. We can go on like this."
   ]
  },
  {
   "cell_type": "code",
   "execution_count": 11,
   "metadata": {},
   "outputs": [
    {
     "name": "stdout",
     "output_type": "stream",
     "text": [
      "The speed of car is  210\n",
      "Is AI enabled:  Y\n"
     ]
    }
   ],
   "source": [
    "mycar2=car('Tesla')\n",
    "mycar2.getspecs()"
   ]
  },
  {
   "cell_type": "code",
   "execution_count": 12,
   "metadata": {},
   "outputs": [
    {
     "name": "stdout",
     "output_type": "stream",
     "text": [
      "The speed of car is  190\n",
      "Is AI enabled:  Y\n"
     ]
    }
   ],
   "source": [
    "mycar3=car('Audi')\n",
    "mycar3.getspecs()"
   ]
  },
  {
   "cell_type": "code",
   "execution_count": 13,
   "metadata": {},
   "outputs": [
    {
     "name": "stdout",
     "output_type": "stream",
     "text": [
      "The speed of car is  180\n",
      "Is AI enabled:  N\n"
     ]
    }
   ],
   "source": [
    "mycar3=car('Mercedes')\n",
    "mycar3.getspecs()"
   ]
  },
  {
   "cell_type": "code",
   "execution_count": null,
   "metadata": {},
   "outputs": [],
   "source": []
  }
 ],
 "metadata": {
  "kernelspec": {
   "display_name": "Python 3",
   "language": "python",
   "name": "python3"
  },
  "language_info": {
   "codemirror_mode": {
    "name": "ipython",
    "version": 3
   },
   "file_extension": ".py",
   "mimetype": "text/x-python",
   "name": "python",
   "nbconvert_exporter": "python",
   "pygments_lexer": "ipython3",
   "version": "3.6.5"
  }
 },
 "nbformat": 4,
 "nbformat_minor": 2
}
