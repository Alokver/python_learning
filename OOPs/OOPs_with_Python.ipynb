{
 "cells": [
  {
   "cell_type": "markdown",
   "metadata": {},
   "source": [
    "Learning OOPs concept with Python. \n",
    "Implementation of OOPs 4 Pillars in Python.\n"
   ]
  },
  {
   "cell_type": "code",
   "execution_count": 7,
   "metadata": {},
   "outputs": [
    {
     "name": "stdout",
     "output_type": "stream",
     "text": [
      "within myclassmethod\n",
      "9\n",
      "###############################################\n"
     ]
    }
   ],
   "source": [
    "class myclass:\n",
    "    def myclassmethod(self,x,y):\n",
    "        self.x=x\n",
    "        self.y=y\n",
    "        print(\"within myclassmethod\")\n",
    "        return self.x+self.y\n",
    "    \n",
    "myobject=myclass()\n",
    "print(myobject.myclassmethod(4,5))\n",
    "\n",
    "print('###############################################')"
   ]
  },
  {
   "cell_type": "markdown",
   "metadata": {},
   "source": [
    "We cant use direct variable in class and use it.\n",
    "In below example we will get error."
   ]
  },
  {
   "cell_type": "code",
   "execution_count": 8,
   "metadata": {},
   "outputs": [
    {
     "name": "stdout",
     "output_type": "stream",
     "text": [
      "within myclassmethod2\n"
     ]
    },
    {
     "ename": "NameError",
     "evalue": "name 'myclass2var' is not defined",
     "output_type": "error",
     "traceback": [
      "\u001b[1;31m---------------------------------------------------------------------------\u001b[0m",
      "\u001b[1;31mNameError\u001b[0m                                 Traceback (most recent call last)",
      "\u001b[1;32m<ipython-input-8-b8c74e05b11f>\u001b[0m in \u001b[0;36m<module>\u001b[1;34m()\u001b[0m\n\u001b[0;32m      9\u001b[0m \u001b[1;33m\u001b[0m\u001b[0m\n\u001b[0;32m     10\u001b[0m \u001b[0mmyobject\u001b[0m\u001b[1;33m=\u001b[0m\u001b[0mmyclass2\u001b[0m\u001b[1;33m(\u001b[0m\u001b[1;33m)\u001b[0m\u001b[1;33m\u001b[0m\u001b[0m\n\u001b[1;32m---> 11\u001b[1;33m \u001b[0mprint\u001b[0m\u001b[1;33m(\u001b[0m\u001b[0mmyobject\u001b[0m\u001b[1;33m.\u001b[0m\u001b[0mmyclassmethod2\u001b[0m\u001b[1;33m(\u001b[0m\u001b[1;36m4\u001b[0m\u001b[1;33m,\u001b[0m\u001b[1;36m51\u001b[0m\u001b[1;33m)\u001b[0m\u001b[1;33m)\u001b[0m\u001b[1;33m\u001b[0m\u001b[0m\n\u001b[0m\u001b[0;32m     12\u001b[0m \u001b[1;33m\u001b[0m\u001b[0m\n\u001b[0;32m     13\u001b[0m \u001b[0mprint\u001b[0m\u001b[1;33m(\u001b[0m\u001b[1;34m'###############################################'\u001b[0m\u001b[1;33m)\u001b[0m\u001b[1;33m\u001b[0m\u001b[0m\n",
      "\u001b[1;32m<ipython-input-8-b8c74e05b11f>\u001b[0m in \u001b[0;36mmyclassmethod2\u001b[1;34m(self, x, y)\u001b[0m\n\u001b[0;32m      5\u001b[0m         \u001b[0mself\u001b[0m\u001b[1;33m.\u001b[0m\u001b[0my\u001b[0m\u001b[1;33m=\u001b[0m\u001b[0my\u001b[0m\u001b[1;33m\u001b[0m\u001b[0m\n\u001b[0;32m      6\u001b[0m         \u001b[0mprint\u001b[0m\u001b[1;33m(\u001b[0m\u001b[1;34m\"within myclassmethod2\"\u001b[0m\u001b[1;33m)\u001b[0m\u001b[1;33m\u001b[0m\u001b[0m\n\u001b[1;32m----> 7\u001b[1;33m         \u001b[1;32mreturn\u001b[0m \u001b[0mself\u001b[0m\u001b[1;33m.\u001b[0m\u001b[0mx\u001b[0m\u001b[1;33m+\u001b[0m\u001b[0mself\u001b[0m\u001b[1;33m.\u001b[0m\u001b[0my\u001b[0m\u001b[1;33m+\u001b[0m\u001b[0mmyclass2var\u001b[0m\u001b[1;33m\u001b[0m\u001b[0m\n\u001b[0m\u001b[0;32m      8\u001b[0m     \u001b[1;31m# here it will give error as method is unable to recognise myclassvar\u001b[0m\u001b[1;33m\u001b[0m\u001b[1;33m\u001b[0m\u001b[0m\n\u001b[0;32m      9\u001b[0m \u001b[1;33m\u001b[0m\u001b[0m\n",
      "\u001b[1;31mNameError\u001b[0m: name 'myclass2var' is not defined"
     ]
    }
   ],
   "source": [
    "class myclass2:\n",
    "    myclass2var=100\n",
    "    def myclassmethod2(self,x,y):\n",
    "        self.x=x\n",
    "        self.y=y\n",
    "        print(\"within myclassmethod2\")\n",
    "        return self.x+self.y+myclass2var \n",
    "    # here it will give error as method is unable to recognise myclassvar\n",
    "    \n",
    "myobject=myclass2()\n",
    "print(myobject.myclassmethod2(4,51))\n",
    "\n",
    "print('###############################################')\n",
    "      \n"
   ]
  },
  {
   "cell_type": "markdown",
   "metadata": {},
   "source": [
    "Below is the example of how we can declare and use class variable using init"
   ]
  },
  {
   "cell_type": "code",
   "execution_count": 9,
   "metadata": {},
   "outputs": [
    {
     "name": "stdout",
     "output_type": "stream",
     "text": [
      "within init\n",
      "146\n",
      "###############################################\n"
     ]
    }
   ],
   "source": [
    "class myclass3:\n",
    "    #myclassvar=100\n",
    "    def __init__(self):\n",
    "        print(\"within init\")\n",
    "        self.myclassvar=100\n",
    "    def myclassmethod3(self,x,y):\n",
    "        self.x=x\n",
    "        self.y=y\n",
    "        return self.x+self.y+self.myclassvar\n",
    "    \n",
    "myobject=myclass3()\n",
    "print(myobject.myclassmethod3(41,5))\n",
    "print('###############################################')"
   ]
  },
  {
   "cell_type": "markdown",
   "metadata": {},
   "source": [
    "In above 2 examples we have checked that we can create class without init also.\n",
    "So what is init() function? It is an initializer. It is not a constructor.\n",
    "Initializer is called after object is created and constructor is called before object creation.\n",
    "But till now we have not used constructor in python. We have used __init__() function in example 2.\n",
    "Lets see how constructor and initializer works."
   ]
  },
  {
   "cell_type": "code",
   "execution_count": 14,
   "metadata": {},
   "outputs": [
    {
     "name": "stdout",
     "output_type": "stream",
     "text": [
      "within new\n",
      "within init\n",
      "###############################################\n",
      "within myclassmethod4\n",
      "146\n",
      "###############################################\n"
     ]
    }
   ],
   "source": [
    "class myclass4(object):\n",
    "    #myclassvar=100\n",
    "    def __new__(cls):\n",
    "        print(\"within new\")\n",
    "        return object.__new__(cls)\n",
    "    def __init__(self):\n",
    "        print(\"within init\")\n",
    "        self.myclassvar=100\n",
    "    def myclassmethod4(self,x,y):\n",
    "        self.x=x\n",
    "        self.y=y\n",
    "        print(\"within myclassmethod4\")\n",
    "        return self.x+self.y+self.myclassvar\n",
    "    \n",
    "myobject=myclass4()\n",
    "print('###############################################')\n",
    "print(myobject.myclassmethod4(41,5))\n",
    "print('###############################################')"
   ]
  },
  {
   "cell_type": "markdown",
   "metadata": {},
   "source": [
    "In above example we can see that 1st new is called then init and then the function we have called. \n",
    "It might confuse you as they are in order. Lets change the order of function in below example."
   ]
  },
  {
   "cell_type": "code",
   "execution_count": 17,
   "metadata": {},
   "outputs": [
    {
     "name": "stdout",
     "output_type": "stream",
     "text": [
      "within new\n",
      "within init\n",
      "###############################################\n",
      "within myclassmethod5\n",
      "292\n",
      "###############################################\n"
     ]
    }
   ],
   "source": [
    "class myclass5(object):\n",
    "    #myclassvar=100\n",
    "    def __init__(self):\n",
    "        print(\"within init\")\n",
    "        self.myclassvar=200\n",
    "    def myclassmethod5(self,x,y):\n",
    "        self.x=x\n",
    "        self.y=y\n",
    "        print(\"within myclassmethod5\")\n",
    "        return self.x+self.y+self.myclassvar\n",
    "    def __new__(cls):\n",
    "        print(\"within new\")\n",
    "        return object.__new__(cls)\n",
    "    \n",
    "myobject=myclass5()\n",
    "print('###############################################')\n",
    "print(myobject.myclassmethod5(41,51))\n",
    "print('###############################################')"
   ]
  },
  {
   "cell_type": "code",
   "execution_count": null,
   "metadata": {},
   "outputs": [],
   "source": []
  },
  {
   "cell_type": "code",
   "execution_count": null,
   "metadata": {},
   "outputs": [],
   "source": []
  },
  {
   "cell_type": "code",
   "execution_count": null,
   "metadata": {},
   "outputs": [],
   "source": []
  },
  {
   "cell_type": "code",
   "execution_count": null,
   "metadata": {},
   "outputs": [],
   "source": []
  },
  {
   "cell_type": "code",
   "execution_count": null,
   "metadata": {},
   "outputs": [],
   "source": []
  },
  {
   "cell_type": "code",
   "execution_count": null,
   "metadata": {},
   "outputs": [],
   "source": []
  },
  {
   "cell_type": "code",
   "execution_count": null,
   "metadata": {},
   "outputs": [],
   "source": []
  },
  {
   "cell_type": "code",
   "execution_count": null,
   "metadata": {},
   "outputs": [],
   "source": []
  },
  {
   "cell_type": "code",
   "execution_count": null,
   "metadata": {},
   "outputs": [],
   "source": []
  },
  {
   "cell_type": "code",
   "execution_count": null,
   "metadata": {},
   "outputs": [],
   "source": []
  },
  {
   "cell_type": "code",
   "execution_count": null,
   "metadata": {},
   "outputs": [],
   "source": []
  }
 ],
 "metadata": {
  "kernelspec": {
   "display_name": "Python 3",
   "language": "python",
   "name": "python3"
  },
  "language_info": {
   "codemirror_mode": {
    "name": "ipython",
    "version": 3
   },
   "file_extension": ".py",
   "mimetype": "text/x-python",
   "name": "python",
   "nbconvert_exporter": "python",
   "pygments_lexer": "ipython3",
   "version": "3.7.0"
  }
 },
 "nbformat": 4,
 "nbformat_minor": 2
}
