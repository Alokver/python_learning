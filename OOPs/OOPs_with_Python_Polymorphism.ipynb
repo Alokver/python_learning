{
 "cells": [
  {
   "cell_type": "markdown",
   "metadata": {},
   "source": [
    "Polymorphism (before starting this please refer other pillars of OOPs as others pillars are referenced here.)\n",
    "\n",
    "Polymorphism means poly --many and -morphism --form. As the name suggest many forms, in python one method can have multiple forms.\n",
    "\n",
    "Lets see what I mean. Let take below example."
   ]
  },
  {
   "cell_type": "code",
   "execution_count": 6,
   "metadata": {},
   "outputs": [
    {
     "name": "stdout",
     "output_type": "stream",
     "text": [
      "name is form2\n"
     ]
    }
   ],
   "source": [
    "class parent:\n",
    "    def form1(self):\n",
    "        self.name='form1'\n",
    "        print(\"name :\",self.name)\n",
    "\n",
    "class child(parent):\n",
    "    def form1(self):\n",
    "        self.name='form2'\n",
    "        print(\"name is\",self.name)\n",
    "        \n",
    "c=child()\n",
    "c.form1()\n"
   ]
  },
  {
   "cell_type": "markdown",
   "metadata": {},
   "source": [
    "above we can see that child is modifying the form1 method which is already in parent class. This is called method and variable overriding as it is changing functionality of method and value of variable.\n",
    "\n",
    "Lets spent some more time on overriding."
   ]
  },
  {
   "cell_type": "code",
   "execution_count": 7,
   "metadata": {},
   "outputs": [
    {
     "name": "stdout",
     "output_type": "stream",
     "text": [
      "8\n"
     ]
    }
   ],
   "source": [
    "class parent:\n",
    "    def form1(self):\n",
    "        self.a=2\n",
    "        self.b=4\n",
    "        print(self.a+self.b)\n",
    "\n",
    "class child(parent):\n",
    "    def form1(self):\n",
    "        self.a=2\n",
    "        self.b=4\n",
    "        print(self.a*self.b) \n",
    "        \n",
    "c=child()\n",
    "c.form1()"
   ]
  },
  {
   "cell_type": "code",
   "execution_count": 8,
   "metadata": {},
   "outputs": [
    {
     "name": "stdout",
     "output_type": "stream",
     "text": [
      "6\n"
     ]
    }
   ],
   "source": [
    "p=parent()\n",
    "p.form1()"
   ]
  },
  {
   "cell_type": "code",
   "execution_count": 9,
   "metadata": {},
   "outputs": [
    {
     "name": "stdout",
     "output_type": "stream",
     "text": [
      "14\n"
     ]
    }
   ],
   "source": [
    "class parent:\n",
    "    def form1(self):\n",
    "        self.a=2\n",
    "        self.b=4\n",
    "        print(self.a+self.b)\n",
    "\n",
    "class child(parent):\n",
    "    def form1(self):\n",
    "        self.a=10\n",
    "        self.b=4\n",
    "        print(self.a+self.b)\n",
    "        \n",
    "c=child()\n",
    "c.form1()"
   ]
  },
  {
   "cell_type": "markdown",
   "metadata": {},
   "source": [
    "lets see in multi level inheritance"
   ]
  },
  {
   "cell_type": "code",
   "execution_count": 13,
   "metadata": {},
   "outputs": [
    {
     "name": "stdout",
     "output_type": "stream",
     "text": [
      "40\n"
     ]
    }
   ],
   "source": [
    "class parent:\n",
    "    def form1(self):\n",
    "        self.a=2\n",
    "        self.b=4\n",
    "        print(self.a+self.b)\n",
    "\n",
    "class child(parent):\n",
    "    def form1(self):\n",
    "        self.a=10\n",
    "        self.b=4\n",
    "        print(self.a+self.b)\n",
    "\n",
    "class child1(child):\n",
    "    def form1(self):\n",
    "        self.a=10\n",
    "        self.b=4\n",
    "        print(self.a*self.b)\n",
    "\n",
    "class child2(parent):\n",
    "    def form1(self):\n",
    "        self.a=10\n",
    "        self.b=4\n",
    "        print(self.a/self.b)\n",
    "        \n",
    "c=child1()\n",
    "c.form1()"
   ]
  },
  {
   "cell_type": "code",
   "execution_count": 14,
   "metadata": {},
   "outputs": [
    {
     "name": "stdout",
     "output_type": "stream",
     "text": [
      "2.5\n"
     ]
    }
   ],
   "source": [
    "c=child2()\n",
    "c.form1()"
   ]
  },
  {
   "cell_type": "code",
   "execution_count": 22,
   "metadata": {},
   "outputs": [
    {
     "name": "stdout",
     "output_type": "stream",
     "text": [
      "40\n"
     ]
    }
   ],
   "source": [
    "class parent:\n",
    "    def form1(self):\n",
    "        self.a=2\n",
    "        self.b=4\n",
    "        print(self.a+self.b)\n",
    "\n",
    "class child(parent):\n",
    "    def form1(self):\n",
    "        self.a=a\n",
    "        self.b=4\n",
    "        print(self.a+self.b)\n",
    "\n",
    "class child1(child):\n",
    "    def form1(self):\n",
    "        self.a=10\n",
    "        self.b=4\n",
    "        print(self.a*self.b)\n",
    "\n",
    "class child2(parent):\n",
    "    def form1(self):\n",
    "        self.a=10\n",
    "        self.b=4\n",
    "        print(self.a/self.b)\n",
    "        \n",
    "c=child1()\n",
    "c.form1()"
   ]
  },
  {
   "cell_type": "code",
   "execution_count": 24,
   "metadata": {},
   "outputs": [
    {
     "name": "stdout",
     "output_type": "stream",
     "text": [
      "8\n"
     ]
    }
   ],
   "source": [
    "class parent:\n",
    "    def __init__(self):\n",
    "        self.a=2\n",
    "        self.b=4\n",
    "    def form1(self):        \n",
    "        print(self.a+self.b)\n",
    "\n",
    "class child(parent):\n",
    "    def __init__(self):\n",
    "        self.a=20\n",
    "        self.b=4\n",
    "    def form1(self):\n",
    "        print(self.a+self.b)\n",
    "\n",
    "class child1(child):\n",
    "    def __init__(self):\n",
    "        self.a=2\n",
    "        self.b=4\n",
    "    def form1(self):\n",
    "        print(self.a*self.b)\n",
    "\n",
    "class child2(parent):\n",
    "    def __init__(self):\n",
    "        self.a=10\n",
    "        self.b=4\n",
    "    def form1(self):\n",
    "        print(self.a/self.b)\n",
    "        \n",
    "c=child1()\n",
    "c.form1()"
   ]
  },
  {
   "cell_type": "code",
   "execution_count": 25,
   "metadata": {},
   "outputs": [
    {
     "name": "stdout",
     "output_type": "stream",
     "text": [
      "8\n"
     ]
    }
   ],
   "source": [
    "c2=child2()\n",
    "c.form1()"
   ]
  },
  {
   "cell_type": "code",
   "execution_count": 26,
   "metadata": {},
   "outputs": [
    {
     "data": {
      "text/plain": [
       "2"
      ]
     },
     "execution_count": 26,
     "metadata": {},
     "output_type": "execute_result"
    }
   ],
   "source": [
    "c.a"
   ]
  },
  {
   "cell_type": "code",
   "execution_count": 27,
   "metadata": {},
   "outputs": [
    {
     "data": {
      "text/plain": [
       "10"
      ]
     },
     "execution_count": 27,
     "metadata": {},
     "output_type": "execute_result"
    }
   ],
   "source": [
    "c2.a"
   ]
  },
  {
   "cell_type": "code",
   "execution_count": 30,
   "metadata": {},
   "outputs": [
    {
     "data": {
      "text/plain": [
       "False"
      ]
     },
     "execution_count": 30,
     "metadata": {},
     "output_type": "execute_result"
    }
   ],
   "source": [
    "issubclass(child2,child)"
   ]
  },
  {
   "cell_type": "code",
   "execution_count": 31,
   "metadata": {},
   "outputs": [
    {
     "data": {
      "text/plain": [
       "True"
      ]
     },
     "execution_count": 31,
     "metadata": {},
     "output_type": "execute_result"
    }
   ],
   "source": [
    "issubclass(child1,child)"
   ]
  },
  {
   "cell_type": "code",
   "execution_count": 59,
   "metadata": {},
   "outputs": [
    {
     "name": "stdout",
     "output_type": "stream",
     "text": [
      "12\n",
      "7\n",
      "ch\n",
      "54\n",
      "54\n",
      "c2\n",
      "2.5\n",
      "14\n"
     ]
    }
   ],
   "source": [
    "class parent:\n",
    "    def __init__(self):\n",
    "        self.a=2\n",
    "        self.b=4\n",
    "    def form1(self):        \n",
    "        print(self.a+self.b)\n",
    "\n",
    "class child(parent):\n",
    "    def __init__(self):\n",
    "        self.a=50\n",
    "        self.b=4\n",
    "    def form1(self):\n",
    "        print(self.a+self.b)\n",
    "    def callparentform1(self):\n",
    "        super().form1()\n",
    "\n",
    "class child1(child):\n",
    "    def __init__(self):\n",
    "        self.a=3\n",
    "        self.b=4\n",
    "    def form1(self):\n",
    "        print(self.a*self.b)\n",
    "    def callchildform1(self):\n",
    "        super().form1()\n",
    "\n",
    "class child2(parent):\n",
    "    def __init__(self):\n",
    "        self.a=10\n",
    "        self.b=4\n",
    "    def form1(self):\n",
    "        print(self.a/self.b)\n",
    "    def callparentform1(self):\n",
    "        super().form1()\n",
    "        \n",
    "c=child1()\n",
    "c.form1()\n",
    "c.callchildform1()\n",
    "print(\"ch\")\n",
    "ch=child()\n",
    "ch.form1()\n",
    "ch.callparentform1()\n",
    "print(\"c2\")\n",
    "c2=child2()\n",
    "c2.form1()\n",
    "c2.callparentform1()"
   ]
  },
  {
   "cell_type": "markdown",
   "metadata": {},
   "source": [
    "Here we have done lot of things. Lets see one by one. We are using super keyword to call function of super class.\n",
    "1. child1 class has function callchildform1 which suppose to call function from child class but it is calling function of parent class when called with syntax super().form1() in child1 class. But the variable value of a and b are used which are set in child1 class.\n",
    "2. child class also calling super().form1 which is calling function form1 of parent class but variables values are set in child class only.\n",
    "3.  child class also calling super().form1 which is calling function form1 of parent class but variables values are set in child class only.\n",
    "\n",
    "So we conclude from above that whenever we use super() in multi-level inheritence, it will refer to the top most parent class , not immediate parent. And also the variables values used from current calling class because while using super() we are not calling `super().__init__()`"
   ]
  },
  {
   "cell_type": "markdown",
   "metadata": {},
   "source": [
    "We have seen the multi level inheritence. Lets see multiple inheritence."
   ]
  },
  {
   "cell_type": "code",
   "execution_count": 3,
   "metadata": {},
   "outputs": [
    {
     "name": "stdout",
     "output_type": "stream",
     "text": [
      "12\n",
      "-1\n",
      "c2\n",
      "2.5\n",
      "14\n"
     ]
    }
   ],
   "source": [
    "class parent:\n",
    "    def __init__(self):\n",
    "        self.a=2\n",
    "        self.b=4\n",
    "    def form1(self):        \n",
    "        print(self.a+self.b)\n",
    "\n",
    "class child():\n",
    "    def __init__(self):\n",
    "        self.a=50\n",
    "        self.b=4\n",
    "    def form1(self):\n",
    "        print(self.a-self.b)\n",
    "\n",
    "\n",
    "class child1(child,parent):\n",
    "    def __init__(self):\n",
    "        self.a=3\n",
    "        self.b=4\n",
    "    def form1(self):\n",
    "        print(self.a*self.b)\n",
    "    def callchildform1(self):\n",
    "        super().form1()\n",
    "\n",
    "class child2(parent,child):\n",
    "    def __init__(self):\n",
    "        self.a=10\n",
    "        self.b=4\n",
    "    def form1(self):\n",
    "        print(self.a/self.b)\n",
    "    def callparentform1(self):\n",
    "        super().form1()\n",
    "        \n",
    "c1=child1()\n",
    "c1.form1()\n",
    "c1.callchildform1()\n",
    "print(\"c2\")\n",
    "c2=child2()\n",
    "c2.form1()\n",
    "c2.callparentform1()"
   ]
  },
  {
   "cell_type": "markdown",
   "metadata": {},
   "source": [
    "Here we can see 2 children , one is child1 and other is child2. But the inheritance order differs in child1 and child2.\n",
    "child1(child,parent)--> child is mentioned first then parent.\n",
    "child2(parent,child)--> parent is mentioned first then child.\n",
    "\n",
    "So whoever is mentioned first, is used in super() call. As you can calculate output above.\n"
   ]
  },
  {
   "cell_type": "code",
   "execution_count": null,
   "metadata": {},
   "outputs": [],
   "source": [
    "Lets merge multi-level and multiple inheritance. This is called diamond shape problem."
   ]
  },
  {
   "cell_type": "code",
   "execution_count": 19,
   "metadata": {},
   "outputs": [
    {
     "name": "stdout",
     "output_type": "stream",
     "text": [
      "bye 6\n",
      "calling parent from child1\n",
      "hi 40\n",
      "bye 6\n"
     ]
    }
   ],
   "source": [
    "class parent:\n",
    "    def __init__(self):\n",
    "        self.a=2\n",
    "        self.b=4\n",
    "    def form1(self): \n",
    "        print(\"calling parent from1\")\n",
    "        print('p',self.a+self.b)\n",
    "\n",
    "class child1(parent):\n",
    "    def __init__(self):\n",
    "        self.a=50\n",
    "        self.b=4\n",
    "    def form1(self):\n",
    "        print('bye',self.a-self.b)\n",
    "    def callchildform1(self):\n",
    "        print(\"calling parent from child1\")\n",
    "        super().form1()\n",
    "\n",
    "class child2(parent):\n",
    "    def __init__(self):\n",
    "        self.a=3\n",
    "        self.b=4\n",
    "    def form1(self):\n",
    "        print('hi',self.a*self.b)\n",
    "    def callchildform1(self):\n",
    "        print(\"calling parent from child2\")\n",
    "        super().form1()\n",
    "\n",
    "class grandchild(child1,child2):\n",
    "    def __init__(self):\n",
    "        self.a=10\n",
    "        self.b=4\n",
    "    def callingparent(self):\n",
    "        super().form1()\n",
    "        \n",
    "g=grandchild()\n",
    "g.form1()\n",
    "g.callchildform1()\n",
    "g.callingparent()"
   ]
  },
  {
   "cell_type": "code",
   "execution_count": null,
   "metadata": {},
   "outputs": [],
   "source": [
    "We can see that both the functions are called from child1 only because the in inheritance order child1 is inherited first."
   ]
  },
  {
   "cell_type": "code",
   "execution_count": null,
   "metadata": {},
   "outputs": [],
   "source": []
  },
  {
   "cell_type": "code",
   "execution_count": null,
   "metadata": {},
   "outputs": [],
   "source": []
  },
  {
   "cell_type": "code",
   "execution_count": null,
   "metadata": {},
   "outputs": [],
   "source": []
  },
  {
   "cell_type": "code",
   "execution_count": null,
   "metadata": {},
   "outputs": [],
   "source": []
  },
  {
   "cell_type": "code",
   "execution_count": null,
   "metadata": {},
   "outputs": [],
   "source": []
  }
 ],
 "metadata": {
  "kernelspec": {
   "display_name": "Python 3",
   "language": "python",
   "name": "python3"
  },
  "language_info": {
   "codemirror_mode": {
    "name": "ipython",
    "version": 3
   },
   "file_extension": ".py",
   "mimetype": "text/x-python",
   "name": "python",
   "nbconvert_exporter": "python",
   "pygments_lexer": "ipython3",
   "version": "3.7.0"
  }
 },
 "nbformat": 4,
 "nbformat_minor": 2
}
