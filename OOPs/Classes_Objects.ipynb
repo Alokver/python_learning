{
 "cells": [
  {
   "cell_type": "markdown",
   "metadata": {},
   "source": [
    "Classes Objects Instance"
   ]
  },
  {
   "cell_type": "code",
   "execution_count": 2,
   "metadata": {},
   "outputs": [
    {
     "name": "stdout",
     "output_type": "stream",
     "text": [
      "this is employee class\n"
     ]
    }
   ],
   "source": [
    "class Employee:\n",
    "    print('this is employee class')\n",
    "    name='EmployeeName'\n",
    "    age='EmployeeAge'\n"
   ]
  },
  {
   "cell_type": "markdown",
   "metadata": {},
   "source": [
    "without creating any object it is printing"
   ]
  },
  {
   "cell_type": "code",
   "execution_count": 3,
   "metadata": {},
   "outputs": [
    {
     "name": "stdout",
     "output_type": "stream",
     "text": [
      "this is employee class\n",
      "EMployee1 name EmployeeName\n",
      "#####\n"
     ]
    }
   ],
   "source": [
    "class Employee:\n",
    "    print('this is employee class')\n",
    "    name='EmployeeName'\n",
    "    age='EmployeeAge'\n",
    "\n",
    "employee1=Employee()\n",
    "print('EMployee1 name '+employee1.name)\n",
    "print('#####')"
   ]
  },
  {
   "cell_type": "markdown",
   "metadata": {},
   "source": [
    "Created the Employee class variable name and access it via instance employee1 and employee2"
   ]
  },
  {
   "cell_type": "code",
   "execution_count": 6,
   "metadata": {},
   "outputs": [
    {
     "name": "stdout",
     "output_type": "stream",
     "text": [
      "this is employee class\n",
      "EMployee1 name EmployeeName\n",
      "#####\n",
      "Employee2 name EmployeeName\n",
      "#####\n",
      "Employee1 address Delhi\n"
     ]
    }
   ],
   "source": [
    "class Employee:\n",
    "    print('this is employee class')\n",
    "    name='EmployeeName'\n",
    "    age='EmployeeAge'\n",
    "\n",
    "employee1=Employee()\n",
    "print('EMployee1 name '+employee1.name)\n",
    "print('#####')\n",
    "employee2=Employee()\n",
    "print('Employee2 name '+employee2.name)\n",
    "print('#####')\n",
    "employee1.addressstate='Delhi'\n",
    "print('Employee1 address '+employee1.addressstate)"
   ]
  },
  {
   "cell_type": "markdown",
   "metadata": {},
   "source": [
    "Created instance variable addressstate and accessed it"
   ]
  },
  {
   "cell_type": "code",
   "execution_count": 7,
   "metadata": {},
   "outputs": [
    {
     "name": "stdout",
     "output_type": "stream",
     "text": [
      "this is employee class\n",
      "EMployee1 name EmployeeName\n",
      "#####\n",
      "Employee2 name EmployeeName\n",
      "#####\n",
      "Employee1 address Delhi\n",
      "#####\n"
     ]
    },
    {
     "ename": "AttributeError",
     "evalue": "'Employee' object has no attribute 'addressstate'",
     "output_type": "error",
     "traceback": [
      "\u001b[1;31m---------------------------------------------------------------------------\u001b[0m",
      "\u001b[1;31mAttributeError\u001b[0m                            Traceback (most recent call last)",
      "\u001b[1;32m<ipython-input-7-b5b83cb7fe76>\u001b[0m in \u001b[0;36m<module>\u001b[1;34m()\u001b[0m\n\u001b[0;32m     13\u001b[0m \u001b[0mprint\u001b[0m\u001b[1;33m(\u001b[0m\u001b[1;34m'Employee1 address '\u001b[0m\u001b[1;33m+\u001b[0m\u001b[0memployee1\u001b[0m\u001b[1;33m.\u001b[0m\u001b[0maddressstate\u001b[0m\u001b[1;33m)\u001b[0m\u001b[1;33m\u001b[0m\u001b[0m\n\u001b[0;32m     14\u001b[0m \u001b[0mprint\u001b[0m\u001b[1;33m(\u001b[0m\u001b[1;34m'#####'\u001b[0m\u001b[1;33m)\u001b[0m\u001b[1;33m\u001b[0m\u001b[0m\n\u001b[1;32m---> 15\u001b[1;33m \u001b[0mprint\u001b[0m\u001b[1;33m(\u001b[0m\u001b[1;34m'Employee2 address '\u001b[0m\u001b[1;33m+\u001b[0m\u001b[0memployee2\u001b[0m\u001b[1;33m.\u001b[0m\u001b[0maddressstate\u001b[0m\u001b[1;33m)\u001b[0m\u001b[1;33m\u001b[0m\u001b[0m\n\u001b[0m",
      "\u001b[1;31mAttributeError\u001b[0m: 'Employee' object has no attribute 'addressstate'"
     ]
    }
   ],
   "source": [
    "class Employee:\n",
    "    print('this is employee class')\n",
    "    name='EmployeeName'\n",
    "    age='EmployeeAge'\n",
    "\n",
    "employee1=Employee()\n",
    "print('EMployee1 name '+employee1.name)\n",
    "print('#####')\n",
    "employee2=Employee()\n",
    "print('Employee2 name '+employee2.name)\n",
    "print('#####')\n",
    "employee1.addressstate='Delhi'\n",
    "print('Employee1 address '+employee1.addressstate)\n",
    "print('#####')\n",
    "print('Employee2 address '+employee2.addressstate)"
   ]
  },
  {
   "cell_type": "markdown",
   "metadata": {},
   "source": [
    "addressstate is employee1 instance variable. It is not class variable. so employee2 instance cant access it."
   ]
  },
  {
   "cell_type": "code",
   "execution_count": 8,
   "metadata": {},
   "outputs": [
    {
     "name": "stdout",
     "output_type": "stream",
     "text": [
      "this is employee class\n",
      "EMployee1 name EmployeeName\n",
      "#####\n",
      "Employee2 name EmployeeName\n",
      "#####\n",
      "Employee1 address Delhi\n",
      "#####\n",
      "Employee2 address Bangalore\n"
     ]
    }
   ],
   "source": [
    "class Employee:\n",
    "    print('this is employee class')\n",
    "    name='EmployeeName'\n",
    "    age='EmployeeAge'\n",
    "\n",
    "employee1=Employee()\n",
    "print('EMployee1 name '+employee1.name)\n",
    "print('#####')\n",
    "employee2=Employee()\n",
    "print('Employee2 name '+employee2.name)\n",
    "print('#####')\n",
    "employee1.addressstate='Delhi'\n",
    "print('Employee1 address '+employee1.addressstate)\n",
    "print('#####')\n",
    "employee2.state='Bangalore'\n",
    "print('Employee2 address '+employee2.state)"
   ]
  },
  {
   "cell_type": "code",
   "execution_count": 15,
   "metadata": {},
   "outputs": [
    {
     "name": "stdout",
     "output_type": "stream",
     "text": [
      "this is employee class\n",
      "Employee1 name Name\n",
      "#####\n",
      "EMployee1 name Myname1\n",
      "#####\n",
      "Employee2 name Name\n",
      "#####\n",
      "Employee2 name Newname2\n"
     ]
    }
   ],
   "source": [
    "class Employees:\n",
    "    print('this is employee class')\n",
    "    name='Name'\n",
    "    age='Age'\n",
    "\n",
    "employee1=Employees()\n",
    "print('Employee1 name '+employee1.name)\n",
    "print('#####')\n",
    "employee1.name='Myname1'\n",
    "print('EMployee1 name '+employee1.name)\n",
    "print('#####')\n",
    "employee2=Employees()\n",
    "print('Employee2 name '+employee2.name)\n",
    "print('#####')\n",
    "employee2.name='Newname2'\n",
    "print('Employee2 name '+employee2.name)\n"
   ]
  },
  {
   "cell_type": "markdown",
   "metadata": {},
   "source": [
    "We can edit the class variables. But when employee1 updates name , it is not reflected in employee2.name"
   ]
  },
  {
   "cell_type": "markdown",
   "metadata": {},
   "source": [
    "Lets see self now."
   ]
  },
  {
   "cell_type": "code",
   "execution_count": 17,
   "metadata": {},
   "outputs": [
    {
     "ename": "TypeError",
     "evalue": "employeeDetails() takes 0 positional arguments but 1 was given",
     "output_type": "error",
     "traceback": [
      "\u001b[1;31m---------------------------------------------------------------------------\u001b[0m",
      "\u001b[1;31mTypeError\u001b[0m                                 Traceback (most recent call last)",
      "\u001b[1;32m<ipython-input-17-927220c69bb1>\u001b[0m in \u001b[0;36m<module>\u001b[1;34m()\u001b[0m\n\u001b[0;32m      4\u001b[0m \u001b[1;33m\u001b[0m\u001b[0m\n\u001b[0;32m      5\u001b[0m \u001b[0memployee\u001b[0m\u001b[1;33m=\u001b[0m\u001b[0mEmployees\u001b[0m\u001b[1;33m(\u001b[0m\u001b[1;33m)\u001b[0m\u001b[1;33m\u001b[0m\u001b[0m\n\u001b[1;32m----> 6\u001b[1;33m \u001b[0memployee\u001b[0m\u001b[1;33m.\u001b[0m\u001b[0memployeeDetails\u001b[0m\u001b[1;33m(\u001b[0m\u001b[1;33m)\u001b[0m\u001b[1;33m\u001b[0m\u001b[0m\n\u001b[0m",
      "\u001b[1;31mTypeError\u001b[0m: employeeDetails() takes 0 positional arguments but 1 was given"
     ]
    }
   ],
   "source": [
    "class Employees:\n",
    "    def employeeDetails():\n",
    "        pass\n",
    "\n",
    "employee=Employees()\n",
    "employee.employeeDetails()"
   ]
  },
  {
   "cell_type": "markdown",
   "metadata": {},
   "source": [
    "The function call above is giving error. Saying it takes 0 positional arguments but 1 was given. \n",
    "But we can see that no argument is passed. It is internally done by python. "
   ]
  },
  {
   "cell_type": "code",
   "execution_count": 20,
   "metadata": {},
   "outputs": [
    {
     "name": "stdout",
     "output_type": "stream",
     "text": [
      "Calling employee details\n"
     ]
    }
   ],
   "source": [
    "class Employees:\n",
    "    def employeeDetails(self):\n",
    "        print('Calling employee details')\n",
    "\n",
    "employee=Employees()\n",
    "employee.employeeDetails()"
   ]
  },
  {
   "cell_type": "code",
   "execution_count": 21,
   "metadata": {},
   "outputs": [
    {
     "name": "stdout",
     "output_type": "stream",
     "text": [
      "Calling employee details\n",
      "####\n",
      "Calling employee details\n"
     ]
    }
   ],
   "source": [
    "class Employees:\n",
    "    def employeeDetails(self):\n",
    "        print('Calling employee details')\n",
    "\n",
    "employee=Employees()\n",
    "employee.employeeDetails()\n",
    "print('####')\n",
    "Employees.employeeDetails(employee)"
   ]
  },
  {
   "cell_type": "markdown",
   "metadata": {},
   "source": [
    "Employees.employeeDetails(employee) and employee.employeeDetails() are same. \n",
    "Employees.employeeDetails(employee) this is how python works in background.\n",
    "Lets see more on this."
   ]
  },
  {
   "cell_type": "code",
   "execution_count": 27,
   "metadata": {},
   "outputs": [
    {
     "name": "stdout",
     "output_type": "stream",
     "text": [
      "Name is  Tara\n",
      "####\n",
      "Name is  Tara\n"
     ]
    }
   ],
   "source": [
    "class Employees:\n",
    "    def employeeDetails(self):\n",
    "        self.name='Tara'\n",
    "        print('Name is ',self.name)\n",
    "\n",
    "employee=Employees()\n",
    "employee.employeeDetails()\n",
    "print('####')\n",
    "Employees.employeeDetails(employee1)"
   ]
  },
  {
   "cell_type": "code",
   "execution_count": 30,
   "metadata": {},
   "outputs": [
    {
     "name": "stdout",
     "output_type": "stream",
     "text": [
      "Name is  Tara\n",
      "Age is  40\n",
      "####\n",
      "Name is  Tara\n",
      "Age is  40\n"
     ]
    }
   ],
   "source": [
    "class Employees:\n",
    "    def employeeDetails(self):\n",
    "        self.name='Tara'\n",
    "        print('Name is ',self.name)\n",
    "        age=40\n",
    "        print('Age is ',age)\n",
    "        \n",
    "\n",
    "employee1=Employees()\n",
    "employee1.employeeDetails()\n",
    "print('####')\n",
    "Employees.employeeDetails(employee1)"
   ]
  },
  {
   "cell_type": "code",
   "execution_count": 34,
   "metadata": {},
   "outputs": [
    {
     "name": "stdout",
     "output_type": "stream",
     "text": [
      "Name is  Tara\n",
      "Age is  40\n",
      "1\n",
      "Name is  Tara\n",
      "Age is  40\n",
      "2\n",
      "Name is  Tara\n",
      "Age is  40\n",
      "3\n",
      "Name is  Tara\n",
      "Age is  40\n"
     ]
    }
   ],
   "source": [
    "class Employees:\n",
    "    def employeeDetails(self):\n",
    "        self.name='Tara'\n",
    "        print('Name is ',self.name)\n",
    "        age=40\n",
    "        print('Age is ',age)        \n",
    "\n",
    "employee=Employees()\n",
    "employee.employeeDetails()\n",
    "print('1')\n",
    "Employees.employeeDetails(employee1)\n",
    "print('2')\n",
    "employee2=Employees()\n",
    "employee2.employeeDetails()\n",
    "print('3')\n",
    "Employees.employeeDetails(employee2)"
   ]
  },
  {
   "cell_type": "markdown",
   "metadata": {},
   "source": [
    "We can see the behaviour is same with all objects created for same class"
   ]
  },
  {
   "cell_type": "code",
   "execution_count": 40,
   "metadata": {},
   "outputs": [
    {
     "name": "stdout",
     "output_type": "stream",
     "text": [
      "Name is  Tara\n",
      "Age is  40\n",
      "printing Details\n",
      "name :  Tara\n"
     ]
    },
    {
     "ename": "NameError",
     "evalue": "name 'age' is not defined",
     "output_type": "error",
     "traceback": [
      "\u001b[1;31m---------------------------------------------------------------------------\u001b[0m",
      "\u001b[1;31mNameError\u001b[0m                                 Traceback (most recent call last)",
      "\u001b[1;32m<ipython-input-40-b0a3bd0733e0>\u001b[0m in \u001b[0;36m<module>\u001b[1;34m()\u001b[0m\n\u001b[0;32m     13\u001b[0m \u001b[0memployee\u001b[0m\u001b[1;33m=\u001b[0m\u001b[0mEmployees\u001b[0m\u001b[1;33m(\u001b[0m\u001b[1;33m)\u001b[0m\u001b[1;33m\u001b[0m\u001b[0m\n\u001b[0;32m     14\u001b[0m \u001b[0memployee\u001b[0m\u001b[1;33m.\u001b[0m\u001b[0memployeeDetails\u001b[0m\u001b[1;33m(\u001b[0m\u001b[1;33m)\u001b[0m\u001b[1;33m\u001b[0m\u001b[0m\n\u001b[1;32m---> 15\u001b[1;33m \u001b[0memployee\u001b[0m\u001b[1;33m.\u001b[0m\u001b[0mprintDetails\u001b[0m\u001b[1;33m(\u001b[0m\u001b[1;33m)\u001b[0m\u001b[1;33m\u001b[0m\u001b[0m\n\u001b[0m",
      "\u001b[1;32m<ipython-input-40-b0a3bd0733e0>\u001b[0m in \u001b[0;36mprintDetails\u001b[1;34m(self)\u001b[0m\n\u001b[0;32m      8\u001b[0m         \u001b[0mprint\u001b[0m\u001b[1;33m(\u001b[0m\u001b[1;34m\"printing Details\"\u001b[0m\u001b[1;33m)\u001b[0m\u001b[1;33m\u001b[0m\u001b[0m\n\u001b[0;32m      9\u001b[0m         \u001b[0mprint\u001b[0m\u001b[1;33m(\u001b[0m\u001b[1;34m\"name : \"\u001b[0m\u001b[1;33m,\u001b[0m\u001b[0mself\u001b[0m\u001b[1;33m.\u001b[0m\u001b[0mname\u001b[0m\u001b[1;33m)\u001b[0m\u001b[1;33m\u001b[0m\u001b[0m\n\u001b[1;32m---> 10\u001b[1;33m         \u001b[0mprint\u001b[0m\u001b[1;33m(\u001b[0m\u001b[1;34m\"Age : \"\u001b[0m\u001b[1;33m,\u001b[0m\u001b[0mage\u001b[0m\u001b[1;33m)\u001b[0m\u001b[1;33m\u001b[0m\u001b[0m\n\u001b[0m\u001b[0;32m     11\u001b[0m \u001b[1;33m\u001b[0m\u001b[0m\n\u001b[0;32m     12\u001b[0m \u001b[1;33m\u001b[0m\u001b[0m\n",
      "\u001b[1;31mNameError\u001b[0m: name 'age' is not defined"
     ]
    }
   ],
   "source": [
    "class Employees:\n",
    "    def employeeDetails(self):\n",
    "        self.name='Tara'\n",
    "        print('Name is ',self.name)\n",
    "        age=40\n",
    "        print('Age is ',age)\n",
    "    def printDetails(self):\n",
    "        print(\"printing Details\")\n",
    "        print(\"name : \",self.name)\n",
    "        print(\"Age : \",age)\n",
    "        \n",
    "\n",
    "employee=Employees()\n",
    "employee.employeeDetails()\n",
    "employee.printDetails()\n"
   ]
  },
  {
   "cell_type": "markdown",
   "metadata": {},
   "source": [
    "We have not used age as self.age so it is not recognized in other function."
   ]
  },
  {
   "cell_type": "code",
   "execution_count": 41,
   "metadata": {},
   "outputs": [
    {
     "name": "stdout",
     "output_type": "stream",
     "text": [
      "Name is  Tara\n",
      "Age is  40\n",
      "outer : Tara\n"
     ]
    },
    {
     "ename": "AttributeError",
     "evalue": "'Employees' object has no attribute 'age'",
     "output_type": "error",
     "traceback": [
      "\u001b[1;31m---------------------------------------------------------------------------\u001b[0m",
      "\u001b[1;31mAttributeError\u001b[0m                            Traceback (most recent call last)",
      "\u001b[1;32m<ipython-input-41-18030721e56e>\u001b[0m in \u001b[0;36m<module>\u001b[1;34m()\u001b[0m\n\u001b[0;32m     14\u001b[0m \u001b[0memployee\u001b[0m\u001b[1;33m.\u001b[0m\u001b[0memployeeDetails\u001b[0m\u001b[1;33m(\u001b[0m\u001b[1;33m)\u001b[0m\u001b[1;33m\u001b[0m\u001b[0m\n\u001b[0;32m     15\u001b[0m \u001b[0mprint\u001b[0m\u001b[1;33m(\u001b[0m\u001b[1;34m\"outer :\"\u001b[0m\u001b[1;33m,\u001b[0m\u001b[0memployee\u001b[0m\u001b[1;33m.\u001b[0m\u001b[0mname\u001b[0m\u001b[1;33m)\u001b[0m\u001b[1;33m\u001b[0m\u001b[0m\n\u001b[1;32m---> 16\u001b[1;33m \u001b[0mprint\u001b[0m\u001b[1;33m(\u001b[0m\u001b[1;34m\"outer :\"\u001b[0m\u001b[1;33m,\u001b[0m\u001b[0memployee\u001b[0m\u001b[1;33m.\u001b[0m\u001b[0mage\u001b[0m\u001b[1;33m)\u001b[0m\u001b[1;33m\u001b[0m\u001b[0m\n\u001b[0m\u001b[0;32m     17\u001b[0m \u001b[0memployee\u001b[0m\u001b[1;33m.\u001b[0m\u001b[0mprintDetails\u001b[0m\u001b[1;33m(\u001b[0m\u001b[1;33m)\u001b[0m\u001b[1;33m\u001b[0m\u001b[0m\n",
      "\u001b[1;31mAttributeError\u001b[0m: 'Employees' object has no attribute 'age'"
     ]
    }
   ],
   "source": [
    "class Employees:\n",
    "    def employeeDetails(self):\n",
    "        self.name='Tara'\n",
    "        print('Name is ',self.name)\n",
    "        age=40\n",
    "        print('Age is ',age)\n",
    "    def printDetails(self):\n",
    "        print(\"printing Details\")\n",
    "        print(\"name : \",self.name)\n",
    "        print(\"Age : \",self.age)\n",
    "        \n",
    "\n",
    "employee=Employees()\n",
    "employee.employeeDetails()\n",
    "print(\"outer :\",employee.name)\n",
    "print(\"outer :\",employee.age)\n",
    "employee.printDetails()\n"
   ]
  },
  {
   "cell_type": "markdown",
   "metadata": {},
   "source": [
    "Same here when we have created object , we cant access age as age is not defined as self.age"
   ]
  },
  {
   "cell_type": "code",
   "execution_count": 42,
   "metadata": {},
   "outputs": [
    {
     "name": "stdout",
     "output_type": "stream",
     "text": [
      "Name is  Tara\n",
      "Age is  40\n",
      "outer : Tara\n",
      "outer : 40\n",
      "printing Details\n",
      "name :  Tara\n",
      "Age :  40\n"
     ]
    }
   ],
   "source": [
    "class Employees:\n",
    "    def employeeDetails(self):\n",
    "        self.name='Tara'\n",
    "        print('Name is ',self.name)\n",
    "        self.age=40\n",
    "        print('Age is ',self.age)\n",
    "    def printDetails(self):\n",
    "        print(\"printing Details\")\n",
    "        print(\"name : \",self.name)\n",
    "        print(\"Age : \",self.age)\n",
    "        \n",
    "\n",
    "employee=Employees()\n",
    "employee.employeeDetails()\n",
    "print(\"outer :\",employee.name)\n",
    "print(\"outer :\",employee.age)\n",
    "employee.printDetails()"
   ]
  },
  {
   "cell_type": "markdown",
   "metadata": {},
   "source": [
    "Okay. Lets create a funtion which will not use self parameter in its body. See example below."
   ]
  },
  {
   "cell_type": "code",
   "execution_count": 43,
   "metadata": {},
   "outputs": [
    {
     "name": "stdout",
     "output_type": "stream",
     "text": [
      "Name is  Tara\n",
      "Age is  40\n",
      "outer : Tara\n",
      "outer : 40\n",
      "printing Details\n"
     ]
    }
   ],
   "source": [
    "class Employees:\n",
    "    def employeeDetails(self):\n",
    "        self.name='Tara'\n",
    "        print('Name is ',self.name)\n",
    "        self.age=40\n",
    "        print('Age is ',self.age)\n",
    "    def printDetails(self):\n",
    "        print(\"printing Details\")       \n",
    "\n",
    "employee=Employees()\n",
    "employee.employeeDetails()\n",
    "print(\"outer :\",employee.name)\n",
    "print(\"outer :\",employee.age)\n",
    "employee.printDetails()"
   ]
  },
  {
   "cell_type": "markdown",
   "metadata": {},
   "source": [
    "The above thing is working fine. But we are not using self instance in printDetails so why we need it to pass in it."
   ]
  },
  {
   "cell_type": "code",
   "execution_count": 44,
   "metadata": {},
   "outputs": [
    {
     "name": "stdout",
     "output_type": "stream",
     "text": [
      "Name is  Tara\n",
      "Age is  40\n",
      "outer : Tara\n",
      "outer : 40\n"
     ]
    },
    {
     "ename": "TypeError",
     "evalue": "printDetails() takes 0 positional arguments but 1 was given",
     "output_type": "error",
     "traceback": [
      "\u001b[1;31m---------------------------------------------------------------------------\u001b[0m",
      "\u001b[1;31mTypeError\u001b[0m                                 Traceback (most recent call last)",
      "\u001b[1;32m<ipython-input-44-e55974b69278>\u001b[0m in \u001b[0;36m<module>\u001b[1;34m()\u001b[0m\n\u001b[0;32m     12\u001b[0m \u001b[0mprint\u001b[0m\u001b[1;33m(\u001b[0m\u001b[1;34m\"outer :\"\u001b[0m\u001b[1;33m,\u001b[0m\u001b[0memployee\u001b[0m\u001b[1;33m.\u001b[0m\u001b[0mname\u001b[0m\u001b[1;33m)\u001b[0m\u001b[1;33m\u001b[0m\u001b[0m\n\u001b[0;32m     13\u001b[0m \u001b[0mprint\u001b[0m\u001b[1;33m(\u001b[0m\u001b[1;34m\"outer :\"\u001b[0m\u001b[1;33m,\u001b[0m\u001b[0memployee\u001b[0m\u001b[1;33m.\u001b[0m\u001b[0mage\u001b[0m\u001b[1;33m)\u001b[0m\u001b[1;33m\u001b[0m\u001b[0m\n\u001b[1;32m---> 14\u001b[1;33m \u001b[0memployee\u001b[0m\u001b[1;33m.\u001b[0m\u001b[0mprintDetails\u001b[0m\u001b[1;33m(\u001b[0m\u001b[1;33m)\u001b[0m\u001b[1;33m\u001b[0m\u001b[0m\n\u001b[0m",
      "\u001b[1;31mTypeError\u001b[0m: printDetails() takes 0 positional arguments but 1 was given"
     ]
    }
   ],
   "source": [
    "class Employees:\n",
    "    def employeeDetails(self):\n",
    "        self.name='Tara'\n",
    "        print('Name is ',self.name)\n",
    "        self.age=40\n",
    "        print('Age is ',self.age)\n",
    "    def printDetails():\n",
    "        print(\"printing Details\")       \n",
    "\n",
    "employee=Employees()\n",
    "employee.employeeDetails()\n",
    "print(\"outer :\",employee.name)\n",
    "print(\"outer :\",employee.age)\n",
    "employee.printDetails()"
   ]
  },
  {
   "cell_type": "markdown",
   "metadata": {},
   "source": [
    "On removeing self from printDetails(self) we got an old error. Does it possible to execute function without self parameter? Yes it does. And above that function we use decorator as @staticmethod. (If you want to understand decorator. Please visit my code on github on python_learning folder. There I have uploaded decorator.py)"
   ]
  },
  {
   "cell_type": "code",
   "execution_count": 47,
   "metadata": {},
   "outputs": [
    {
     "name": "stdout",
     "output_type": "stream",
     "text": [
      "Name is  Tara\n",
      "Age is  40\n",
      "outer : Tara\n",
      "outer : 40\n",
      "printing Details\n"
     ]
    }
   ],
   "source": [
    "class Employees:\n",
    "    def employeeDetails(self):\n",
    "        self.name='Tara'\n",
    "        print('Name is ',self.name)\n",
    "        self.age=40\n",
    "        print('Age is ',self.age)\n",
    "    @staticmethod\n",
    "    def printDetails():\n",
    "        print(\"printing Details\")       \n",
    "\n",
    "employee=Employees()\n",
    "employee.employeeDetails()  #instance method\n",
    "print(\"outer :\",employee.name)\n",
    "print(\"outer :\",employee.age)\n",
    "employee.printDetails() # static method"
   ]
  },
  {
   "cell_type": "markdown",
   "metadata": {},
   "source": [
    "So we have made that method static that does not require default parameter as self."
   ]
  }
 ],
 "metadata": {
  "kernelspec": {
   "display_name": "Python 3",
   "language": "python",
   "name": "python3"
  },
  "language_info": {
   "codemirror_mode": {
    "name": "ipython",
    "version": 3
   },
   "file_extension": ".py",
   "mimetype": "text/x-python",
   "name": "python",
   "nbconvert_exporter": "python",
   "pygments_lexer": "ipython3",
   "version": "3.6.5"
  }
 },
 "nbformat": 4,
 "nbformat_minor": 2
}
