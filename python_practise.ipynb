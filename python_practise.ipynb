{
 "cells": [
  {
   "cell_type": "code",
   "execution_count": 1,
   "metadata": {},
   "outputs": [
    {
     "name": "stdout",
     "output_type": "stream",
     "text": [
      "hello world\n"
     ]
    }
   ],
   "source": [
    "print(\"hello world\")"
   ]
  },
  {
   "cell_type": "code",
   "execution_count": 2,
   "metadata": {},
   "outputs": [],
   "source": [
    "var=\"hello World\""
   ]
  },
  {
   "cell_type": "code",
   "execution_count": 3,
   "metadata": {},
   "outputs": [
    {
     "name": "stdout",
     "output_type": "stream",
     "text": [
      "hello World\n"
     ]
    }
   ],
   "source": [
    "print(var)"
   ]
  },
  {
   "cell_type": "code",
   "execution_count": 4,
   "metadata": {},
   "outputs": [
    {
     "data": {
      "text/plain": [
       "'hello World'"
      ]
     },
     "execution_count": 4,
     "metadata": {},
     "output_type": "execute_result"
    }
   ],
   "source": [
    "var"
   ]
  },
  {
   "cell_type": "code",
   "execution_count": 5,
   "metadata": {
    "scrolled": true
   },
   "outputs": [
    {
     "data": {
      "text/plain": [
       "'hello world'"
      ]
     },
     "execution_count": 5,
     "metadata": {},
     "output_type": "execute_result"
    }
   ],
   "source": [
    "\"hello world\""
   ]
  },
  {
   "cell_type": "code",
   "execution_count": 6,
   "metadata": {},
   "outputs": [
    {
     "data": {
      "text/plain": [
       "3"
      ]
     },
     "execution_count": 6,
     "metadata": {},
     "output_type": "execute_result"
    }
   ],
   "source": [
    "1+2"
   ]
  },
  {
   "cell_type": "code",
   "execution_count": 7,
   "metadata": {},
   "outputs": [
    {
     "data": {
      "text/plain": [
       "1"
      ]
     },
     "execution_count": 7,
     "metadata": {},
     "output_type": "execute_result"
    }
   ],
   "source": [
    "1"
   ]
  },
  {
   "cell_type": "code",
   "execution_count": 8,
   "metadata": {},
   "outputs": [
    {
     "data": {
      "text/plain": [
       "'hello World'"
      ]
     },
     "execution_count": 8,
     "metadata": {},
     "output_type": "execute_result"
    }
   ],
   "source": [
    "var"
   ]
  },
  {
   "cell_type": "code",
   "execution_count": 9,
   "metadata": {},
   "outputs": [],
   "source": [
    "var=2"
   ]
  },
  {
   "cell_type": "code",
   "execution_count": 10,
   "metadata": {},
   "outputs": [
    {
     "name": "stdout",
     "output_type": "stream",
     "text": [
      "hello my \n"
     ]
    }
   ],
   "source": [
    "var=\"hello \"\n",
    "var2=\"my \"\n",
    "print(var+var2)"
   ]
  },
  {
   "cell_type": "code",
   "execution_count": 11,
   "metadata": {},
   "outputs": [
    {
     "name": "stdout",
     "output_type": "stream",
     "text": [
      "2var\n"
     ]
    }
   ],
   "source": [
    "j=2\n",
    "i=\"var\"\n",
    "print(str(j)+i)"
   ]
  },
  {
   "cell_type": "code",
   "execution_count": 12,
   "metadata": {},
   "outputs": [
    {
     "name": "stdout",
     "output_type": "stream",
     "text": [
      "3\n"
     ]
    }
   ],
   "source": [
    "i=1\n",
    "j=2\n",
    "print(i+j)"
   ]
  },
  {
   "cell_type": "code",
   "execution_count": 13,
   "metadata": {},
   "outputs": [
    {
     "data": {
      "text/plain": [
       "6"
      ]
     },
     "execution_count": 13,
     "metadata": {},
     "output_type": "execute_result"
    }
   ],
   "source": [
    "2*3"
   ]
  },
  {
   "cell_type": "code",
   "execution_count": 14,
   "metadata": {},
   "outputs": [
    {
     "data": {
      "text/plain": [
       "32"
      ]
     },
     "execution_count": 14,
     "metadata": {},
     "output_type": "execute_result"
    }
   ],
   "source": [
    "2**5"
   ]
  },
  {
   "cell_type": "code",
   "execution_count": 15,
   "metadata": {},
   "outputs": [
    {
     "data": {
      "text/plain": [
       "9"
      ]
     },
     "execution_count": 15,
     "metadata": {},
     "output_type": "execute_result"
    }
   ],
   "source": [
    "3**2"
   ]
  },
  {
   "cell_type": "code",
   "execution_count": 1,
   "metadata": {},
   "outputs": [
    {
     "name": "stdout",
     "output_type": "stream",
     "text": [
      "1\n",
      "2\n",
      "140719425565520\n",
      "140719425565552\n",
      "False\n"
     ]
    }
   ],
   "source": [
    "#deep copy\n",
    "a=1\n",
    "b=a\n",
    "b=2\n",
    "print(a)\n",
    "print(b)\n",
    "print(id(a))\n",
    "print(id(b))\n",
    "print(a is b)"
   ]
  },
  {
   "cell_type": "code",
   "execution_count": 17,
   "metadata": {},
   "outputs": [
    {
     "name": "stdout",
     "output_type": "stream",
     "text": [
      "[5, 2, 3]\n",
      "[5, 2, 3]\n",
      "1937561762824\n",
      "1937561762824\n"
     ]
    }
   ],
   "source": [
    "#shallow copy\n",
    "a=[1,2,3]\n",
    "b=a\n",
    "b[0]=5\n",
    "print(a)\n",
    "print(b)\n",
    "print(id(a))\n",
    "print(id(b))"
   ]
  },
  {
   "cell_type": "code",
   "execution_count": 19,
   "metadata": {},
   "outputs": [
    {
     "ename": "TypeError",
     "evalue": "unsupported operand type(s) for ** or pow(): 'str' and 'int'",
     "output_type": "error",
     "traceback": [
      "\u001b[1;31m---------------------------------------------------------------------------\u001b[0m",
      "\u001b[1;31mTypeError\u001b[0m                                 Traceback (most recent call last)",
      "\u001b[1;32m<ipython-input-19-0556d1d77427>\u001b[0m in \u001b[0;36m<module>\u001b[1;34m\u001b[0m\n\u001b[0;32m      1\u001b[0m \u001b[0ma\u001b[0m\u001b[1;33m=\u001b[0m\u001b[1;34m\"hi\"\u001b[0m\u001b[1;33m\u001b[0m\u001b[1;33m\u001b[0m\u001b[0m\n\u001b[1;32m----> 2\u001b[1;33m \u001b[0ma\u001b[0m\u001b[1;33m**\u001b[0m\u001b[1;36m3\u001b[0m\u001b[1;33m\u001b[0m\u001b[1;33m\u001b[0m\u001b[0m\n\u001b[0m",
      "\u001b[1;31mTypeError\u001b[0m: unsupported operand type(s) for ** or pow(): 'str' and 'int'"
     ]
    }
   ],
   "source": [
    "a=\"hi\"\n",
    "a**3"
   ]
  },
  {
   "cell_type": "code",
   "execution_count": null,
   "metadata": {},
   "outputs": [],
   "source": [
    "x=1.0\n",
    "y=2.0\n",
    "x=y\n",
    "print(id(x))\n",
    "print(id(y))\n",
    "print(x is y)\n",
    "if x==y:\n",
    "    print('match')"
   ]
  },
  {
   "cell_type": "code",
   "execution_count": 2,
   "metadata": {},
   "outputs": [
    {
     "name": "stdout",
     "output_type": "stream",
     "text": [
      "5 8 5 8\n",
      "140719425565648 140719425565744 140719425565648 140719425565744\n",
      "True\n",
      "True\n",
      "5 8 5 8\n",
      "140719425565648 140719425565744 140719425565648 140719425565744 140719425565648\n",
      "True\n",
      "True\n"
     ]
    }
   ],
   "source": [
    "#deep copy\n",
    "import copy\n",
    "a=5\n",
    "b=8\n",
    "c=copy.deepcopy(a)\n",
    "d=copy.deepcopy(b)\n",
    "print(a,b,c,d)\n",
    "print(id(a),id(b),id(c),id(d))\n",
    "print(c is a)\n",
    "print(d is b)\n",
    "c=5\n",
    "d=8\n",
    "e=5\n",
    "print(a,b,c,d)\n",
    "print(id(a),id(b),id(c),id(d),id(e))\n",
    "print(c is a)\n",
    "print(d is b)"
   ]
  },
  {
   "cell_type": "code",
   "execution_count": null,
   "metadata": {},
   "outputs": [],
   "source": [
    "#deep copy\n",
    "import copy\n",
    "a=5\n",
    "b=8\n",
    "c=copy.copy(a)\n",
    "d=copy.copy(b)\n",
    "print(a,b,c,d)\n",
    "print(id(a),id(b),id(c),id(d))\n",
    "c=9\n",
    "d=10\n",
    "print(a,b,c,d)\n",
    "print(id(a),id(b),id(c),id(d))\n",
    "print(c is a)\n",
    "print(d is b)"
   ]
  },
  {
   "cell_type": "code",
   "execution_count": null,
   "metadata": {},
   "outputs": [],
   "source": [
    "#shallow copy\n",
    "import copy\n",
    "a=[5,10]\n",
    "b=[8,11]\n",
    "c=copy.copy(a)\n",
    "d=copy.copy(b)\n",
    "print(a,b,c,d)\n",
    "print(id(a),id(b),id(c),id(d))\n",
    "print(c is a)\n",
    "print(d is b)\n",
    "c[0]=9\n",
    "d[0]=10\n",
    "print(a,b,c,d)\n",
    "print(id(a),id(b),id(c),id(d))\n",
    "print(c is a)\n",
    "print(d is b)"
   ]
  },
  {
   "cell_type": "code",
   "execution_count": null,
   "metadata": {},
   "outputs": [],
   "source": [
    "#deep copy\n",
    "import copy\n",
    "a=[5,10]\n",
    "b=[8,11]\n",
    "c=copy.deepcopy(a)\n",
    "d=copy.deepcopy(b)\n",
    "print(a,b,c,d)\n",
    "print(id(a),id(b),id(c),id(d))\n",
    "print(c is a)\n",
    "print(d is b)\n",
    "c[0]=9\n",
    "d[0]=10\n",
    "print(a,b,c,d)\n",
    "print(id(a),id(b),id(c),id(d))\n",
    "print(c is a)\n",
    "print(d is b)"
   ]
  },
  {
   "cell_type": "markdown",
   "metadata": {},
   "source": [
    "# for single variable all is deep copy (=,copy.copy,copy,deepcopy):- It means that when they are copied the memory address will be same. And the memory address will be same until some new value is assigned to that variable and original variable value is not updated on updating the copy variable.\n"
   ]
  },
  {
   "cell_type": "markdown",
   "metadata": {},
   "source": [
    "# for list and dictionaries '=' is shallow copy:- it means that memory address of new copied element will be same as the original list and any change in copied list will reflect in original list. And copy.copy, copy.deepcopy and list1=list2[:] are deepcopy:- it means that when they are copied to new memory address and any change in any element will not be reflected in original variable."
   ]
  },
  {
   "cell_type": "markdown",
   "metadata": {},
   "source": [
    "# For composite list like list of list '=',copy.copy is shallow copy and copy.deepcopy is deepcopy"
   ]
  },
  {
   "cell_type": "code",
   "execution_count": 20,
   "metadata": {},
   "outputs": [
    {
     "name": "stdout",
     "output_type": "stream",
     "text": [
      "[5, 10, [1, 2]] [8, 11, [2, 3]] [5, 10, [1, 2]] [8, 11, [2, 3]]\n",
      "1937561761736 1937561049800 1937551981320 1937561762824\n",
      "False\n",
      "False\n",
      "[5, 10, [9, 2]] [8, 11, [2, 10]] [5, 10, [9, 2]] [8, 11, [2, 10]]\n",
      "1937561761736 1937561049800 1937551981320 1937561762824\n",
      "False\n",
      "False\n"
     ]
    }
   ],
   "source": [
    "#shallow copy in list of list\n",
    "import copy\n",
    "a=[5,10,[1,2]]\n",
    "b=[8,11,[2,3]]\n",
    "c=copy.copy(a)\n",
    "d=copy.copy(b)\n",
    "print(a,b,c,d)\n",
    "print(id(a),id(b),id(c),id(d))\n",
    "print(c is a)\n",
    "print(d is b)\n",
    "c[2][0]=9\n",
    "d[2][1]=10\n",
    "print(a,b,c,d)\n",
    "print(id(a),id(b),id(c),id(d))\n",
    "print(c is a)\n",
    "print(d is b)\n"
   ]
  },
  {
   "cell_type": "code",
   "execution_count": 21,
   "metadata": {},
   "outputs": [
    {
     "name": "stdout",
     "output_type": "stream",
     "text": [
      "{'1': 'abc', '2': 'cde'} {'1': 'abc', '2': 'cde'}\n",
      "False\n",
      "1937562669344 1937562669488\n",
      "{'1': 'abc', '2': 'cde'} {'1': 'xyz', '2': 'cde'}\n",
      "False\n",
      "1937562669344 1937562669488\n"
     ]
    }
   ],
   "source": [
    "dict1={'1':'abc','2':'cde'}\n",
    "dict2=copy.copy(dict1)\n",
    "print(dict1,dict2)\n",
    "print(dict2 is dict1)\n",
    "print(id(dict2),id(dict1))\n",
    "dict2['1']='xyz'\n",
    "print(dict1,dict2)\n",
    "print(dict2 is dict1)\n",
    "print(id(dict2),id(dict1))"
   ]
  },
  {
   "cell_type": "code",
   "execution_count": 22,
   "metadata": {},
   "outputs": [
    {
     "name": "stdout",
     "output_type": "stream",
     "text": [
      "{'1': 'abc', '2': 'cde'} {'1': 'abc', '2': 'cde'}\n",
      "True\n",
      "1937562669200 1937562669200\n",
      "{'1': 'xyz', '2': 'cde'} {'1': 'xyz', '2': 'cde'}\n",
      "True\n",
      "1937562669200 1937562669200\n"
     ]
    }
   ],
   "source": [
    "dict1={'1':'abc','2':'cde'}\n",
    "dict2=dict1\n",
    "print(dict1,dict2)\n",
    "print(dict2 is dict1)\n",
    "print(id(dict2),id(dict1))\n",
    "dict2['1']='xyz'\n",
    "print(dict1,dict2)\n",
    "print(dict2 is dict1)\n",
    "print(id(dict2),id(dict1))"
   ]
  },
  {
   "cell_type": "code",
   "execution_count": 23,
   "metadata": {},
   "outputs": [
    {
     "name": "stdout",
     "output_type": "stream",
     "text": [
      "{'1': 'abc', '2': 'cde'} {'1': 'abc', '2': 'cde'}\n",
      "True\n",
      "1937562669560 1937562669560\n",
      "{'1': 'xyz', '2': 'cde'} {'1': 'xyz', '2': 'cde'}\n",
      "True\n",
      "1937562669560 1937562669560\n"
     ]
    }
   ],
   "source": [
    "dict1={'1':'abc','2':'cde'}\n",
    "dict2=dict1\n",
    "print(dict1,dict2)\n",
    "print(dict2 is dict1)\n",
    "print(id(dict2),id(dict1))\n",
    "dict2['1']='xyz'\n",
    "print(dict1,dict2)\n",
    "print(dict2 is dict1)\n",
    "print(id(dict2),id(dict1))"
   ]
  },
  {
   "cell_type": "code",
   "execution_count": 24,
   "metadata": {},
   "outputs": [
    {
     "ename": "TypeError",
     "evalue": "'tuple' object does not support item assignment",
     "output_type": "error",
     "traceback": [
      "\u001b[1;31m---------------------------------------------------------------------------\u001b[0m",
      "\u001b[1;31mTypeError\u001b[0m                                 Traceback (most recent call last)",
      "\u001b[1;32m<ipython-input-24-a42f46ea3cb7>\u001b[0m in \u001b[0;36m<module>\u001b[1;34m\u001b[0m\n\u001b[0;32m      2\u001b[0m \u001b[0mt1\u001b[0m\u001b[1;33m=\u001b[0m\u001b[1;33m(\u001b[0m\u001b[1;36m1\u001b[0m\u001b[1;33m,\u001b[0m\u001b[1;36m2\u001b[0m\u001b[1;33m,\u001b[0m\u001b[1;36m3\u001b[0m\u001b[1;33m)\u001b[0m\u001b[1;33m\u001b[0m\u001b[1;33m\u001b[0m\u001b[0m\n\u001b[0;32m      3\u001b[0m \u001b[0ml1\u001b[0m\u001b[1;33m[\u001b[0m\u001b[1;36m1\u001b[0m\u001b[1;33m]\u001b[0m\u001b[1;33m=\u001b[0m\u001b[1;36m10\u001b[0m\u001b[1;33m\u001b[0m\u001b[1;33m\u001b[0m\u001b[0m\n\u001b[1;32m----> 4\u001b[1;33m \u001b[0mt1\u001b[0m\u001b[1;33m[\u001b[0m\u001b[1;36m1\u001b[0m\u001b[1;33m]\u001b[0m\u001b[1;33m=\u001b[0m\u001b[1;36m10\u001b[0m\u001b[1;33m\u001b[0m\u001b[1;33m\u001b[0m\u001b[0m\n\u001b[0m",
      "\u001b[1;31mTypeError\u001b[0m: 'tuple' object does not support item assignment"
     ]
    }
   ],
   "source": [
    "l1=[1,2,3]\n",
    "t1=(1,2,3)\n",
    "l1[1]=10\n",
    "t1[1]=10\n"
   ]
  },
  {
   "cell_type": "code",
   "execution_count": 26,
   "metadata": {},
   "outputs": [
    {
     "name": "stdout",
     "output_type": "stream",
     "text": [
      "[1, 2, 'hi'] (1, 2, 'hi')\n"
     ]
    }
   ],
   "source": [
    "l2=[1,2,'hi']\n",
    "t2=(1,2,'hi')\n",
    "print(l2,t2)"
   ]
  },
  {
   "cell_type": "code",
   "execution_count": 30,
   "metadata": {},
   "outputs": [
    {
     "name": "stdout",
     "output_type": "stream",
     "text": [
      "0.0\n"
     ]
    }
   ],
   "source": [
    "k=1//float(2.2)\n",
    "print(k)"
   ]
  },
  {
   "cell_type": "code",
   "execution_count": 35,
   "metadata": {},
   "outputs": [
    {
     "name": "stdout",
     "output_type": "stream",
     "text": [
      "140720748279184 140720748279184\n",
      "b is : 19\n",
      "140720748279184\n",
      "19\n",
      "140720748278960 140720748279184\n",
      "12\n",
      "19\n"
     ]
    }
   ],
   "source": [
    "a = 19\n",
    "b = a\n",
    "print(id(a),id(b))\n",
    "print('b is :', b)\n",
    "del a\n",
    "print(id(b))\n",
    "print(b)\n",
    "a = 12\n",
    "print(id(a),id(b))\n",
    "print(a)\n",
    "print(b)"
   ]
  },
  {
   "cell_type": "code",
   "execution_count": 55,
   "metadata": {},
   "outputs": [
    {
     "name": "stdout",
     "output_type": "stream",
     "text": [
      "[1, 3, 5, 7, 9]\n"
     ]
    }
   ],
   "source": [
    "print(list(range(1,10,2)))\n",
    "#print(k)\n",
    "\n"
   ]
  },
  {
   "cell_type": "code",
   "execution_count": 1,
   "metadata": {},
   "outputs": [
    {
     "name": "stdout",
     "output_type": "stream",
     "text": [
      "['t', 'h', 'i', 's', ' ', 'bye', 's', ' ', 's', 'p', 'a', 'r', 't', 'a']\n"
     ]
    }
   ],
   "source": [
    "s1='this is sparta'\n",
    "s2=list(s1)\n",
    "s2[5]='bye'\n",
    "#s1=''.join(s2)\n",
    "s1=s2\n",
    "print(s1)"
   ]
  },
  {
   "cell_type": "code",
   "execution_count": 23,
   "metadata": {},
   "outputs": [
    {
     "name": "stdout",
     "output_type": "stream",
     "text": [
      "['t', 'h', 'i', 's', ' ', 'i', 's', ' ', 's', 'p', 'a', 'r', 't', 'a']\n",
      "[' ', ' ', 'a', 'a', 'h', 'i', 'i', 'p', 'r', 's', 's', 's', 't', 't']\n",
      "  aahiiprssstt\n",
      "<class 'str'>\n"
     ]
    }
   ],
   "source": [
    "s1='this is sparta'\n",
    "s3=list(s1)#.sort()\n",
    "print(s3)\n",
    "s3.sort()\n",
    "print(s3)\n",
    "s4=''.join(s3)\n",
    "print(s4)\n",
    "print(type(s4))"
   ]
  },
  {
   "cell_type": "code",
   "execution_count": 24,
   "metadata": {},
   "outputs": [
    {
     "data": {
      "text/plain": [
       "2"
      ]
     },
     "execution_count": 24,
     "metadata": {},
     "output_type": "execute_result"
    }
   ],
   "source": [
    "s1.count('a')"
   ]
  },
  {
   "cell_type": "code",
   "execution_count": 41,
   "metadata": {},
   "outputs": [
    {
     "data": {
      "text/plain": [
       "14"
      ]
     },
     "execution_count": 41,
     "metadata": {},
     "output_type": "execute_result"
    }
   ],
   "source": [
    "len(s1)"
   ]
  },
  {
   "cell_type": "code",
   "execution_count": 49,
   "metadata": {},
   "outputs": [
    {
     "data": {
      "text/plain": [
       "10"
      ]
     },
     "execution_count": 49,
     "metadata": {},
     "output_type": "execute_result"
    }
   ],
   "source": [
    "s1.index('a',1)"
   ]
  },
  {
   "cell_type": "code",
   "execution_count": 42,
   "metadata": {},
   "outputs": [
    {
     "data": {
      "text/plain": [
       "14"
      ]
     },
     "execution_count": 42,
     "metadata": {},
     "output_type": "execute_result"
    }
   ],
   "source": [
    "len(s3)"
   ]
  },
  {
   "cell_type": "code",
   "execution_count": 54,
   "metadata": {},
   "outputs": [
    {
     "data": {
      "text/plain": [
       "[6, '7']"
      ]
     },
     "execution_count": 54,
     "metadata": {},
     "output_type": "execute_result"
    }
   ],
   "source": [
    "l=[]\n",
    "l.append(6)\n",
    "l.extend('7')\n",
    "l"
   ]
  },
  {
   "cell_type": "code",
   "execution_count": 56,
   "metadata": {},
   "outputs": [
    {
     "data": {
      "text/plain": [
       "['9']"
      ]
     },
     "execution_count": 56,
     "metadata": {},
     "output_type": "execute_result"
    }
   ],
   "source": [
    "l=[]\n",
    "l.extend(\"9\")\n",
    "l"
   ]
  },
  {
   "cell_type": "code",
   "execution_count": 65,
   "metadata": {},
   "outputs": [
    {
     "data": {
      "text/plain": [
       "[9, [10, 11], 20, 21]"
      ]
     },
     "execution_count": 65,
     "metadata": {},
     "output_type": "execute_result"
    }
   ],
   "source": [
    "l=[9]\n",
    "l.append([10,11])\n",
    "l.extend([20,21])\n",
    "l"
   ]
  },
  {
   "cell_type": "code",
   "execution_count": 66,
   "metadata": {},
   "outputs": [
    {
     "data": {
      "text/plain": [
       "[[10, 11], 20]"
      ]
     },
     "execution_count": 66,
     "metadata": {},
     "output_type": "execute_result"
    }
   ],
   "source": [
    "l[1:3]"
   ]
  },
  {
   "cell_type": "code",
   "execution_count": 67,
   "metadata": {},
   "outputs": [],
   "source": [
    "l[1:3]=[4,5]"
   ]
  },
  {
   "cell_type": "code",
   "execution_count": 68,
   "metadata": {},
   "outputs": [
    {
     "data": {
      "text/plain": [
       "[9, 4, 5, 21]"
      ]
     },
     "execution_count": 68,
     "metadata": {},
     "output_type": "execute_result"
    }
   ],
   "source": [
    "l"
   ]
  },
  {
   "cell_type": "code",
   "execution_count": 70,
   "metadata": {},
   "outputs": [
    {
     "name": "stdout",
     "output_type": "stream",
     "text": [
      "['i', 'n', 's', 'e', 'r', 't', 'A', 'd', 'd', 'e', 1, 2, 3]\n"
     ]
    }
   ],
   "source": [
    "l = ['i', 'n', 's', 'e', 'r', 't', 'A', 'd', 'd', 'd', 'e', 1, 2, 3]\n",
    "l.remove('d')\n",
    "print(l)"
   ]
  },
  {
   "cell_type": "code",
   "execution_count": 72,
   "metadata": {},
   "outputs": [
    {
     "data": {
      "text/plain": [
       "[1, 3, 5, 7, 9]"
      ]
     },
     "execution_count": 72,
     "metadata": {},
     "output_type": "execute_result"
    }
   ],
   "source": [
    "list(range(1,10,2))"
   ]
  },
  {
   "cell_type": "code",
   "execution_count": 74,
   "metadata": {},
   "outputs": [
    {
     "data": {
      "text/plain": [
       "[2, 4, 6, 8, 10]"
      ]
     },
     "execution_count": 74,
     "metadata": {},
     "output_type": "execute_result"
    }
   ],
   "source": [
    "list(range(2,11,2))"
   ]
  },
  {
   "cell_type": "code",
   "execution_count": 79,
   "metadata": {},
   "outputs": [
    {
     "data": {
      "text/plain": [
       "(1, 2, 3, 4, 5)"
      ]
     },
     "execution_count": 79,
     "metadata": {},
     "output_type": "execute_result"
    }
   ],
   "source": [
    "x=1,2,3,4,5\n",
    "x"
   ]
  },
  {
   "cell_type": "code",
   "execution_count": 80,
   "metadata": {},
   "outputs": [
    {
     "name": "stdout",
     "output_type": "stream",
     "text": [
      "4 5 1 2 3\n"
     ]
    }
   ],
   "source": [
    "c,y,z,a,b=x\n",
    "print(a,b,c,y,z)"
   ]
  },
  {
   "cell_type": "code",
   "execution_count": 82,
   "metadata": {},
   "outputs": [
    {
     "data": {
      "text/plain": [
       "{1, 2, 3, 4, 5, 'bye', 'hi'}"
      ]
     },
     "execution_count": 82,
     "metadata": {},
     "output_type": "execute_result"
    }
   ],
   "source": [
    "set1={1,2,3,4,4,5,5,'hi','bye'}\n",
    "set1"
   ]
  },
  {
   "cell_type": "code",
   "execution_count": 83,
   "metadata": {},
   "outputs": [],
   "source": [
    "li=[1,2,3,4,54,5]\n",
    "dic={'val1':'1','val2':'2','val3':'3','val4':'4','val5':'54','val6':'5'}\n",
    "tup=(1,2,3,4,54,5)\n",
    "print(li[4],dic['val5'],tup[4])\n",
    "\n",
    "\n"
   ]
  },
  {
   "cell_type": "code",
   "execution_count": null,
   "metadata": {},
   "outputs": [],
   "source": [
    "if i==j:\n",
    "   asjdbajksdd\n",
    "   asdsd\n",
    "sdasfd\n",
    "    asdsd\n",
    "    if k==l:\n",
    "    sfsadfs\n",
    "    sdsad"
   ]
  },
  {
   "cell_type": "code",
   "execution_count": 91,
   "metadata": {},
   "outputs": [
    {
     "name": "stdout",
     "output_type": "stream",
     "text": [
      " elif statement is True\n",
      "(2, 5)\n"
     ]
    }
   ],
   "source": [
    "x=1\n",
    "y=(2,5)\n",
    "if False or (True and (True and False)):\n",
    "    print(\" If statement is True\")\n",
    "elif x==1 or print('hi'):\n",
    "    print(\" elif statement is True\")\n",
    "else:\n",
    "    print('Both if and elif is False')\n",
    "    \n",
    "print(y)"
   ]
  },
  {
   "cell_type": "code",
   "execution_count": null,
   "metadata": {},
   "outputs": [],
   "source": [
    "for()--line change\n",
    "\tfor()--print(*)\n",
    "\n",
    "for(i=n i<1 i--)\n",
    "\tprint(i)\n",
    "\tfor (j)"
   ]
  },
  {
   "cell_type": "code",
   "execution_count": 12,
   "metadata": {},
   "outputs": [
    {
     "name": "stdout",
     "output_type": "stream",
     "text": [
      "0\n",
      "0\n",
      "1\n",
      "0\n",
      "1\n",
      "2\n",
      "0\n",
      "1\n",
      "2\n",
      "3\n"
     ]
    }
   ],
   "source": [
    "for i in range(5):\n",
    "    for j in range(i):\n",
    "        print(j)\n",
    "        print('*')"
   ]
  },
  {
   "cell_type": "code",
   "execution_count": 48,
   "metadata": {},
   "outputs": [
    {
     "name": "stdout",
     "output_type": "stream",
     "text": [
      "      * \n",
      "     * * \n",
      "    * * * \n",
      "   * * * * \n",
      "  * * * * * \n",
      " * * * * * * \n"
     ]
    }
   ],
   "source": [
    "for i in range(6):\n",
    "    #for k in range(0,6-i):\n",
    "    print(' '*(6-i),end='')\n",
    "    #for j in range(0,i+1):\n",
    "    print('* '*(i+1),end='')\n",
    "    #print(\"\\n\")\n",
    "    print()"
   ]
  },
  {
   "cell_type": "code",
   "execution_count": 49,
   "metadata": {},
   "outputs": [
    {
     "name": "stdout",
     "output_type": "stream",
     "text": [
      "0 -3\n",
      "1 -2\n",
      "2 -1\n",
      "3 0\n",
      "4 1\n",
      "5 2\n"
     ]
    }
   ],
   "source": [
    "for idx, x in enumerate(range(-3,3)):\n",
    "    print(idx, x)"
   ]
  },
  {
   "cell_type": "code",
   "execution_count": 51,
   "metadata": {},
   "outputs": [
    {
     "name": "stdout",
     "output_type": "stream",
     "text": [
      "0 i\n",
      "1 1\n",
      "2 2\n",
      "3 3\n",
      "4 4\n",
      "5 5\n"
     ]
    }
   ],
   "source": [
    "li=['i',1,2,3,4,5]\n",
    "\n",
    "for idx,y in enumerate(li):\n",
    "    print(idx,y)\n"
   ]
  },
  {
   "cell_type": "code",
   "execution_count": 52,
   "metadata": {},
   "outputs": [
    {
     "data": {
      "text/plain": [
       "1"
      ]
     },
     "execution_count": 52,
     "metadata": {},
     "output_type": "execute_result"
    }
   ],
   "source": [
    "li.index(1)"
   ]
  },
  {
   "cell_type": "code",
   "execution_count": 53,
   "metadata": {},
   "outputs": [
    {
     "name": "stdout",
     "output_type": "stream",
     "text": [
      "(0, 'i')\n",
      "(1, 1)\n",
      "(2, 2)\n",
      "(3, 3)\n",
      "(4, 4)\n",
      "(5, 5)\n"
     ]
    }
   ],
   "source": [
    "for z in enumerate(li):\n",
    "    print(z)"
   ]
  },
  {
   "cell_type": "code",
   "execution_count": 56,
   "metadata": {},
   "outputs": [
    {
     "data": {
      "text/plain": [
       "[0, 1, 4, 9, 16]"
      ]
     },
     "execution_count": 56,
     "metadata": {},
     "output_type": "execute_result"
    }
   ],
   "source": [
    "x=[i**2 for i in range(5)]\n",
    "x"
   ]
  },
  {
   "cell_type": "code",
   "execution_count": 63,
   "metadata": {},
   "outputs": [
    {
     "ename": "SyntaxError",
     "evalue": "invalid syntax (<ipython-input-63-d7dc4718b73d>, line 1)",
     "output_type": "error",
     "traceback": [
      "\u001b[1;36m  File \u001b[1;32m\"<ipython-input-63-d7dc4718b73d>\"\u001b[1;36m, line \u001b[1;32m1\u001b[0m\n\u001b[1;33m    x=[ i  for i in range(5) if(i>2) else 0 ]\u001b[0m\n\u001b[1;37m                                        ^\u001b[0m\n\u001b[1;31mSyntaxError\u001b[0m\u001b[1;31m:\u001b[0m invalid syntax\n"
     ]
    }
   ],
   "source": [
    "x=[ i  for i in range(5) if(i>2) else 0 ]\n",
    "x"
   ]
  },
  {
   "cell_type": "code",
   "execution_count": 80,
   "metadata": {},
   "outputs": [
    {
     "data": {
      "text/plain": [
       "5"
      ]
     },
     "execution_count": 80,
     "metadata": {},
     "output_type": "execute_result"
    }
   ],
   "source": [
    "a='ABCDCDCCDCDCDCDCDCDCDC'\n",
    "a.count('CDC')\n"
   ]
  },
  {
   "cell_type": "code",
   "execution_count": 87,
   "metadata": {},
   "outputs": [
    {
     "name": "stdout",
     "output_type": "stream",
     "text": [
      "[1]\n",
      "[2]\n",
      "[2, 3]\n"
     ]
    }
   ],
   "source": [
    "def f(a, L=[]):\n",
    "    L.append(a)\n",
    "    return L\n",
    "\n",
    "print(f(1, L=[]))\n",
    "print(f(2))\n",
    "print(f(3))\n",
    "#print(L)"
   ]
  },
  {
   "cell_type": "code",
   "execution_count": 93,
   "metadata": {},
   "outputs": [
    {
     "name": "stdout",
     "output_type": "stream",
     "text": [
      "aa\n",
      "bb\n",
      "cc\n",
      "nn\n",
      "dd\n",
      "dd\n",
      "ss\n",
      "dd\n"
     ]
    }
   ],
   "source": [
    "li=tuple(range(-3,4))\n",
    "st='abcnddsd'\n",
    "for i in map(lambda x: x*2, st):\n",
    "    print(i)"
   ]
  },
  {
   "cell_type": "code",
   "execution_count": 94,
   "metadata": {},
   "outputs": [
    {
     "name": "stdout",
     "output_type": "stream",
     "text": [
      "12\n",
      "7\n",
      "ch\n",
      "54\n",
      "46\n",
      "c2\n",
      "2.5\n",
      "6\n"
     ]
    }
   ],
   "source": [
    "class parent:\n",
    "    def __init__(self):\n",
    "        self.a=2\n",
    "        self.b=4\n",
    "    def form1(self):        \n",
    "        print(self.a-self.b)\n",
    "\n",
    "class child(parent):\n",
    "    def __init__(self):\n",
    "        self.a=50\n",
    "        self.b=4\n",
    "    def form1(self):\n",
    "        print(self.a+self.b)\n",
    "    def callparentform1(self):\n",
    "        super().form1()\n",
    "\n",
    "class child1(child):\n",
    "    def __init__(self):\n",
    "        self.a=3\n",
    "        self.b=4\n",
    "    def form1(self):\n",
    "        print(self.a*self.b)\n",
    "    def callchildform1(self):\n",
    "        super().form1()\n",
    "\n",
    "class child2(parent):\n",
    "    def __init__(self):\n",
    "        self.a=10\n",
    "        self.b=4\n",
    "    def form1(self):\n",
    "        print(self.a/self.b)\n",
    "    def callparentform1(self):\n",
    "        super().form1()\n",
    "        \n",
    "c=child1()\n",
    "c.form1()\n",
    "c.callchildform1()\n",
    "print(\"ch\")\n",
    "ch=child()\n",
    "ch.form1()\n",
    "ch.callparentform1()\n",
    "print(\"c2\")\n",
    "c2=child2()\n",
    "c2.form1()\n",
    "c2.callparentform1()\n"
   ]
  },
  {
   "cell_type": "code",
   "execution_count": 1,
   "metadata": {},
   "outputs": [],
   "source": [
    "import pandas as pd"
   ]
  },
  {
   "cell_type": "code",
   "execution_count": 2,
   "metadata": {},
   "outputs": [],
   "source": [
    "df=pd.read_excel('workbook_list_match.xlsx')"
   ]
  },
  {
   "cell_type": "code",
   "execution_count": 4,
   "metadata": {},
   "outputs": [
    {
     "data": {
      "text/html": [
       "<div>\n",
       "<style scoped>\n",
       "    .dataframe tbody tr th:only-of-type {\n",
       "        vertical-align: middle;\n",
       "    }\n",
       "\n",
       "    .dataframe tbody tr th {\n",
       "        vertical-align: top;\n",
       "    }\n",
       "\n",
       "    .dataframe thead th {\n",
       "        text-align: right;\n",
       "    }\n",
       "</style>\n",
       "<table border=\"1\" class=\"dataframe\">\n",
       "  <thead>\n",
       "    <tr style=\"text-align: right;\">\n",
       "      <th></th>\n",
       "      <th>Cluster_Nbr</th>\n",
       "      <th>Item_Name</th>\n",
       "      <th>Match_Score</th>\n",
       "    </tr>\n",
       "  </thead>\n",
       "  <tbody>\n",
       "    <tr>\n",
       "      <th>0</th>\n",
       "      <td>1</td>\n",
       "      <td>2013-11 All States LG membership graphs</td>\n",
       "      <td>100</td>\n",
       "    </tr>\n",
       "    <tr>\n",
       "      <th>1</th>\n",
       "      <td>1</td>\n",
       "      <td>2013-11 All States SG membership graphs</td>\n",
       "      <td>97</td>\n",
       "    </tr>\n",
       "    <tr>\n",
       "      <th>2</th>\n",
       "      <td>1</td>\n",
       "      <td>Membership</td>\n",
       "      <td>90</td>\n",
       "    </tr>\n",
       "    <tr>\n",
       "      <th>3</th>\n",
       "      <td>1</td>\n",
       "      <td>Dec LG membership</td>\n",
       "      <td>86</td>\n",
       "    </tr>\n",
       "    <tr>\n",
       "      <th>4</th>\n",
       "      <td>1</td>\n",
       "      <td>Dec SG membership</td>\n",
       "      <td>86</td>\n",
       "    </tr>\n",
       "  </tbody>\n",
       "</table>\n",
       "</div>"
      ],
      "text/plain": [
       "   Cluster_Nbr                                Item_Name  Match_Score\n",
       "0            1  2013-11 All States LG membership graphs          100\n",
       "1            1  2013-11 All States SG membership graphs           97\n",
       "2            1                               Membership           90\n",
       "3            1                        Dec LG membership           86\n",
       "4            1                        Dec SG membership           86"
      ]
     },
     "execution_count": 4,
     "metadata": {},
     "output_type": "execute_result"
    }
   ],
   "source": [
    "df.head()"
   ]
  },
  {
   "cell_type": "code",
   "execution_count": 7,
   "metadata": {},
   "outputs": [
    {
     "data": {
      "text/plain": [
       "pandas.core.frame.DataFrame"
      ]
     },
     "execution_count": 7,
     "metadata": {},
     "output_type": "execute_result"
    }
   ],
   "source": [
    "type(df)"
   ]
  },
  {
   "cell_type": "code",
   "execution_count": 9,
   "metadata": {},
   "outputs": [
    {
     "data": {
      "text/plain": [
       "pandas.core.series.Series"
      ]
     },
     "execution_count": 9,
     "metadata": {},
     "output_type": "execute_result"
    }
   ],
   "source": [
    "type(df['Item_Name'])"
   ]
  },
  {
   "cell_type": "code",
   "execution_count": 11,
   "metadata": {},
   "outputs": [
    {
     "data": {
      "text/plain": [
       "str"
      ]
     },
     "execution_count": 11,
     "metadata": {},
     "output_type": "execute_result"
    }
   ],
   "source": [
    "type(df['Item_Name'][0])"
   ]
  },
  {
   "cell_type": "code",
   "execution_count": 12,
   "metadata": {},
   "outputs": [
    {
     "data": {
      "text/plain": [
       "numpy.int64"
      ]
     },
     "execution_count": 12,
     "metadata": {},
     "output_type": "execute_result"
    }
   ],
   "source": [
    "type(df['Match_Score'][0])"
   ]
  },
  {
   "cell_type": "code",
   "execution_count": 14,
   "metadata": {},
   "outputs": [
    {
     "data": {
      "text/plain": [
       "numpy.int64"
      ]
     },
     "execution_count": 14,
     "metadata": {},
     "output_type": "execute_result"
    }
   ],
   "source": [
    "type(df['Cluster_Nbr'][0])"
   ]
  },
  {
   "cell_type": "code",
   "execution_count": 15,
   "metadata": {},
   "outputs": [
    {
     "data": {
      "text/html": [
       "<div>\n",
       "<style scoped>\n",
       "    .dataframe tbody tr th:only-of-type {\n",
       "        vertical-align: middle;\n",
       "    }\n",
       "\n",
       "    .dataframe tbody tr th {\n",
       "        vertical-align: top;\n",
       "    }\n",
       "\n",
       "    .dataframe thead th {\n",
       "        text-align: right;\n",
       "    }\n",
       "</style>\n",
       "<table border=\"1\" class=\"dataframe\">\n",
       "  <thead>\n",
       "    <tr style=\"text-align: right;\">\n",
       "      <th></th>\n",
       "      <th>Cluster_Nbr</th>\n",
       "      <th>Match_Score</th>\n",
       "    </tr>\n",
       "  </thead>\n",
       "  <tbody>\n",
       "    <tr>\n",
       "      <th>count</th>\n",
       "      <td>148.000000</td>\n",
       "      <td>148.000000</td>\n",
       "    </tr>\n",
       "    <tr>\n",
       "      <th>mean</th>\n",
       "      <td>41.027027</td>\n",
       "      <td>95.081081</td>\n",
       "    </tr>\n",
       "    <tr>\n",
       "      <th>std</th>\n",
       "      <td>28.678833</td>\n",
       "      <td>7.018453</td>\n",
       "    </tr>\n",
       "    <tr>\n",
       "      <th>min</th>\n",
       "      <td>1.000000</td>\n",
       "      <td>75.000000</td>\n",
       "    </tr>\n",
       "    <tr>\n",
       "      <th>25%</th>\n",
       "      <td>15.750000</td>\n",
       "      <td>86.000000</td>\n",
       "    </tr>\n",
       "    <tr>\n",
       "      <th>50%</th>\n",
       "      <td>38.500000</td>\n",
       "      <td>100.000000</td>\n",
       "    </tr>\n",
       "    <tr>\n",
       "      <th>75%</th>\n",
       "      <td>64.000000</td>\n",
       "      <td>100.000000</td>\n",
       "    </tr>\n",
       "    <tr>\n",
       "      <th>max</th>\n",
       "      <td>94.000000</td>\n",
       "      <td>100.000000</td>\n",
       "    </tr>\n",
       "  </tbody>\n",
       "</table>\n",
       "</div>"
      ],
      "text/plain": [
       "       Cluster_Nbr  Match_Score\n",
       "count   148.000000   148.000000\n",
       "mean     41.027027    95.081081\n",
       "std      28.678833     7.018453\n",
       "min       1.000000    75.000000\n",
       "25%      15.750000    86.000000\n",
       "50%      38.500000   100.000000\n",
       "75%      64.000000   100.000000\n",
       "max      94.000000   100.000000"
      ]
     },
     "execution_count": 15,
     "metadata": {},
     "output_type": "execute_result"
    }
   ],
   "source": [
    "df.describe()"
   ]
  },
  {
   "cell_type": "code",
   "execution_count": 19,
   "metadata": {},
   "outputs": [
    {
     "data": {
      "text/plain": [
       "(148, 3)"
      ]
     },
     "execution_count": 19,
     "metadata": {},
     "output_type": "execute_result"
    }
   ],
   "source": [
    "df.shape"
   ]
  },
  {
   "cell_type": "code",
   "execution_count": 24,
   "metadata": {},
   "outputs": [],
   "source": [
    "df1=df[df['Cluster_Nbr']==1]"
   ]
  },
  {
   "cell_type": "code",
   "execution_count": 39,
   "metadata": {},
   "outputs": [],
   "source": [
    "df1.rename(columns={'Cluster_Nbr':'Col1','Item_Name':'Name','Match_Score':'Score'},inplace=True)"
   ]
  },
  {
   "cell_type": "code",
   "execution_count": 47,
   "metadata": {},
   "outputs": [
    {
     "data": {
      "text/plain": [
       "numpy.int64"
      ]
     },
     "execution_count": 47,
     "metadata": {},
     "output_type": "execute_result"
    }
   ],
   "source": [
    "type(df1['Col1'][0])"
   ]
  },
  {
   "cell_type": "code",
   "execution_count": 52,
   "metadata": {},
   "outputs": [],
   "source": [
    "df3=pd.merge(df,df1,left_on='Cluster_Nbr',right_on='Col1',how='inner')"
   ]
  },
  {
   "cell_type": "code",
   "execution_count": 53,
   "metadata": {},
   "outputs": [
    {
     "data": {
      "text/html": [
       "<div>\n",
       "<style scoped>\n",
       "    .dataframe tbody tr th:only-of-type {\n",
       "        vertical-align: middle;\n",
       "    }\n",
       "\n",
       "    .dataframe tbody tr th {\n",
       "        vertical-align: top;\n",
       "    }\n",
       "\n",
       "    .dataframe thead th {\n",
       "        text-align: right;\n",
       "    }\n",
       "</style>\n",
       "<table border=\"1\" class=\"dataframe\">\n",
       "  <thead>\n",
       "    <tr style=\"text-align: right;\">\n",
       "      <th></th>\n",
       "      <th>Cluster_Nbr</th>\n",
       "      <th>Item_Name</th>\n",
       "      <th>Match_Score</th>\n",
       "      <th>Col1</th>\n",
       "      <th>Name</th>\n",
       "      <th>Score</th>\n",
       "    </tr>\n",
       "  </thead>\n",
       "  <tbody>\n",
       "    <tr>\n",
       "      <th>0</th>\n",
       "      <td>1</td>\n",
       "      <td>2013-11 All States LG membership graphs</td>\n",
       "      <td>100</td>\n",
       "      <td>1.0</td>\n",
       "      <td>2013-11 All States LG membership graphs</td>\n",
       "      <td>100.0</td>\n",
       "    </tr>\n",
       "    <tr>\n",
       "      <th>1</th>\n",
       "      <td>1</td>\n",
       "      <td>2013-11 All States LG membership graphs</td>\n",
       "      <td>100</td>\n",
       "      <td>1.0</td>\n",
       "      <td>2013-11 All States SG membership graphs</td>\n",
       "      <td>97.0</td>\n",
       "    </tr>\n",
       "    <tr>\n",
       "      <th>2</th>\n",
       "      <td>1</td>\n",
       "      <td>2013-11 All States LG membership graphs</td>\n",
       "      <td>100</td>\n",
       "      <td>1.0</td>\n",
       "      <td>Membership</td>\n",
       "      <td>90.0</td>\n",
       "    </tr>\n",
       "    <tr>\n",
       "      <th>3</th>\n",
       "      <td>1</td>\n",
       "      <td>2013-11 All States LG membership graphs</td>\n",
       "      <td>100</td>\n",
       "      <td>1.0</td>\n",
       "      <td>Dec LG membership</td>\n",
       "      <td>86.0</td>\n",
       "    </tr>\n",
       "    <tr>\n",
       "      <th>4</th>\n",
       "      <td>1</td>\n",
       "      <td>2013-11 All States LG membership graphs</td>\n",
       "      <td>100</td>\n",
       "      <td>1.0</td>\n",
       "      <td>Dec SG membership</td>\n",
       "      <td>86.0</td>\n",
       "    </tr>\n",
       "    <tr>\n",
       "      <th>5</th>\n",
       "      <td>1</td>\n",
       "      <td>2013-11 All States LG membership graphs</td>\n",
       "      <td>100</td>\n",
       "      <td>1.0</td>\n",
       "      <td>Dec medicare membership</td>\n",
       "      <td>86.0</td>\n",
       "    </tr>\n",
       "    <tr>\n",
       "      <th>6</th>\n",
       "      <td>1</td>\n",
       "      <td>2013-11 All States LG membership graphs</td>\n",
       "      <td>100</td>\n",
       "      <td>1.0</td>\n",
       "      <td>Feb LG membership</td>\n",
       "      <td>86.0</td>\n",
       "    </tr>\n",
       "    <tr>\n",
       "      <th>7</th>\n",
       "      <td>1</td>\n",
       "      <td>2013-11 All States LG membership graphs</td>\n",
       "      <td>100</td>\n",
       "      <td>1.0</td>\n",
       "      <td>Jan LG membership</td>\n",
       "      <td>86.0</td>\n",
       "    </tr>\n",
       "    <tr>\n",
       "      <th>8</th>\n",
       "      <td>1</td>\n",
       "      <td>2013-11 All States LG membership graphs</td>\n",
       "      <td>100</td>\n",
       "      <td>1.0</td>\n",
       "      <td>Jan SG membership</td>\n",
       "      <td>86.0</td>\n",
       "    </tr>\n",
       "    <tr>\n",
       "      <th>9</th>\n",
       "      <td>1</td>\n",
       "      <td>2013-11 All States LG membership graphs</td>\n",
       "      <td>100</td>\n",
       "      <td>1.0</td>\n",
       "      <td>Membership Reporting</td>\n",
       "      <td>86.0</td>\n",
       "    </tr>\n",
       "    <tr>\n",
       "      <th>10</th>\n",
       "      <td>1</td>\n",
       "      <td>2013-11 All States LG membership graphs</td>\n",
       "      <td>100</td>\n",
       "      <td>1.0</td>\n",
       "      <td>Nov LG membership</td>\n",
       "      <td>86.0</td>\n",
       "    </tr>\n",
       "    <tr>\n",
       "      <th>11</th>\n",
       "      <td>1</td>\n",
       "      <td>2013-11 All States LG membership graphs</td>\n",
       "      <td>100</td>\n",
       "      <td>1.0</td>\n",
       "      <td>medicare membership</td>\n",
       "      <td>86.0</td>\n",
       "    </tr>\n",
       "    <tr>\n",
       "      <th>12</th>\n",
       "      <td>1</td>\n",
       "      <td>2013-11 All States SG membership graphs</td>\n",
       "      <td>97</td>\n",
       "      <td>1.0</td>\n",
       "      <td>2013-11 All States LG membership graphs</td>\n",
       "      <td>100.0</td>\n",
       "    </tr>\n",
       "    <tr>\n",
       "      <th>13</th>\n",
       "      <td>1</td>\n",
       "      <td>2013-11 All States SG membership graphs</td>\n",
       "      <td>97</td>\n",
       "      <td>1.0</td>\n",
       "      <td>2013-11 All States SG membership graphs</td>\n",
       "      <td>97.0</td>\n",
       "    </tr>\n",
       "    <tr>\n",
       "      <th>14</th>\n",
       "      <td>1</td>\n",
       "      <td>2013-11 All States SG membership graphs</td>\n",
       "      <td>97</td>\n",
       "      <td>1.0</td>\n",
       "      <td>Membership</td>\n",
       "      <td>90.0</td>\n",
       "    </tr>\n",
       "    <tr>\n",
       "      <th>15</th>\n",
       "      <td>1</td>\n",
       "      <td>2013-11 All States SG membership graphs</td>\n",
       "      <td>97</td>\n",
       "      <td>1.0</td>\n",
       "      <td>Dec LG membership</td>\n",
       "      <td>86.0</td>\n",
       "    </tr>\n",
       "    <tr>\n",
       "      <th>16</th>\n",
       "      <td>1</td>\n",
       "      <td>2013-11 All States SG membership graphs</td>\n",
       "      <td>97</td>\n",
       "      <td>1.0</td>\n",
       "      <td>Dec SG membership</td>\n",
       "      <td>86.0</td>\n",
       "    </tr>\n",
       "    <tr>\n",
       "      <th>17</th>\n",
       "      <td>1</td>\n",
       "      <td>2013-11 All States SG membership graphs</td>\n",
       "      <td>97</td>\n",
       "      <td>1.0</td>\n",
       "      <td>Dec medicare membership</td>\n",
       "      <td>86.0</td>\n",
       "    </tr>\n",
       "    <tr>\n",
       "      <th>18</th>\n",
       "      <td>1</td>\n",
       "      <td>2013-11 All States SG membership graphs</td>\n",
       "      <td>97</td>\n",
       "      <td>1.0</td>\n",
       "      <td>Feb LG membership</td>\n",
       "      <td>86.0</td>\n",
       "    </tr>\n",
       "    <tr>\n",
       "      <th>19</th>\n",
       "      <td>1</td>\n",
       "      <td>2013-11 All States SG membership graphs</td>\n",
       "      <td>97</td>\n",
       "      <td>1.0</td>\n",
       "      <td>Jan LG membership</td>\n",
       "      <td>86.0</td>\n",
       "    </tr>\n",
       "    <tr>\n",
       "      <th>20</th>\n",
       "      <td>1</td>\n",
       "      <td>2013-11 All States SG membership graphs</td>\n",
       "      <td>97</td>\n",
       "      <td>1.0</td>\n",
       "      <td>Jan SG membership</td>\n",
       "      <td>86.0</td>\n",
       "    </tr>\n",
       "    <tr>\n",
       "      <th>21</th>\n",
       "      <td>1</td>\n",
       "      <td>2013-11 All States SG membership graphs</td>\n",
       "      <td>97</td>\n",
       "      <td>1.0</td>\n",
       "      <td>Membership Reporting</td>\n",
       "      <td>86.0</td>\n",
       "    </tr>\n",
       "    <tr>\n",
       "      <th>22</th>\n",
       "      <td>1</td>\n",
       "      <td>2013-11 All States SG membership graphs</td>\n",
       "      <td>97</td>\n",
       "      <td>1.0</td>\n",
       "      <td>Nov LG membership</td>\n",
       "      <td>86.0</td>\n",
       "    </tr>\n",
       "    <tr>\n",
       "      <th>23</th>\n",
       "      <td>1</td>\n",
       "      <td>2013-11 All States SG membership graphs</td>\n",
       "      <td>97</td>\n",
       "      <td>1.0</td>\n",
       "      <td>medicare membership</td>\n",
       "      <td>86.0</td>\n",
       "    </tr>\n",
       "    <tr>\n",
       "      <th>24</th>\n",
       "      <td>1</td>\n",
       "      <td>Membership</td>\n",
       "      <td>90</td>\n",
       "      <td>1.0</td>\n",
       "      <td>2013-11 All States LG membership graphs</td>\n",
       "      <td>100.0</td>\n",
       "    </tr>\n",
       "    <tr>\n",
       "      <th>25</th>\n",
       "      <td>1</td>\n",
       "      <td>Membership</td>\n",
       "      <td>90</td>\n",
       "      <td>1.0</td>\n",
       "      <td>2013-11 All States SG membership graphs</td>\n",
       "      <td>97.0</td>\n",
       "    </tr>\n",
       "    <tr>\n",
       "      <th>26</th>\n",
       "      <td>1</td>\n",
       "      <td>Membership</td>\n",
       "      <td>90</td>\n",
       "      <td>1.0</td>\n",
       "      <td>Membership</td>\n",
       "      <td>90.0</td>\n",
       "    </tr>\n",
       "    <tr>\n",
       "      <th>27</th>\n",
       "      <td>1</td>\n",
       "      <td>Membership</td>\n",
       "      <td>90</td>\n",
       "      <td>1.0</td>\n",
       "      <td>Dec LG membership</td>\n",
       "      <td>86.0</td>\n",
       "    </tr>\n",
       "    <tr>\n",
       "      <th>28</th>\n",
       "      <td>1</td>\n",
       "      <td>Membership</td>\n",
       "      <td>90</td>\n",
       "      <td>1.0</td>\n",
       "      <td>Dec SG membership</td>\n",
       "      <td>86.0</td>\n",
       "    </tr>\n",
       "    <tr>\n",
       "      <th>29</th>\n",
       "      <td>1</td>\n",
       "      <td>Membership</td>\n",
       "      <td>90</td>\n",
       "      <td>1.0</td>\n",
       "      <td>Dec medicare membership</td>\n",
       "      <td>86.0</td>\n",
       "    </tr>\n",
       "    <tr>\n",
       "      <th>...</th>\n",
       "      <td>...</td>\n",
       "      <td>...</td>\n",
       "      <td>...</td>\n",
       "      <td>...</td>\n",
       "      <td>...</td>\n",
       "      <td>...</td>\n",
       "    </tr>\n",
       "    <tr>\n",
       "      <th>250</th>\n",
       "      <td>70</td>\n",
       "      <td>PROVIDER_APPEAL_SCORECARD</td>\n",
       "      <td>100</td>\n",
       "      <td>NaN</td>\n",
       "      <td>NaN</td>\n",
       "      <td>NaN</td>\n",
       "    </tr>\n",
       "    <tr>\n",
       "      <th>251</th>\n",
       "      <td>71</td>\n",
       "      <td>PSC Completed Coaching</td>\n",
       "      <td>100</td>\n",
       "      <td>NaN</td>\n",
       "      <td>NaN</td>\n",
       "      <td>NaN</td>\n",
       "    </tr>\n",
       "    <tr>\n",
       "      <th>252</th>\n",
       "      <td>72</td>\n",
       "      <td>Provider Call Center data</td>\n",
       "      <td>100</td>\n",
       "      <td>NaN</td>\n",
       "      <td>NaN</td>\n",
       "      <td>NaN</td>\n",
       "    </tr>\n",
       "    <tr>\n",
       "      <th>253</th>\n",
       "      <td>73</td>\n",
       "      <td>Provider Referral Patterns</td>\n",
       "      <td>100</td>\n",
       "      <td>NaN</td>\n",
       "      <td>NaN</td>\n",
       "      <td>NaN</td>\n",
       "    </tr>\n",
       "    <tr>\n",
       "      <th>254</th>\n",
       "      <td>74</td>\n",
       "      <td>Provider Survey Report</td>\n",
       "      <td>100</td>\n",
       "      <td>NaN</td>\n",
       "      <td>NaN</td>\n",
       "      <td>NaN</td>\n",
       "    </tr>\n",
       "    <tr>\n",
       "      <th>255</th>\n",
       "      <td>75</td>\n",
       "      <td>Provider_and_Group_Pends</td>\n",
       "      <td>100</td>\n",
       "      <td>NaN</td>\n",
       "      <td>NaN</td>\n",
       "      <td>NaN</td>\n",
       "    </tr>\n",
       "    <tr>\n",
       "      <th>256</th>\n",
       "      <td>76</td>\n",
       "      <td>Quote Activity</td>\n",
       "      <td>100</td>\n",
       "      <td>NaN</td>\n",
       "      <td>NaN</td>\n",
       "      <td>NaN</td>\n",
       "    </tr>\n",
       "    <tr>\n",
       "      <th>257</th>\n",
       "      <td>77</td>\n",
       "      <td>Rolling_Parameter</td>\n",
       "      <td>100</td>\n",
       "      <td>NaN</td>\n",
       "      <td>NaN</td>\n",
       "      <td>NaN</td>\n",
       "    </tr>\n",
       "    <tr>\n",
       "      <th>258</th>\n",
       "      <td>78</td>\n",
       "      <td>Sales Interactions-LiveWire</td>\n",
       "      <td>100</td>\n",
       "      <td>NaN</td>\n",
       "      <td>NaN</td>\n",
       "      <td>NaN</td>\n",
       "    </tr>\n",
       "    <tr>\n",
       "      <th>259</th>\n",
       "      <td>79</td>\n",
       "      <td>Signpost_lol</td>\n",
       "      <td>100</td>\n",
       "      <td>NaN</td>\n",
       "      <td>NaN</td>\n",
       "      <td>NaN</td>\n",
       "    </tr>\n",
       "    <tr>\n",
       "      <th>260</th>\n",
       "      <td>79</td>\n",
       "      <td>signpost ELC</td>\n",
       "      <td>75</td>\n",
       "      <td>NaN</td>\n",
       "      <td>NaN</td>\n",
       "      <td>NaN</td>\n",
       "    </tr>\n",
       "    <tr>\n",
       "      <th>261</th>\n",
       "      <td>80</td>\n",
       "      <td>Signposting</td>\n",
       "      <td>100</td>\n",
       "      <td>NaN</td>\n",
       "      <td>NaN</td>\n",
       "      <td>NaN</td>\n",
       "    </tr>\n",
       "    <tr>\n",
       "      <th>262</th>\n",
       "      <td>81</td>\n",
       "      <td>Space calculation for APPDEV refresh</td>\n",
       "      <td>100</td>\n",
       "      <td>NaN</td>\n",
       "      <td>NaN</td>\n",
       "      <td>NaN</td>\n",
       "    </tr>\n",
       "    <tr>\n",
       "      <th>263</th>\n",
       "      <td>82</td>\n",
       "      <td>Tardiness Dashboard</td>\n",
       "      <td>100</td>\n",
       "      <td>NaN</td>\n",
       "      <td>NaN</td>\n",
       "      <td>NaN</td>\n",
       "    </tr>\n",
       "    <tr>\n",
       "      <th>264</th>\n",
       "      <td>83</td>\n",
       "      <td>Teradata Roles Owned</td>\n",
       "      <td>100</td>\n",
       "      <td>NaN</td>\n",
       "      <td>NaN</td>\n",
       "      <td>NaN</td>\n",
       "    </tr>\n",
       "    <tr>\n",
       "      <th>265</th>\n",
       "      <td>84</td>\n",
       "      <td>TestOracle</td>\n",
       "      <td>100</td>\n",
       "      <td>NaN</td>\n",
       "      <td>NaN</td>\n",
       "      <td>NaN</td>\n",
       "    </tr>\n",
       "    <tr>\n",
       "      <th>266</th>\n",
       "      <td>85</td>\n",
       "      <td>Trend Performance Dashboar</td>\n",
       "      <td>100</td>\n",
       "      <td>NaN</td>\n",
       "      <td>NaN</td>\n",
       "      <td>NaN</td>\n",
       "    </tr>\n",
       "    <tr>\n",
       "      <th>267</th>\n",
       "      <td>85</td>\n",
       "      <td>Trend Performance Dashboard</td>\n",
       "      <td>98</td>\n",
       "      <td>NaN</td>\n",
       "      <td>NaN</td>\n",
       "      <td>NaN</td>\n",
       "    </tr>\n",
       "    <tr>\n",
       "      <th>268</th>\n",
       "      <td>86</td>\n",
       "      <td>Tweet</td>\n",
       "      <td>100</td>\n",
       "      <td>NaN</td>\n",
       "      <td>NaN</td>\n",
       "      <td>NaN</td>\n",
       "    </tr>\n",
       "    <tr>\n",
       "      <th>269</th>\n",
       "      <td>86</td>\n",
       "      <td>Tweets</td>\n",
       "      <td>91</td>\n",
       "      <td>NaN</td>\n",
       "      <td>NaN</td>\n",
       "      <td>NaN</td>\n",
       "    </tr>\n",
       "    <tr>\n",
       "      <th>270</th>\n",
       "      <td>87</td>\n",
       "      <td>UM Dashboard 05202012</td>\n",
       "      <td>100</td>\n",
       "      <td>NaN</td>\n",
       "      <td>NaN</td>\n",
       "      <td>NaN</td>\n",
       "    </tr>\n",
       "    <tr>\n",
       "      <th>271</th>\n",
       "      <td>88</td>\n",
       "      <td>UMD 05152012</td>\n",
       "      <td>100</td>\n",
       "      <td>NaN</td>\n",
       "      <td>NaN</td>\n",
       "      <td>NaN</td>\n",
       "    </tr>\n",
       "    <tr>\n",
       "      <th>272</th>\n",
       "      <td>89</td>\n",
       "      <td>UMass_PPV_2016November</td>\n",
       "      <td>100</td>\n",
       "      <td>NaN</td>\n",
       "      <td>NaN</td>\n",
       "      <td>NaN</td>\n",
       "    </tr>\n",
       "    <tr>\n",
       "      <th>273</th>\n",
       "      <td>90</td>\n",
       "      <td>Weekly - Overturned Appeals-MAC-MARC</td>\n",
       "      <td>100</td>\n",
       "      <td>NaN</td>\n",
       "      <td>NaN</td>\n",
       "      <td>NaN</td>\n",
       "    </tr>\n",
       "    <tr>\n",
       "      <th>274</th>\n",
       "      <td>91</td>\n",
       "      <td>mem test 06282013</td>\n",
       "      <td>100</td>\n",
       "      <td>NaN</td>\n",
       "      <td>NaN</td>\n",
       "      <td>NaN</td>\n",
       "    </tr>\n",
       "    <tr>\n",
       "      <th>275</th>\n",
       "      <td>92</td>\n",
       "      <td>monthly data Dashes 06102012</td>\n",
       "      <td>100</td>\n",
       "      <td>NaN</td>\n",
       "      <td>NaN</td>\n",
       "      <td>NaN</td>\n",
       "    </tr>\n",
       "    <tr>\n",
       "      <th>276</th>\n",
       "      <td>93</td>\n",
       "      <td>rolling 06112012</td>\n",
       "      <td>100</td>\n",
       "      <td>NaN</td>\n",
       "      <td>NaN</td>\n",
       "      <td>NaN</td>\n",
       "    </tr>\n",
       "    <tr>\n",
       "      <th>277</th>\n",
       "      <td>93</td>\n",
       "      <td>rolling versus nonrolling Dashes 06102012</td>\n",
       "      <td>86</td>\n",
       "      <td>NaN</td>\n",
       "      <td>NaN</td>\n",
       "      <td>NaN</td>\n",
       "    </tr>\n",
       "    <tr>\n",
       "      <th>278</th>\n",
       "      <td>94</td>\n",
       "      <td>view_test</td>\n",
       "      <td>100</td>\n",
       "      <td>NaN</td>\n",
       "      <td>NaN</td>\n",
       "      <td>NaN</td>\n",
       "    </tr>\n",
       "    <tr>\n",
       "      <th>279</th>\n",
       "      <td>94</td>\n",
       "      <td>view_test_deny</td>\n",
       "      <td>90</td>\n",
       "      <td>NaN</td>\n",
       "      <td>NaN</td>\n",
       "      <td>NaN</td>\n",
       "    </tr>\n",
       "  </tbody>\n",
       "</table>\n",
       "<p>280 rows × 6 columns</p>\n",
       "</div>"
      ],
      "text/plain": [
       "     Cluster_Nbr                                  Item_Name  Match_Score  \\\n",
       "0              1    2013-11 All States LG membership graphs          100   \n",
       "1              1    2013-11 All States LG membership graphs          100   \n",
       "2              1    2013-11 All States LG membership graphs          100   \n",
       "3              1    2013-11 All States LG membership graphs          100   \n",
       "4              1    2013-11 All States LG membership graphs          100   \n",
       "5              1    2013-11 All States LG membership graphs          100   \n",
       "6              1    2013-11 All States LG membership graphs          100   \n",
       "7              1    2013-11 All States LG membership graphs          100   \n",
       "8              1    2013-11 All States LG membership graphs          100   \n",
       "9              1    2013-11 All States LG membership graphs          100   \n",
       "10             1    2013-11 All States LG membership graphs          100   \n",
       "11             1    2013-11 All States LG membership graphs          100   \n",
       "12             1    2013-11 All States SG membership graphs           97   \n",
       "13             1    2013-11 All States SG membership graphs           97   \n",
       "14             1    2013-11 All States SG membership graphs           97   \n",
       "15             1    2013-11 All States SG membership graphs           97   \n",
       "16             1    2013-11 All States SG membership graphs           97   \n",
       "17             1    2013-11 All States SG membership graphs           97   \n",
       "18             1    2013-11 All States SG membership graphs           97   \n",
       "19             1    2013-11 All States SG membership graphs           97   \n",
       "20             1    2013-11 All States SG membership graphs           97   \n",
       "21             1    2013-11 All States SG membership graphs           97   \n",
       "22             1    2013-11 All States SG membership graphs           97   \n",
       "23             1    2013-11 All States SG membership graphs           97   \n",
       "24             1                                 Membership           90   \n",
       "25             1                                 Membership           90   \n",
       "26             1                                 Membership           90   \n",
       "27             1                                 Membership           90   \n",
       "28             1                                 Membership           90   \n",
       "29             1                                 Membership           90   \n",
       "..           ...                                        ...          ...   \n",
       "250           70                  PROVIDER_APPEAL_SCORECARD          100   \n",
       "251           71                     PSC Completed Coaching          100   \n",
       "252           72                  Provider Call Center data          100   \n",
       "253           73                 Provider Referral Patterns          100   \n",
       "254           74                     Provider Survey Report          100   \n",
       "255           75                   Provider_and_Group_Pends          100   \n",
       "256           76                             Quote Activity          100   \n",
       "257           77                          Rolling_Parameter          100   \n",
       "258           78                Sales Interactions-LiveWire          100   \n",
       "259           79                               Signpost_lol          100   \n",
       "260           79                               signpost ELC           75   \n",
       "261           80                                Signposting          100   \n",
       "262           81       Space calculation for APPDEV refresh          100   \n",
       "263           82                        Tardiness Dashboard          100   \n",
       "264           83                       Teradata Roles Owned          100   \n",
       "265           84                                 TestOracle          100   \n",
       "266           85                 Trend Performance Dashboar          100   \n",
       "267           85                Trend Performance Dashboard           98   \n",
       "268           86                                      Tweet          100   \n",
       "269           86                                     Tweets           91   \n",
       "270           87                      UM Dashboard 05202012          100   \n",
       "271           88                              UMD 05152012           100   \n",
       "272           89                     UMass_PPV_2016November          100   \n",
       "273           90       Weekly - Overturned Appeals-MAC-MARC          100   \n",
       "274           91                          mem test 06282013          100   \n",
       "275           92               monthly data Dashes 06102012          100   \n",
       "276           93                           rolling 06112012          100   \n",
       "277           93  rolling versus nonrolling Dashes 06102012           86   \n",
       "278           94                                  view_test          100   \n",
       "279           94                             view_test_deny           90   \n",
       "\n",
       "     Col1                                     Name  Score  \n",
       "0     1.0  2013-11 All States LG membership graphs  100.0  \n",
       "1     1.0  2013-11 All States SG membership graphs   97.0  \n",
       "2     1.0                               Membership   90.0  \n",
       "3     1.0                        Dec LG membership   86.0  \n",
       "4     1.0                        Dec SG membership   86.0  \n",
       "5     1.0                  Dec medicare membership   86.0  \n",
       "6     1.0                        Feb LG membership   86.0  \n",
       "7     1.0                        Jan LG membership   86.0  \n",
       "8     1.0                        Jan SG membership   86.0  \n",
       "9     1.0                     Membership Reporting   86.0  \n",
       "10    1.0                        Nov LG membership   86.0  \n",
       "11    1.0                      medicare membership   86.0  \n",
       "12    1.0  2013-11 All States LG membership graphs  100.0  \n",
       "13    1.0  2013-11 All States SG membership graphs   97.0  \n",
       "14    1.0                               Membership   90.0  \n",
       "15    1.0                        Dec LG membership   86.0  \n",
       "16    1.0                        Dec SG membership   86.0  \n",
       "17    1.0                  Dec medicare membership   86.0  \n",
       "18    1.0                        Feb LG membership   86.0  \n",
       "19    1.0                        Jan LG membership   86.0  \n",
       "20    1.0                        Jan SG membership   86.0  \n",
       "21    1.0                     Membership Reporting   86.0  \n",
       "22    1.0                        Nov LG membership   86.0  \n",
       "23    1.0                      medicare membership   86.0  \n",
       "24    1.0  2013-11 All States LG membership graphs  100.0  \n",
       "25    1.0  2013-11 All States SG membership graphs   97.0  \n",
       "26    1.0                               Membership   90.0  \n",
       "27    1.0                        Dec LG membership   86.0  \n",
       "28    1.0                        Dec SG membership   86.0  \n",
       "29    1.0                  Dec medicare membership   86.0  \n",
       "..    ...                                      ...    ...  \n",
       "250   NaN                                      NaN    NaN  \n",
       "251   NaN                                      NaN    NaN  \n",
       "252   NaN                                      NaN    NaN  \n",
       "253   NaN                                      NaN    NaN  \n",
       "254   NaN                                      NaN    NaN  \n",
       "255   NaN                                      NaN    NaN  \n",
       "256   NaN                                      NaN    NaN  \n",
       "257   NaN                                      NaN    NaN  \n",
       "258   NaN                                      NaN    NaN  \n",
       "259   NaN                                      NaN    NaN  \n",
       "260   NaN                                      NaN    NaN  \n",
       "261   NaN                                      NaN    NaN  \n",
       "262   NaN                                      NaN    NaN  \n",
       "263   NaN                                      NaN    NaN  \n",
       "264   NaN                                      NaN    NaN  \n",
       "265   NaN                                      NaN    NaN  \n",
       "266   NaN                                      NaN    NaN  \n",
       "267   NaN                                      NaN    NaN  \n",
       "268   NaN                                      NaN    NaN  \n",
       "269   NaN                                      NaN    NaN  \n",
       "270   NaN                                      NaN    NaN  \n",
       "271   NaN                                      NaN    NaN  \n",
       "272   NaN                                      NaN    NaN  \n",
       "273   NaN                                      NaN    NaN  \n",
       "274   NaN                                      NaN    NaN  \n",
       "275   NaN                                      NaN    NaN  \n",
       "276   NaN                                      NaN    NaN  \n",
       "277   NaN                                      NaN    NaN  \n",
       "278   NaN                                      NaN    NaN  \n",
       "279   NaN                                      NaN    NaN  \n",
       "\n",
       "[280 rows x 6 columns]"
      ]
     },
     "execution_count": 53,
     "metadata": {},
     "output_type": "execute_result"
    }
   ],
   "source": [
    "df3"
   ]
  },
  {
   "cell_type": "code",
   "execution_count": 54,
   "metadata": {},
   "outputs": [
    {
     "ename": "TypeError",
     "evalue": "merge() got an unexpected keyword argument 'axis'",
     "output_type": "error",
     "traceback": [
      "\u001b[1;31m---------------------------------------------------------------------------\u001b[0m",
      "\u001b[1;31mTypeError\u001b[0m                                 Traceback (most recent call last)",
      "\u001b[1;32m<ipython-input-54-c7a747aef07d>\u001b[0m in \u001b[0;36m<module>\u001b[1;34m\u001b[0m\n\u001b[1;32m----> 1\u001b[1;33m \u001b[0mdf4\u001b[0m\u001b[1;33m=\u001b[0m\u001b[0mpd\u001b[0m\u001b[1;33m.\u001b[0m\u001b[0mmerge\u001b[0m\u001b[1;33m(\u001b[0m\u001b[0mdf\u001b[0m\u001b[1;33m,\u001b[0m\u001b[0mdf1\u001b[0m\u001b[1;33m,\u001b[0m\u001b[0maxis\u001b[0m\u001b[1;33m=\u001b[0m\u001b[1;36m1\u001b[0m\u001b[1;33m)\u001b[0m\u001b[1;33m\u001b[0m\u001b[1;33m\u001b[0m\u001b[0m\n\u001b[0m",
      "\u001b[1;31mTypeError\u001b[0m: merge() got an unexpected keyword argument 'axis'"
     ]
    }
   ],
   "source": [
    "df4=pd.merge(df,df1)"
   ]
  },
  {
   "cell_type": "code",
   "execution_count": null,
   "metadata": {},
   "outputs": [],
   "source": []
  },
  {
   "cell_type": "code",
   "execution_count": 49,
   "metadata": {},
   "outputs": [
    {
     "data": {
      "text/plain": [
       "numpy.int64"
      ]
     },
     "execution_count": 49,
     "metadata": {},
     "output_type": "execute_result"
    }
   ],
   "source": [
    "type(df3['Cluster_Nbr'][0])"
   ]
  },
  {
   "cell_type": "code",
   "execution_count": 51,
   "metadata": {},
   "outputs": [
    {
     "data": {
      "text/plain": [
       "<bound method Series.isnull of 0      1\n",
       "1      1\n",
       "2      1\n",
       "3      1\n",
       "4      1\n",
       "5      1\n",
       "6      1\n",
       "7      1\n",
       "8      1\n",
       "9      1\n",
       "10     1\n",
       "11     1\n",
       "12     1\n",
       "13     1\n",
       "14     1\n",
       "15     1\n",
       "16     1\n",
       "17     1\n",
       "18     1\n",
       "19     1\n",
       "20     1\n",
       "21     1\n",
       "22     1\n",
       "23     1\n",
       "24     1\n",
       "25     1\n",
       "26     1\n",
       "27     1\n",
       "28     1\n",
       "29     1\n",
       "      ..\n",
       "114    1\n",
       "115    1\n",
       "116    1\n",
       "117    1\n",
       "118    1\n",
       "119    1\n",
       "120    1\n",
       "121    1\n",
       "122    1\n",
       "123    1\n",
       "124    1\n",
       "125    1\n",
       "126    1\n",
       "127    1\n",
       "128    1\n",
       "129    1\n",
       "130    1\n",
       "131    1\n",
       "132    1\n",
       "133    1\n",
       "134    1\n",
       "135    1\n",
       "136    1\n",
       "137    1\n",
       "138    1\n",
       "139    1\n",
       "140    1\n",
       "141    1\n",
       "142    1\n",
       "143    1\n",
       "Name: Cluster_Nbr, Length: 144, dtype: int64>"
      ]
     },
     "execution_count": 51,
     "metadata": {},
     "output_type": "execute_result"
    }
   ],
   "source": [
    "df3['Cluster_Nbr']"
   ]
  },
  {
   "cell_type": "code",
   "execution_count": 60,
   "metadata": {},
   "outputs": [
    {
     "data": {
      "text/html": [
       "<div>\n",
       "<style scoped>\n",
       "    .dataframe tbody tr th:only-of-type {\n",
       "        vertical-align: middle;\n",
       "    }\n",
       "\n",
       "    .dataframe tbody tr th {\n",
       "        vertical-align: top;\n",
       "    }\n",
       "\n",
       "    .dataframe thead th {\n",
       "        text-align: right;\n",
       "    }\n",
       "</style>\n",
       "<table border=\"1\" class=\"dataframe\">\n",
       "  <thead>\n",
       "    <tr style=\"text-align: right;\">\n",
       "      <th></th>\n",
       "      <th>Col1</th>\n",
       "      <th>Name</th>\n",
       "      <th>Score</th>\n",
       "    </tr>\n",
       "  </thead>\n",
       "  <tbody>\n",
       "    <tr>\n",
       "      <th>0</th>\n",
       "      <td>1</td>\n",
       "      <td>2013-11 All States LG membership graphs</td>\n",
       "      <td>100</td>\n",
       "    </tr>\n",
       "    <tr>\n",
       "      <th>1</th>\n",
       "      <td>1</td>\n",
       "      <td>2013-11 All States SG membership graphs</td>\n",
       "      <td>97</td>\n",
       "    </tr>\n",
       "    <tr>\n",
       "      <th>2</th>\n",
       "      <td>1</td>\n",
       "      <td>Membership</td>\n",
       "      <td>90</td>\n",
       "    </tr>\n",
       "    <tr>\n",
       "      <th>3</th>\n",
       "      <td>1</td>\n",
       "      <td>Dec LG membership</td>\n",
       "      <td>86</td>\n",
       "    </tr>\n",
       "    <tr>\n",
       "      <th>4</th>\n",
       "      <td>1</td>\n",
       "      <td>Dec SG membership</td>\n",
       "      <td>86</td>\n",
       "    </tr>\n",
       "    <tr>\n",
       "      <th>5</th>\n",
       "      <td>1</td>\n",
       "      <td>Dec medicare membership</td>\n",
       "      <td>86</td>\n",
       "    </tr>\n",
       "    <tr>\n",
       "      <th>6</th>\n",
       "      <td>1</td>\n",
       "      <td>Feb LG membership</td>\n",
       "      <td>86</td>\n",
       "    </tr>\n",
       "    <tr>\n",
       "      <th>7</th>\n",
       "      <td>1</td>\n",
       "      <td>Jan LG membership</td>\n",
       "      <td>86</td>\n",
       "    </tr>\n",
       "    <tr>\n",
       "      <th>8</th>\n",
       "      <td>1</td>\n",
       "      <td>Jan SG membership</td>\n",
       "      <td>86</td>\n",
       "    </tr>\n",
       "    <tr>\n",
       "      <th>9</th>\n",
       "      <td>1</td>\n",
       "      <td>Membership Reporting</td>\n",
       "      <td>86</td>\n",
       "    </tr>\n",
       "    <tr>\n",
       "      <th>10</th>\n",
       "      <td>1</td>\n",
       "      <td>Nov LG membership</td>\n",
       "      <td>86</td>\n",
       "    </tr>\n",
       "    <tr>\n",
       "      <th>11</th>\n",
       "      <td>1</td>\n",
       "      <td>medicare membership</td>\n",
       "      <td>86</td>\n",
       "    </tr>\n",
       "  </tbody>\n",
       "</table>\n",
       "</div>"
      ],
      "text/plain": [
       "    Col1                                     Name  Score\n",
       "0      1  2013-11 All States LG membership graphs    100\n",
       "1      1  2013-11 All States SG membership graphs     97\n",
       "2      1                               Membership     90\n",
       "3      1                        Dec LG membership     86\n",
       "4      1                        Dec SG membership     86\n",
       "5      1                  Dec medicare membership     86\n",
       "6      1                        Feb LG membership     86\n",
       "7      1                        Jan LG membership     86\n",
       "8      1                        Jan SG membership     86\n",
       "9      1                     Membership Reporting     86\n",
       "10     1                        Nov LG membership     86\n",
       "11     1                      medicare membership     86"
      ]
     },
     "execution_count": 60,
     "metadata": {},
     "output_type": "execute_result"
    }
   ],
   "source": [
    "df1"
   ]
  },
  {
   "cell_type": "code",
   "execution_count": 55,
   "metadata": {},
   "outputs": [],
   "source": [
    "import seaborn as sns"
   ]
  },
  {
   "cell_type": "code",
   "execution_count": 61,
   "metadata": {},
   "outputs": [
    {
     "ename": "TypeError",
     "evalue": "ufunc 'isnan' not supported for the input types, and the inputs could not be safely coerced to any supported types according to the casting rule ''safe''",
     "output_type": "error",
     "traceback": [
      "\u001b[1;31m---------------------------------------------------------------------------\u001b[0m",
      "\u001b[1;31mTypeError\u001b[0m                                 Traceback (most recent call last)",
      "\u001b[1;32m<ipython-input-61-5ef93f0e69d2>\u001b[0m in \u001b[0;36m<module>\u001b[1;34m\u001b[0m\n\u001b[1;32m----> 1\u001b[1;33m \u001b[0msns\u001b[0m\u001b[1;33m.\u001b[0m\u001b[0mheatmap\u001b[0m\u001b[1;33m(\u001b[0m\u001b[0mdf1\u001b[0m\u001b[1;33m)\u001b[0m\u001b[1;33m\u001b[0m\u001b[1;33m\u001b[0m\u001b[0m\n\u001b[0m",
      "\u001b[1;32m~\\Documents\\Anaconda\\lib\\site-packages\\seaborn\\matrix.py\u001b[0m in \u001b[0;36mheatmap\u001b[1;34m(data, vmin, vmax, cmap, center, robust, annot, fmt, annot_kws, linewidths, linecolor, cbar, cbar_kws, cbar_ax, square, xticklabels, yticklabels, mask, ax, **kwargs)\u001b[0m\n\u001b[0;32m    515\u001b[0m     plotter = _HeatMapper(data, vmin, vmax, cmap, center, robust, annot, fmt,\n\u001b[0;32m    516\u001b[0m                           \u001b[0mannot_kws\u001b[0m\u001b[1;33m,\u001b[0m \u001b[0mcbar\u001b[0m\u001b[1;33m,\u001b[0m \u001b[0mcbar_kws\u001b[0m\u001b[1;33m,\u001b[0m \u001b[0mxticklabels\u001b[0m\u001b[1;33m,\u001b[0m\u001b[1;33m\u001b[0m\u001b[1;33m\u001b[0m\u001b[0m\n\u001b[1;32m--> 517\u001b[1;33m                           yticklabels, mask)\n\u001b[0m\u001b[0;32m    518\u001b[0m \u001b[1;33m\u001b[0m\u001b[0m\n\u001b[0;32m    519\u001b[0m     \u001b[1;31m# Add the pcolormesh kwargs here\u001b[0m\u001b[1;33m\u001b[0m\u001b[1;33m\u001b[0m\u001b[1;33m\u001b[0m\u001b[0m\n",
      "\u001b[1;32m~\\Documents\\Anaconda\\lib\\site-packages\\seaborn\\matrix.py\u001b[0m in \u001b[0;36m__init__\u001b[1;34m(self, data, vmin, vmax, cmap, center, robust, annot, fmt, annot_kws, cbar, cbar_kws, xticklabels, yticklabels, mask)\u001b[0m\n\u001b[0;32m    165\u001b[0m         \u001b[1;31m# Determine good default values for the colormapping\u001b[0m\u001b[1;33m\u001b[0m\u001b[1;33m\u001b[0m\u001b[1;33m\u001b[0m\u001b[0m\n\u001b[0;32m    166\u001b[0m         self._determine_cmap_params(plot_data, vmin, vmax,\n\u001b[1;32m--> 167\u001b[1;33m                                     cmap, center, robust)\n\u001b[0m\u001b[0;32m    168\u001b[0m \u001b[1;33m\u001b[0m\u001b[0m\n\u001b[0;32m    169\u001b[0m         \u001b[1;31m# Sort out the annotations\u001b[0m\u001b[1;33m\u001b[0m\u001b[1;33m\u001b[0m\u001b[1;33m\u001b[0m\u001b[0m\n",
      "\u001b[1;32m~\\Documents\\Anaconda\\lib\\site-packages\\seaborn\\matrix.py\u001b[0m in \u001b[0;36m_determine_cmap_params\u001b[1;34m(self, plot_data, vmin, vmax, cmap, center, robust)\u001b[0m\n\u001b[0;32m    202\u001b[0m                                cmap, center, robust):\n\u001b[0;32m    203\u001b[0m         \u001b[1;34m\"\"\"Use some heuristics to set good defaults for colorbar and range.\"\"\"\u001b[0m\u001b[1;33m\u001b[0m\u001b[1;33m\u001b[0m\u001b[0m\n\u001b[1;32m--> 204\u001b[1;33m         \u001b[0mcalc_data\u001b[0m \u001b[1;33m=\u001b[0m \u001b[0mplot_data\u001b[0m\u001b[1;33m.\u001b[0m\u001b[0mdata\u001b[0m\u001b[1;33m[\u001b[0m\u001b[1;33m~\u001b[0m\u001b[0mnp\u001b[0m\u001b[1;33m.\u001b[0m\u001b[0misnan\u001b[0m\u001b[1;33m(\u001b[0m\u001b[0mplot_data\u001b[0m\u001b[1;33m.\u001b[0m\u001b[0mdata\u001b[0m\u001b[1;33m)\u001b[0m\u001b[1;33m]\u001b[0m\u001b[1;33m\u001b[0m\u001b[1;33m\u001b[0m\u001b[0m\n\u001b[0m\u001b[0;32m    205\u001b[0m         \u001b[1;32mif\u001b[0m \u001b[0mvmin\u001b[0m \u001b[1;32mis\u001b[0m \u001b[1;32mNone\u001b[0m\u001b[1;33m:\u001b[0m\u001b[1;33m\u001b[0m\u001b[1;33m\u001b[0m\u001b[0m\n\u001b[0;32m    206\u001b[0m             \u001b[0mvmin\u001b[0m \u001b[1;33m=\u001b[0m \u001b[0mnp\u001b[0m\u001b[1;33m.\u001b[0m\u001b[0mpercentile\u001b[0m\u001b[1;33m(\u001b[0m\u001b[0mcalc_data\u001b[0m\u001b[1;33m,\u001b[0m \u001b[1;36m2\u001b[0m\u001b[1;33m)\u001b[0m \u001b[1;32mif\u001b[0m \u001b[0mrobust\u001b[0m \u001b[1;32melse\u001b[0m \u001b[0mcalc_data\u001b[0m\u001b[1;33m.\u001b[0m\u001b[0mmin\u001b[0m\u001b[1;33m(\u001b[0m\u001b[1;33m)\u001b[0m\u001b[1;33m\u001b[0m\u001b[1;33m\u001b[0m\u001b[0m\n",
      "\u001b[1;31mTypeError\u001b[0m: ufunc 'isnan' not supported for the input types, and the inputs could not be safely coerced to any supported types according to the casting rule ''safe''"
     ]
    }
   ],
   "source": [
    "sns.heatmap(df1)"
   ]
  },
  {
   "cell_type": "code",
   "execution_count": 2,
   "metadata": {},
   "outputs": [],
   "source": [
    "import pandas as pd\n",
    "df=pd.read_excel(r'C:\\Users\\175733\\Documents\\workbook_list_match.xlsx')"
   ]
  },
  {
   "cell_type": "code",
   "execution_count": 4,
   "metadata": {},
   "outputs": [
    {
     "name": "stdout",
     "output_type": "stream",
     "text": [
      "     Cluster_Nbr                                      Item_Name  Match_Score\n",
      "0              1        2013-11 All States LG membership graphs          100\n",
      "1              1        2013-11 All States SG membership graphs           97\n",
      "2              1                                     Membership           90\n",
      "3              1                              Dec LG membership           86\n",
      "4              1                              Dec SG membership           86\n",
      "5              1                        Dec medicare membership           86\n",
      "6              1                              Feb LG membership           86\n",
      "7              1                              Jan LG membership           86\n",
      "8              1                              Jan SG membership           86\n",
      "9              1                           Membership Reporting           86\n",
      "10             1                              Nov LG membership           86\n",
      "11             1                            medicare membership           86\n",
      "12             2                                     A&G Alerts          100\n",
      "13             2                        A&G Open/Closed Summary           86\n",
      "14             2                         Commercial A&G Summary           86\n",
      "15             2                     Monthly A&G - CORE A&G NEW           86\n",
      "16             3                                 AS ACD Metrics          100\n",
      "17             4                        ASC Account Assignments          100\n",
      "18             5                                      AUX Usage          100\n",
      "19             6                               Ad Hoc ACD Stats          100\n",
      "20             6  MS Call Center Stats for Clarabridge Analysis           86\n",
      "21             7                                      Agent 360          100\n",
      "22             8                                 Annual Package          100\n",
      "23             9                       Awaiting Coaching report          100\n",
      "24             9      Overturned Member Appeals - Weekly Report           86\n",
      "25             9                                 quality report           86\n",
      "26            10                          BEST Survey Reporting          100\n",
      "27            10                BEST Survey Reporting (general)           95\n",
      "28            10                            MS Survey Reporting           90\n",
      "29            10                  MS Survey Reporting (general)           82\n",
      "..           ...                                            ...          ...\n",
      "118           70                      PROVIDER_APPEAL_SCORECARD          100\n",
      "119           71                         PSC Completed Coaching          100\n",
      "120           72                      Provider Call Center data          100\n",
      "121           73                     Provider Referral Patterns          100\n",
      "122           74                         Provider Survey Report          100\n",
      "123           75                       Provider_and_Group_Pends          100\n",
      "124           76                                 Quote Activity          100\n",
      "125           77                              Rolling_Parameter          100\n",
      "126           78                    Sales Interactions-LiveWire          100\n",
      "127           79                                   Signpost_lol          100\n",
      "128           79                                   signpost ELC           75\n",
      "129           80                                    Signposting          100\n",
      "130           81           Space calculation for APPDEV refresh          100\n",
      "131           82                            Tardiness Dashboard          100\n",
      "132           83                           Teradata Roles Owned          100\n",
      "133           84                                     TestOracle          100\n",
      "134           85                     Trend Performance Dashboar          100\n",
      "135           85                    Trend Performance Dashboard           98\n",
      "136           86                                          Tweet          100\n",
      "137           86                                         Tweets           91\n",
      "138           87                          UM Dashboard 05202012          100\n",
      "139           88                                  UMD 05152012           100\n",
      "140           89                         UMass_PPV_2016November          100\n",
      "141           90           Weekly - Overturned Appeals-MAC-MARC          100\n",
      "142           91                              mem test 06282013          100\n",
      "143           92                   monthly data Dashes 06102012          100\n",
      "144           93                               rolling 06112012          100\n",
      "145           93      rolling versus nonrolling Dashes 06102012           86\n",
      "146           94                                      view_test          100\n",
      "147           94                                 view_test_deny           90\n",
      "\n",
      "[148 rows x 3 columns]\n"
     ]
    }
   ],
   "source": [
    "print(df)"
   ]
  }
 ],
 "metadata": {
  "kernelspec": {
   "display_name": "Python 3",
   "language": "python",
   "name": "python3"
  },
  "language_info": {
   "codemirror_mode": {
    "name": "ipython",
    "version": 3
   },
   "file_extension": ".py",
   "mimetype": "text/x-python",
   "name": "python",
   "nbconvert_exporter": "python",
   "pygments_lexer": "ipython3",
   "version": "3.7.1"
  }
 },
 "nbformat": 4,
 "nbformat_minor": 2
}
