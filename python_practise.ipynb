{
 "cells": [
  {
   "cell_type": "code",
   "execution_count": 1,
   "metadata": {},
   "outputs": [
    {
     "name": "stdout",
     "output_type": "stream",
     "text": [
      "hello world\n"
     ]
    }
   ],
   "source": [
    "print(\"hello world\")"
   ]
  },
  {
   "cell_type": "code",
   "execution_count": 2,
   "metadata": {},
   "outputs": [],
   "source": [
    "var=\"hello World\""
   ]
  },
  {
   "cell_type": "code",
   "execution_count": 3,
   "metadata": {},
   "outputs": [
    {
     "name": "stdout",
     "output_type": "stream",
     "text": [
      "hello World\n"
     ]
    }
   ],
   "source": [
    "print(var)"
   ]
  },
  {
   "cell_type": "code",
   "execution_count": 4,
   "metadata": {},
   "outputs": [
    {
     "data": {
      "text/plain": [
       "'hello World'"
      ]
     },
     "execution_count": 4,
     "metadata": {},
     "output_type": "execute_result"
    }
   ],
   "source": [
    "var"
   ]
  },
  {
   "cell_type": "code",
   "execution_count": 5,
   "metadata": {
    "scrolled": true
   },
   "outputs": [
    {
     "data": {
      "text/plain": [
       "'hello world'"
      ]
     },
     "execution_count": 5,
     "metadata": {},
     "output_type": "execute_result"
    }
   ],
   "source": [
    "\"hello world\""
   ]
  },
  {
   "cell_type": "code",
   "execution_count": 6,
   "metadata": {},
   "outputs": [
    {
     "data": {
      "text/plain": [
       "3"
      ]
     },
     "execution_count": 6,
     "metadata": {},
     "output_type": "execute_result"
    }
   ],
   "source": [
    "1+2"
   ]
  },
  {
   "cell_type": "code",
   "execution_count": 7,
   "metadata": {},
   "outputs": [
    {
     "data": {
      "text/plain": [
       "1"
      ]
     },
     "execution_count": 7,
     "metadata": {},
     "output_type": "execute_result"
    }
   ],
   "source": [
    "1"
   ]
  },
  {
   "cell_type": "code",
   "execution_count": 8,
   "metadata": {},
   "outputs": [
    {
     "data": {
      "text/plain": [
       "'hello World'"
      ]
     },
     "execution_count": 8,
     "metadata": {},
     "output_type": "execute_result"
    }
   ],
   "source": [
    "var"
   ]
  },
  {
   "cell_type": "code",
   "execution_count": 9,
   "metadata": {},
   "outputs": [],
   "source": [
    "var=2"
   ]
  },
  {
   "cell_type": "code",
   "execution_count": 10,
   "metadata": {},
   "outputs": [
    {
     "name": "stdout",
     "output_type": "stream",
     "text": [
      "hello my \n"
     ]
    }
   ],
   "source": [
    "var=\"hello \"\n",
    "var2=\"my \"\n",
    "print(var+var2)"
   ]
  },
  {
   "cell_type": "code",
   "execution_count": 11,
   "metadata": {},
   "outputs": [
    {
     "name": "stdout",
     "output_type": "stream",
     "text": [
      "2var\n"
     ]
    }
   ],
   "source": [
    "j=2\n",
    "i=\"var\"\n",
    "print(str(j)+i)"
   ]
  },
  {
   "cell_type": "code",
   "execution_count": 12,
   "metadata": {},
   "outputs": [
    {
     "name": "stdout",
     "output_type": "stream",
     "text": [
      "3\n"
     ]
    }
   ],
   "source": [
    "i=1\n",
    "j=2\n",
    "print(i+j)"
   ]
  },
  {
   "cell_type": "code",
   "execution_count": 13,
   "metadata": {},
   "outputs": [
    {
     "data": {
      "text/plain": [
       "6"
      ]
     },
     "execution_count": 13,
     "metadata": {},
     "output_type": "execute_result"
    }
   ],
   "source": [
    "2*3"
   ]
  },
  {
   "cell_type": "code",
   "execution_count": 14,
   "metadata": {},
   "outputs": [
    {
     "data": {
      "text/plain": [
       "32"
      ]
     },
     "execution_count": 14,
     "metadata": {},
     "output_type": "execute_result"
    }
   ],
   "source": [
    "2**5"
   ]
  },
  {
   "cell_type": "code",
   "execution_count": 15,
   "metadata": {},
   "outputs": [
    {
     "data": {
      "text/plain": [
       "9"
      ]
     },
     "execution_count": 15,
     "metadata": {},
     "output_type": "execute_result"
    }
   ],
   "source": [
    "3**2"
   ]
  },
  {
   "cell_type": "code",
   "execution_count": 16,
   "metadata": {},
   "outputs": [
    {
     "name": "stdout",
     "output_type": "stream",
     "text": [
      "1\n",
      "2\n",
      "140720748278608\n",
      "140720748278640\n",
      "False\n"
     ]
    }
   ],
   "source": [
    "#deep copy\n",
    "a=1\n",
    "b=a\n",
    "b=2\n",
    "print(a)\n",
    "print(b)\n",
    "print(id(a))\n",
    "print(id(b))\n",
    "print(a is b)"
   ]
  },
  {
   "cell_type": "code",
   "execution_count": 17,
   "metadata": {},
   "outputs": [
    {
     "name": "stdout",
     "output_type": "stream",
     "text": [
      "[5, 2, 3]\n",
      "[5, 2, 3]\n",
      "1937561762824\n",
      "1937561762824\n"
     ]
    }
   ],
   "source": [
    "#shallow copy\n",
    "a=[1,2,3]\n",
    "b=a\n",
    "b[0]=5\n",
    "print(a)\n",
    "print(b)\n",
    "print(id(a))\n",
    "print(id(b))"
   ]
  },
  {
   "cell_type": "code",
   "execution_count": 19,
   "metadata": {},
   "outputs": [
    {
     "ename": "TypeError",
     "evalue": "unsupported operand type(s) for ** or pow(): 'str' and 'int'",
     "output_type": "error",
     "traceback": [
      "\u001b[1;31m---------------------------------------------------------------------------\u001b[0m",
      "\u001b[1;31mTypeError\u001b[0m                                 Traceback (most recent call last)",
      "\u001b[1;32m<ipython-input-19-0556d1d77427>\u001b[0m in \u001b[0;36m<module>\u001b[1;34m\u001b[0m\n\u001b[0;32m      1\u001b[0m \u001b[0ma\u001b[0m\u001b[1;33m=\u001b[0m\u001b[1;34m\"hi\"\u001b[0m\u001b[1;33m\u001b[0m\u001b[1;33m\u001b[0m\u001b[0m\n\u001b[1;32m----> 2\u001b[1;33m \u001b[0ma\u001b[0m\u001b[1;33m**\u001b[0m\u001b[1;36m3\u001b[0m\u001b[1;33m\u001b[0m\u001b[1;33m\u001b[0m\u001b[0m\n\u001b[0m",
      "\u001b[1;31mTypeError\u001b[0m: unsupported operand type(s) for ** or pow(): 'str' and 'int'"
     ]
    }
   ],
   "source": [
    "a=\"hi\"\n",
    "a**3"
   ]
  },
  {
   "cell_type": "code",
   "execution_count": null,
   "metadata": {},
   "outputs": [],
   "source": [
    "x=1.0\n",
    "y=2.0\n",
    "x=y\n",
    "print(id(x))\n",
    "print(id(y))\n",
    "print(x is y)\n",
    "if x==y:\n",
    "    print('match')"
   ]
  },
  {
   "cell_type": "code",
   "execution_count": null,
   "metadata": {},
   "outputs": [],
   "source": [
    "#deep copy\n",
    "import copy\n",
    "a=5\n",
    "b=8\n",
    "c=copy.deepcopy(a)\n",
    "d=copy.deepcopy(b)\n",
    "print(a,b,c,d)\n",
    "print(id(a),id(b),id(c),id(d))\n",
    "print(c is a)\n",
    "print(d is b)\n",
    "c=5\n",
    "d=8\n",
    "e=5\n",
    "print(a,b,c,d)\n",
    "print(id(a),id(b),id(c),id(d),id(e))\n",
    "print(c is a)\n",
    "print(d is b)"
   ]
  },
  {
   "cell_type": "code",
   "execution_count": null,
   "metadata": {},
   "outputs": [],
   "source": [
    "#deep copy\n",
    "import copy\n",
    "a=5\n",
    "b=8\n",
    "c=copy.copy(a)\n",
    "d=copy.copy(b)\n",
    "print(a,b,c,d)\n",
    "print(id(a),id(b),id(c),id(d))\n",
    "c=9\n",
    "d=10\n",
    "print(a,b,c,d)\n",
    "print(id(a),id(b),id(c),id(d))\n",
    "print(c is a)\n",
    "print(d is b)"
   ]
  },
  {
   "cell_type": "code",
   "execution_count": null,
   "metadata": {},
   "outputs": [],
   "source": [
    "#shallow copy\n",
    "import copy\n",
    "a=[5,10]\n",
    "b=[8,11]\n",
    "c=copy.copy(a)\n",
    "d=copy.copy(b)\n",
    "print(a,b,c,d)\n",
    "print(id(a),id(b),id(c),id(d))\n",
    "print(c is a)\n",
    "print(d is b)\n",
    "c[0]=9\n",
    "d[0]=10\n",
    "print(a,b,c,d)\n",
    "print(id(a),id(b),id(c),id(d))\n",
    "print(c is a)\n",
    "print(d is b)"
   ]
  },
  {
   "cell_type": "code",
   "execution_count": null,
   "metadata": {},
   "outputs": [],
   "source": [
    "#deep copy\n",
    "import copy\n",
    "a=[5,10]\n",
    "b=[8,11]\n",
    "c=copy.deepcopy(a)\n",
    "d=copy.deepcopy(b)\n",
    "print(a,b,c,d)\n",
    "print(id(a),id(b),id(c),id(d))\n",
    "print(c is a)\n",
    "print(d is b)\n",
    "c[0]=9\n",
    "d[0]=10\n",
    "print(a,b,c,d)\n",
    "print(id(a),id(b),id(c),id(d))\n",
    "print(c is a)\n",
    "print(d is b)"
   ]
  },
  {
   "cell_type": "markdown",
   "metadata": {},
   "source": [
    "# for single variable all is shallow copy (=,copy.copy,copy,deepcopy):- It means that when they are copied the memory address will be same. And the memory address will be same until some new value is assigned to that variable and original variable value is not updated on updating the copy variable.\n"
   ]
  },
  {
   "cell_type": "markdown",
   "metadata": {},
   "source": [
    "# for list and dictionaries '=' is shallow copy:- it means that memory address of new copied element will be same as the original list and any change in copied list will reflect in original list. And copy.copy, copy.deepcopy and list1=list2[:] are deepcopy:- it means that when they are copied to new memory address and any change in any element will not be reflected in original variable."
   ]
  },
  {
   "cell_type": "markdown",
   "metadata": {},
   "source": [
    "# For composite list like list of list '=',copy.copy is shallow copy and copy.deepcopy is deepcopy"
   ]
  },
  {
   "cell_type": "code",
   "execution_count": 20,
   "metadata": {},
   "outputs": [
    {
     "name": "stdout",
     "output_type": "stream",
     "text": [
      "[5, 10, [1, 2]] [8, 11, [2, 3]] [5, 10, [1, 2]] [8, 11, [2, 3]]\n",
      "1937561761736 1937561049800 1937551981320 1937561762824\n",
      "False\n",
      "False\n",
      "[5, 10, [9, 2]] [8, 11, [2, 10]] [5, 10, [9, 2]] [8, 11, [2, 10]]\n",
      "1937561761736 1937561049800 1937551981320 1937561762824\n",
      "False\n",
      "False\n"
     ]
    }
   ],
   "source": [
    "#shallow copy in list of list\n",
    "import copy\n",
    "a=[5,10,[1,2]]\n",
    "b=[8,11,[2,3]]\n",
    "c=copy.copy(a)\n",
    "d=copy.copy(b)\n",
    "print(a,b,c,d)\n",
    "print(id(a),id(b),id(c),id(d))\n",
    "print(c is a)\n",
    "print(d is b)\n",
    "c[2][0]=9\n",
    "d[2][1]=10\n",
    "print(a,b,c,d)\n",
    "print(id(a),id(b),id(c),id(d))\n",
    "print(c is a)\n",
    "print(d is b)\n"
   ]
  },
  {
   "cell_type": "code",
   "execution_count": 21,
   "metadata": {},
   "outputs": [
    {
     "name": "stdout",
     "output_type": "stream",
     "text": [
      "{'1': 'abc', '2': 'cde'} {'1': 'abc', '2': 'cde'}\n",
      "False\n",
      "1937562669344 1937562669488\n",
      "{'1': 'abc', '2': 'cde'} {'1': 'xyz', '2': 'cde'}\n",
      "False\n",
      "1937562669344 1937562669488\n"
     ]
    }
   ],
   "source": [
    "dict1={'1':'abc','2':'cde'}\n",
    "dict2=copy.copy(dict1)\n",
    "print(dict1,dict2)\n",
    "print(dict2 is dict1)\n",
    "print(id(dict2),id(dict1))\n",
    "dict2['1']='xyz'\n",
    "print(dict1,dict2)\n",
    "print(dict2 is dict1)\n",
    "print(id(dict2),id(dict1))"
   ]
  },
  {
   "cell_type": "code",
   "execution_count": 22,
   "metadata": {},
   "outputs": [
    {
     "name": "stdout",
     "output_type": "stream",
     "text": [
      "{'1': 'abc', '2': 'cde'} {'1': 'abc', '2': 'cde'}\n",
      "True\n",
      "1937562669200 1937562669200\n",
      "{'1': 'xyz', '2': 'cde'} {'1': 'xyz', '2': 'cde'}\n",
      "True\n",
      "1937562669200 1937562669200\n"
     ]
    }
   ],
   "source": [
    "dict1={'1':'abc','2':'cde'}\n",
    "dict2=dict1\n",
    "print(dict1,dict2)\n",
    "print(dict2 is dict1)\n",
    "print(id(dict2),id(dict1))\n",
    "dict2['1']='xyz'\n",
    "print(dict1,dict2)\n",
    "print(dict2 is dict1)\n",
    "print(id(dict2),id(dict1))"
   ]
  },
  {
   "cell_type": "code",
   "execution_count": 23,
   "metadata": {},
   "outputs": [
    {
     "name": "stdout",
     "output_type": "stream",
     "text": [
      "{'1': 'abc', '2': 'cde'} {'1': 'abc', '2': 'cde'}\n",
      "True\n",
      "1937562669560 1937562669560\n",
      "{'1': 'xyz', '2': 'cde'} {'1': 'xyz', '2': 'cde'}\n",
      "True\n",
      "1937562669560 1937562669560\n"
     ]
    }
   ],
   "source": [
    "dict1={'1':'abc','2':'cde'}\n",
    "dict2=dict1\n",
    "print(dict1,dict2)\n",
    "print(dict2 is dict1)\n",
    "print(id(dict2),id(dict1))\n",
    "dict2['1']='xyz'\n",
    "print(dict1,dict2)\n",
    "print(dict2 is dict1)\n",
    "print(id(dict2),id(dict1))"
   ]
  },
  {
   "cell_type": "code",
   "execution_count": 24,
   "metadata": {},
   "outputs": [
    {
     "ename": "TypeError",
     "evalue": "'tuple' object does not support item assignment",
     "output_type": "error",
     "traceback": [
      "\u001b[1;31m---------------------------------------------------------------------------\u001b[0m",
      "\u001b[1;31mTypeError\u001b[0m                                 Traceback (most recent call last)",
      "\u001b[1;32m<ipython-input-24-a42f46ea3cb7>\u001b[0m in \u001b[0;36m<module>\u001b[1;34m\u001b[0m\n\u001b[0;32m      2\u001b[0m \u001b[0mt1\u001b[0m\u001b[1;33m=\u001b[0m\u001b[1;33m(\u001b[0m\u001b[1;36m1\u001b[0m\u001b[1;33m,\u001b[0m\u001b[1;36m2\u001b[0m\u001b[1;33m,\u001b[0m\u001b[1;36m3\u001b[0m\u001b[1;33m)\u001b[0m\u001b[1;33m\u001b[0m\u001b[1;33m\u001b[0m\u001b[0m\n\u001b[0;32m      3\u001b[0m \u001b[0ml1\u001b[0m\u001b[1;33m[\u001b[0m\u001b[1;36m1\u001b[0m\u001b[1;33m]\u001b[0m\u001b[1;33m=\u001b[0m\u001b[1;36m10\u001b[0m\u001b[1;33m\u001b[0m\u001b[1;33m\u001b[0m\u001b[0m\n\u001b[1;32m----> 4\u001b[1;33m \u001b[0mt1\u001b[0m\u001b[1;33m[\u001b[0m\u001b[1;36m1\u001b[0m\u001b[1;33m]\u001b[0m\u001b[1;33m=\u001b[0m\u001b[1;36m10\u001b[0m\u001b[1;33m\u001b[0m\u001b[1;33m\u001b[0m\u001b[0m\n\u001b[0m",
      "\u001b[1;31mTypeError\u001b[0m: 'tuple' object does not support item assignment"
     ]
    }
   ],
   "source": [
    "l1=[1,2,3]\n",
    "t1=(1,2,3)\n",
    "l1[1]=10\n",
    "t1[1]=10\n"
   ]
  },
  {
   "cell_type": "code",
   "execution_count": 26,
   "metadata": {},
   "outputs": [
    {
     "name": "stdout",
     "output_type": "stream",
     "text": [
      "[1, 2, 'hi'] (1, 2, 'hi')\n"
     ]
    }
   ],
   "source": [
    "l2=[1,2,'hi']\n",
    "t2=(1,2,'hi')\n",
    "print(l2,t2)"
   ]
  },
  {
   "cell_type": "code",
   "execution_count": 30,
   "metadata": {},
   "outputs": [
    {
     "name": "stdout",
     "output_type": "stream",
     "text": [
      "0.0\n"
     ]
    }
   ],
   "source": [
    "k=1//float(2.2)\n",
    "print(k)"
   ]
  },
  {
   "cell_type": "code",
   "execution_count": 35,
   "metadata": {},
   "outputs": [
    {
     "name": "stdout",
     "output_type": "stream",
     "text": [
      "140720748279184 140720748279184\n",
      "b is : 19\n",
      "140720748279184\n",
      "19\n",
      "140720748278960 140720748279184\n",
      "12\n",
      "19\n"
     ]
    }
   ],
   "source": [
    "a = 19\n",
    "b = a\n",
    "print(id(a),id(b))\n",
    "print('b is :', b)\n",
    "del a\n",
    "print(id(b))\n",
    "print(b)\n",
    "a = 12\n",
    "print(id(a),id(b))\n",
    "print(a)\n",
    "print(b)"
   ]
  },
  {
   "cell_type": "code",
   "execution_count": 55,
   "metadata": {},
   "outputs": [
    {
     "name": "stdout",
     "output_type": "stream",
     "text": [
      "[1, 3, 5, 7, 9]\n"
     ]
    }
   ],
   "source": [
    "print(list(range(1,10,2)))\n",
    "#print(k)\n",
    "\n"
   ]
  },
  {
   "cell_type": "code",
   "execution_count": 63,
   "metadata": {},
   "outputs": [
    {
     "name": "stdout",
     "output_type": "stream",
     "text": [
      "['t', 'h', 'i', 's', ' ', 'bye', 's', ' ', 's', 'p', 'a', 'r', 't', 'a']\n"
     ]
    }
   ],
   "source": [
    "s1='this is sparta'\n",
    "s2=list(s1)\n",
    "s2[5]='bye'\n",
    "#s1=''.join(s2)\n",
    "s1=s2\n",
    "print(s1)"
   ]
  }
 ],
 "metadata": {
  "kernelspec": {
   "display_name": "Python 3",
   "language": "python",
   "name": "python3"
  },
  "language_info": {
   "codemirror_mode": {
    "name": "ipython",
    "version": 3
   },
   "file_extension": ".py",
   "mimetype": "text/x-python",
   "name": "python",
   "nbconvert_exporter": "python",
   "pygments_lexer": "ipython3",
   "version": "3.7.1"
  }
 },
 "nbformat": 4,
 "nbformat_minor": 2
}
