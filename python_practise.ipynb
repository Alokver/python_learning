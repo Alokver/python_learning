{
 "cells": [
  {
   "cell_type": "code",
   "execution_count": 10,
   "metadata": {},
   "outputs": [
    {
     "name": "stdout",
     "output_type": "stream",
     "text": [
      "hello world\n"
     ]
    }
   ],
   "source": [
    "print(\"hello world\")"
   ]
  },
  {
   "cell_type": "code",
   "execution_count": 2,
   "metadata": {},
   "outputs": [],
   "source": [
    "var=\"hello World\""
   ]
  },
  {
   "cell_type": "code",
   "execution_count": 3,
   "metadata": {},
   "outputs": [
    {
     "name": "stdout",
     "output_type": "stream",
     "text": [
      "hello World\n"
     ]
    }
   ],
   "source": [
    "print(var)"
   ]
  },
  {
   "cell_type": "code",
   "execution_count": 4,
   "metadata": {},
   "outputs": [
    {
     "data": {
      "text/plain": [
       "'hello World'"
      ]
     },
     "execution_count": 4,
     "metadata": {},
     "output_type": "execute_result"
    }
   ],
   "source": [
    "var"
   ]
  },
  {
   "cell_type": "code",
   "execution_count": 5,
   "metadata": {
    "scrolled": true
   },
   "outputs": [
    {
     "data": {
      "text/plain": [
       "'hello world'"
      ]
     },
     "execution_count": 5,
     "metadata": {},
     "output_type": "execute_result"
    }
   ],
   "source": [
    "\"hello world\""
   ]
  },
  {
   "cell_type": "code",
   "execution_count": 7,
   "metadata": {},
   "outputs": [
    {
     "data": {
      "text/plain": [
       "3"
      ]
     },
     "execution_count": 7,
     "metadata": {},
     "output_type": "execute_result"
    }
   ],
   "source": [
    "1+2"
   ]
  },
  {
   "cell_type": "code",
   "execution_count": 8,
   "metadata": {},
   "outputs": [
    {
     "data": {
      "text/plain": [
       "1"
      ]
     },
     "execution_count": 8,
     "metadata": {},
     "output_type": "execute_result"
    }
   ],
   "source": [
    "1"
   ]
  },
  {
   "cell_type": "code",
   "execution_count": 9,
   "metadata": {},
   "outputs": [
    {
     "data": {
      "text/plain": [
       "'hello World'"
      ]
     },
     "execution_count": 9,
     "metadata": {},
     "output_type": "execute_result"
    }
   ],
   "source": [
    "var"
   ]
  },
  {
   "cell_type": "code",
   "execution_count": 11,
   "metadata": {},
   "outputs": [],
   "source": [
    "var=2"
   ]
  },
  {
   "cell_type": "code",
   "execution_count": 22,
   "metadata": {},
   "outputs": [
    {
     "name": "stdout",
     "output_type": "stream",
     "text": [
      "hello my \n"
     ]
    }
   ],
   "source": [
    "var=\"hello \"\n",
    "var2=\"my \"\n",
    "print(var+var2)"
   ]
  },
  {
   "cell_type": "code",
   "execution_count": 23,
   "metadata": {},
   "outputs": [
    {
     "name": "stdout",
     "output_type": "stream",
     "text": [
      "2var\n"
     ]
    }
   ],
   "source": [
    "j=2\n",
    "i=\"var\"\n",
    "print(str(j)+i)"
   ]
  },
  {
   "cell_type": "code",
   "execution_count": 24,
   "metadata": {},
   "outputs": [
    {
     "name": "stdout",
     "output_type": "stream",
     "text": [
      "3\n"
     ]
    }
   ],
   "source": [
    "i=1\n",
    "j=2\n",
    "print(i+j)"
   ]
  },
  {
   "cell_type": "code",
   "execution_count": 25,
   "metadata": {},
   "outputs": [
    {
     "data": {
      "text/plain": [
       "6"
      ]
     },
     "execution_count": 25,
     "metadata": {},
     "output_type": "execute_result"
    }
   ],
   "source": [
    "2*3"
   ]
  },
  {
   "cell_type": "code",
   "execution_count": 28,
   "metadata": {},
   "outputs": [
    {
     "data": {
      "text/plain": [
       "32"
      ]
     },
     "execution_count": 28,
     "metadata": {},
     "output_type": "execute_result"
    }
   ],
   "source": [
    "2**5"
   ]
  },
  {
   "cell_type": "code",
   "execution_count": 29,
   "metadata": {},
   "outputs": [
    {
     "ename": "SyntaxError",
     "evalue": "invalid syntax (<ipython-input-29-68e1e7cb0613>, line 1)",
     "output_type": "error",
     "traceback": [
      "\u001b[1;36m  File \u001b[1;32m\"<ipython-input-29-68e1e7cb0613>\"\u001b[1;36m, line \u001b[1;32m1\u001b[0m\n\u001b[1;33m    3***2\u001b[0m\n\u001b[1;37m       ^\u001b[0m\n\u001b[1;31mSyntaxError\u001b[0m\u001b[1;31m:\u001b[0m invalid syntax\n"
     ]
    }
   ],
   "source": [
    "3**2"
   ]
  },
  {
   "cell_type": "code",
   "execution_count": 19,
   "metadata": {},
   "outputs": [
    {
     "name": "stdout",
     "output_type": "stream",
     "text": [
      "1\n",
      "2\n",
      "140721270010704\n",
      "140721270010736\n",
      "False\n"
     ]
    }
   ],
   "source": [
    "#deep copy\n",
    "a=1\n",
    "b=a\n",
    "b=2\n",
    "print(a)\n",
    "print(b)\n",
    "print(id(a))\n",
    "print(id(b))\n",
    "print(a is b)"
   ]
  },
  {
   "cell_type": "code",
   "execution_count": 4,
   "metadata": {},
   "outputs": [
    {
     "name": "stdout",
     "output_type": "stream",
     "text": [
      "[5, 2, 3]\n",
      "[5, 2, 3]\n",
      "1560757618632\n",
      "1560757618632\n"
     ]
    }
   ],
   "source": [
    "#shallow copy\n",
    "a=[1,2,3]\n",
    "b=a\n",
    "b[0]=5\n",
    "print(a)\n",
    "print(b)\n",
    "print(id(a))\n",
    "print(id(b))"
   ]
  },
  {
   "cell_type": "code",
   "execution_count": 34,
   "metadata": {},
   "outputs": [
    {
     "ename": "TypeError",
     "evalue": "unsupported operand type(s) for ** or pow(): 'str' and 'int'",
     "output_type": "error",
     "traceback": [
      "\u001b[1;31m---------------------------------------------------------------------------\u001b[0m",
      "\u001b[1;31mTypeError\u001b[0m                                 Traceback (most recent call last)",
      "\u001b[1;32m<ipython-input-34-0556d1d77427>\u001b[0m in \u001b[0;36m<module>\u001b[1;34m\u001b[0m\n\u001b[0;32m      1\u001b[0m \u001b[0ma\u001b[0m\u001b[1;33m=\u001b[0m\u001b[1;34m\"hi\"\u001b[0m\u001b[1;33m\u001b[0m\u001b[1;33m\u001b[0m\u001b[0m\n\u001b[1;32m----> 2\u001b[1;33m \u001b[0ma\u001b[0m\u001b[1;33m**\u001b[0m\u001b[1;36m3\u001b[0m\u001b[1;33m\u001b[0m\u001b[1;33m\u001b[0m\u001b[0m\n\u001b[0m",
      "\u001b[1;31mTypeError\u001b[0m: unsupported operand type(s) for ** or pow(): 'str' and 'int'"
     ]
    }
   ],
   "source": [
    "a=\"hi\"\n",
    "a**3"
   ]
  },
  {
   "cell_type": "code",
   "execution_count": 52,
   "metadata": {},
   "outputs": [
    {
     "name": "stdout",
     "output_type": "stream",
     "text": [
      "2023031317320\n",
      "2023031317320\n",
      "True\n",
      "match\n"
     ]
    }
   ],
   "source": [
    "x=1.0\n",
    "y=2.0\n",
    "x=y\n",
    "print(id(x))\n",
    "print(id(y))\n",
    "print(x is y)\n",
    "if x==y:\n",
    "    print('match')"
   ]
  },
  {
   "cell_type": "code",
   "execution_count": 27,
   "metadata": {},
   "outputs": [
    {
     "name": "stdout",
     "output_type": "stream",
     "text": [
      "5 8 5 8\n",
      "140721270010832 140721270010928 140721270010832 140721270010928\n",
      "True\n",
      "True\n",
      "5 8 5 8\n",
      "140721270010832 140721270010928 140721270010832 140721270010928 140721270010832\n",
      "True\n",
      "True\n"
     ]
    }
   ],
   "source": [
    "#deep copy\n",
    "import copy\n",
    "a=5\n",
    "b=8\n",
    "c=copy.deepcopy(a)\n",
    "d=copy.deepcopy(b)\n",
    "print(a,b,c,d)\n",
    "print(id(a),id(b),id(c),id(d))\n",
    "print(c is a)\n",
    "print(d is b)\n",
    "c=5\n",
    "d=8\n",
    "e=5\n",
    "print(a,b,c,d)\n",
    "print(id(a),id(b),id(c),id(d),id(e))\n",
    "print(c is a)\n",
    "print(d is b)"
   ]
  },
  {
   "cell_type": "code",
   "execution_count": 28,
   "metadata": {},
   "outputs": [
    {
     "name": "stdout",
     "output_type": "stream",
     "text": [
      "5 8 5 8\n",
      "140721270010832 140721270010928 140721270010832 140721270010928\n",
      "5 8 9 10\n",
      "140721270010832 140721270010928 140721270010960 140721270010992\n",
      "False\n",
      "False\n"
     ]
    }
   ],
   "source": [
    "#deep copy\n",
    "import copy\n",
    "a=5\n",
    "b=8\n",
    "c=copy.copy(a)\n",
    "d=copy.copy(b)\n",
    "print(a,b,c,d)\n",
    "print(id(a),id(b),id(c),id(d))\n",
    "c=9\n",
    "d=10\n",
    "print(a,b,c,d)\n",
    "print(id(a),id(b),id(c),id(d))\n",
    "print(c is a)\n",
    "print(d is b)"
   ]
  },
  {
   "cell_type": "code",
   "execution_count": 32,
   "metadata": {},
   "outputs": [
    {
     "name": "stdout",
     "output_type": "stream",
     "text": [
      "[5, 10] [8, 11] [5, 10] [8, 11]\n",
      "1560758630152 1560757688904 1560758608520 1560758638408\n",
      "False\n",
      "False\n",
      "[5, 10] [8, 11] [9, 10] [10, 11]\n",
      "1560758630152 1560757688904 1560758608520 1560758638408\n",
      "False\n",
      "False\n"
     ]
    }
   ],
   "source": [
    "#shallow copy\n",
    "import copy\n",
    "a=[5,10]\n",
    "b=[8,11]\n",
    "c=copy.copy(a)\n",
    "d=copy.copy(b)\n",
    "print(a,b,c,d)\n",
    "print(id(a),id(b),id(c),id(d))\n",
    "print(c is a)\n",
    "print(d is b)\n",
    "c[0]=9\n",
    "d[0]=10\n",
    "print(a,b,c,d)\n",
    "print(id(a),id(b),id(c),id(d))\n",
    "print(c is a)\n",
    "print(d is b)"
   ]
  },
  {
   "cell_type": "code",
   "execution_count": 31,
   "metadata": {},
   "outputs": [
    {
     "name": "stdout",
     "output_type": "stream",
     "text": [
      "[5, 10] [8, 11] [5, 10] [8, 11]\n",
      "1560758608520 1560758638408 1560758637128 1560758631240\n",
      "False\n",
      "False\n",
      "[5, 10] [8, 11] [9, 10] [10, 11]\n",
      "1560758608520 1560758638408 1560758637128 1560758631240\n",
      "False\n",
      "False\n"
     ]
    }
   ],
   "source": [
    "#deep copy\n",
    "import copy\n",
    "a=[5,10]\n",
    "b=[8,11]\n",
    "c=copy.deepcopy(a)\n",
    "d=copy.deepcopy(b)\n",
    "print(a,b,c,d)\n",
    "print(id(a),id(b),id(c),id(d))\n",
    "print(c is a)\n",
    "print(d is b)\n",
    "c[0]=9\n",
    "d[0]=10\n",
    "print(a,b,c,d)\n",
    "print(id(a),id(b),id(c),id(d))\n",
    "print(c is a)\n",
    "print(d is b)"
   ]
  },
  {
   "cell_type": "markdown",
   "metadata": {},
   "source": [
    "# for single variable all is deep copy (=,copy.copy,copy,deepcopy):- It means that when they are copied the memory address will be same. And the memory address will be same until some new value is assigned to that variable and original variable value is not updated on updating the copy variable.\n"
   ]
  },
  {
   "cell_type": "markdown",
   "metadata": {},
   "source": [
    "# for list and dictionaries '=' is shallow copy:- it means that memory address of new copied element will be same as the original list and any change in copied list will reflect in original list. And copy.copy, copy.deepcopy and list1=list2[:] are deepcopy:- it means that when they are copied to new memory address and any change in any element will not be reflected in original variable."
   ]
  },
  {
   "cell_type": "markdown",
   "metadata": {},
   "source": [
    "# For composite list like list of list '=',copy.copy is shallow copy and copy.deepcopy is deepcopy"
   ]
  },
  {
   "cell_type": "code",
   "execution_count": 37,
   "metadata": {},
   "outputs": [
    {
     "name": "stdout",
     "output_type": "stream",
     "text": [
      "[5, 10, [1, 2]] [8, 11, [2, 3]] [5, 10, [1, 2]] [8, 11, [2, 3]]\n",
      "1560758638536 1560758636936 1560758608520 1560759260040\n",
      "False\n",
      "False\n",
      "[5, 10, [9, 2]] [8, 11, [2, 10]] [5, 10, [9, 2]] [8, 11, [2, 10]]\n",
      "1560758638536 1560758636936 1560758608520 1560759260040\n",
      "False\n",
      "False\n"
     ]
    }
   ],
   "source": [
    "#shallow copy in list of list\n",
    "import copy\n",
    "a=[5,10,[1,2]]\n",
    "b=[8,11,[2,3]]\n",
    "c=copy.copy(a)\n",
    "d=copy.copy(b)\n",
    "print(a,b,c,d)\n",
    "print(id(a),id(b),id(c),id(d))\n",
    "print(c is a)\n",
    "print(d is b)\n",
    "c[2][0]=9\n",
    "d[2][1]=10\n",
    "print(a,b,c,d)\n",
    "print(id(a),id(b),id(c),id(d))\n",
    "print(c is a)\n",
    "print(d is b)\n"
   ]
  },
  {
   "cell_type": "code",
   "execution_count": 42,
   "metadata": {},
   "outputs": [
    {
     "name": "stdout",
     "output_type": "stream",
     "text": [
      "{'1': 'abc', '2': 'cde'} {'1': 'abc', '2': 'cde'}\n",
      "False\n",
      "1560758464376 1560758641504\n",
      "{'1': 'abc', '2': 'cde'} {'1': 'xyz', '2': 'cde'}\n",
      "False\n",
      "1560758464376 1560758641504\n"
     ]
    }
   ],
   "source": [
    "dict1={'1':'abc','2':'cde'}\n",
    "dict2=copy.copy(dict1)\n",
    "print(dict1,dict2)\n",
    "print(dict2 is dict1)\n",
    "print(id(dict2),id(dict1))\n",
    "dict2['1']='xyz'\n",
    "print(dict1,dict2)\n",
    "print(dict2 is dict1)\n",
    "print(id(dict2),id(dict1))"
   ]
  },
  {
   "cell_type": "code",
   "execution_count": 43,
   "metadata": {},
   "outputs": [
    {
     "name": "stdout",
     "output_type": "stream",
     "text": [
      "{'1': 'abc', '2': 'cde'} {'1': 'abc', '2': 'cde'}\n",
      "True\n",
      "1560758642368 1560758642368\n",
      "{'1': 'xyz', '2': 'cde'} {'1': 'xyz', '2': 'cde'}\n",
      "True\n",
      "1560758642368 1560758642368\n"
     ]
    }
   ],
   "source": [
    "dict1={'1':'abc','2':'cde'}\n",
    "dict2=dict1\n",
    "print(dict1,dict2)\n",
    "print(dict2 is dict1)\n",
    "print(id(dict2),id(dict1))\n",
    "dict2['1']='xyz'\n",
    "print(dict1,dict2)\n",
    "print(dict2 is dict1)\n",
    "print(id(dict2),id(dict1))"
   ]
  },
  {
   "cell_type": "code",
   "execution_count": null,
   "metadata": {},
   "outputs": [],
   "source": [
    "dict1={'1':'abc','2':'cde'}\n",
    "dict2=dict1\n",
    "print(dict1,dict2)\n",
    "print(dict2 is dict1)\n",
    "print(id(dict2),id(dict1))\n",
    "dict2['1']='xyz'\n",
    "print(dict1,dict2)\n",
    "print(dict2 is dict1)\n",
    "print(id(dict2),id(dict1))"
   ]
  },
  {
   "cell_type": "code",
   "execution_count": null,
   "metadata": {},
   "outputs": [],
   "source": []
  }
 ],
 "metadata": {
  "kernelspec": {
   "display_name": "Python 3",
   "language": "python",
   "name": "python3"
  },
  "language_info": {
   "codemirror_mode": {
    "name": "ipython",
    "version": 3
   },
   "file_extension": ".py",
   "mimetype": "text/x-python",
   "name": "python",
   "nbconvert_exporter": "python",
   "pygments_lexer": "ipython3",
   "version": "3.7.1"
  }
 },
 "nbformat": 4,
 "nbformat_minor": 2
}
